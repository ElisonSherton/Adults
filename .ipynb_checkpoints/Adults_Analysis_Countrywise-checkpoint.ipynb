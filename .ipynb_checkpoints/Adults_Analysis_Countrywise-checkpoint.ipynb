{
 "cells": [
  {
   "cell_type": "code",
   "execution_count": 1,
   "metadata": {},
   "outputs": [],
   "source": [
    "import os\n",
    "import pandas as pd\n",
    "import numpy as np\n",
    "import rpy2\n",
    "%load_ext rpy2.ipython\n",
    "\n",
    "import warnings\n",
    "warnings.filterwarnings(\"ignore\")"
   ]
  },
  {
   "cell_type": "code",
   "execution_count": 2,
   "metadata": {},
   "outputs": [],
   "source": [
    "os.chdir(\"C:\\\\Users\\\\nayak\\\\Desktop\\\\INSOFE\\\\My_Python_Scripts\\\\Adults\")\n",
    "data = pd.read_csv(\"adult.csv\", header = None)\n",
    "original = data.copy()"
   ]
  },
  {
   "cell_type": "code",
   "execution_count": 3,
   "metadata": {},
   "outputs": [
    {
     "data": {
      "text/html": [
       "<div>\n",
       "<style scoped>\n",
       "    .dataframe tbody tr th:only-of-type {\n",
       "        vertical-align: middle;\n",
       "    }\n",
       "\n",
       "    .dataframe tbody tr th {\n",
       "        vertical-align: top;\n",
       "    }\n",
       "\n",
       "    .dataframe thead th {\n",
       "        text-align: right;\n",
       "    }\n",
       "</style>\n",
       "<table border=\"1\" class=\"dataframe\">\n",
       "  <thead>\n",
       "    <tr style=\"text-align: right;\">\n",
       "      <th></th>\n",
       "      <th>0</th>\n",
       "      <th>1</th>\n",
       "      <th>2</th>\n",
       "      <th>3</th>\n",
       "      <th>4</th>\n",
       "      <th>5</th>\n",
       "      <th>6</th>\n",
       "      <th>7</th>\n",
       "      <th>8</th>\n",
       "      <th>9</th>\n",
       "      <th>10</th>\n",
       "      <th>11</th>\n",
       "      <th>12</th>\n",
       "      <th>13</th>\n",
       "      <th>14</th>\n",
       "    </tr>\n",
       "  </thead>\n",
       "  <tbody>\n",
       "    <tr>\n",
       "      <th>0</th>\n",
       "      <td>39</td>\n",
       "      <td>State-gov</td>\n",
       "      <td>77516</td>\n",
       "      <td>Bachelors</td>\n",
       "      <td>13</td>\n",
       "      <td>Never-married</td>\n",
       "      <td>Adm-clerical</td>\n",
       "      <td>Not-in-family</td>\n",
       "      <td>White</td>\n",
       "      <td>Male</td>\n",
       "      <td>2174</td>\n",
       "      <td>0</td>\n",
       "      <td>40</td>\n",
       "      <td>United-States</td>\n",
       "      <td>&lt;=50K</td>\n",
       "    </tr>\n",
       "    <tr>\n",
       "      <th>1</th>\n",
       "      <td>50</td>\n",
       "      <td>Self-emp-not-inc</td>\n",
       "      <td>83311</td>\n",
       "      <td>Bachelors</td>\n",
       "      <td>13</td>\n",
       "      <td>Married-civ-spouse</td>\n",
       "      <td>Exec-managerial</td>\n",
       "      <td>Husband</td>\n",
       "      <td>White</td>\n",
       "      <td>Male</td>\n",
       "      <td>0</td>\n",
       "      <td>0</td>\n",
       "      <td>13</td>\n",
       "      <td>United-States</td>\n",
       "      <td>&lt;=50K</td>\n",
       "    </tr>\n",
       "    <tr>\n",
       "      <th>2</th>\n",
       "      <td>38</td>\n",
       "      <td>Private</td>\n",
       "      <td>215646</td>\n",
       "      <td>HS-grad</td>\n",
       "      <td>9</td>\n",
       "      <td>Divorced</td>\n",
       "      <td>Handlers-cleaners</td>\n",
       "      <td>Not-in-family</td>\n",
       "      <td>White</td>\n",
       "      <td>Male</td>\n",
       "      <td>0</td>\n",
       "      <td>0</td>\n",
       "      <td>40</td>\n",
       "      <td>United-States</td>\n",
       "      <td>&lt;=50K</td>\n",
       "    </tr>\n",
       "    <tr>\n",
       "      <th>3</th>\n",
       "      <td>53</td>\n",
       "      <td>Private</td>\n",
       "      <td>234721</td>\n",
       "      <td>11th</td>\n",
       "      <td>7</td>\n",
       "      <td>Married-civ-spouse</td>\n",
       "      <td>Handlers-cleaners</td>\n",
       "      <td>Husband</td>\n",
       "      <td>Black</td>\n",
       "      <td>Male</td>\n",
       "      <td>0</td>\n",
       "      <td>0</td>\n",
       "      <td>40</td>\n",
       "      <td>United-States</td>\n",
       "      <td>&lt;=50K</td>\n",
       "    </tr>\n",
       "    <tr>\n",
       "      <th>4</th>\n",
       "      <td>28</td>\n",
       "      <td>Private</td>\n",
       "      <td>338409</td>\n",
       "      <td>Bachelors</td>\n",
       "      <td>13</td>\n",
       "      <td>Married-civ-spouse</td>\n",
       "      <td>Prof-specialty</td>\n",
       "      <td>Wife</td>\n",
       "      <td>Black</td>\n",
       "      <td>Female</td>\n",
       "      <td>0</td>\n",
       "      <td>0</td>\n",
       "      <td>40</td>\n",
       "      <td>Cuba</td>\n",
       "      <td>&lt;=50K</td>\n",
       "    </tr>\n",
       "  </tbody>\n",
       "</table>\n",
       "</div>"
      ],
      "text/plain": [
       "   0                  1       2           3   4                    5   \\\n",
       "0  39          State-gov   77516   Bachelors  13        Never-married   \n",
       "1  50   Self-emp-not-inc   83311   Bachelors  13   Married-civ-spouse   \n",
       "2  38            Private  215646     HS-grad   9             Divorced   \n",
       "3  53            Private  234721        11th   7   Married-civ-spouse   \n",
       "4  28            Private  338409   Bachelors  13   Married-civ-spouse   \n",
       "\n",
       "                   6               7       8        9     10  11  12  \\\n",
       "0        Adm-clerical   Not-in-family   White     Male  2174   0  40   \n",
       "1     Exec-managerial         Husband   White     Male     0   0  13   \n",
       "2   Handlers-cleaners   Not-in-family   White     Male     0   0  40   \n",
       "3   Handlers-cleaners         Husband   Black     Male     0   0  40   \n",
       "4      Prof-specialty            Wife   Black   Female     0   0  40   \n",
       "\n",
       "               13      14  \n",
       "0   United-States   <=50K  \n",
       "1   United-States   <=50K  \n",
       "2   United-States   <=50K  \n",
       "3   United-States   <=50K  \n",
       "4            Cuba   <=50K  "
      ]
     },
     "execution_count": 3,
     "metadata": {},
     "output_type": "execute_result"
    }
   ],
   "source": [
    "data.head()"
   ]
  },
  {
   "cell_type": "code",
   "execution_count": 4,
   "metadata": {},
   "outputs": [],
   "source": [
    "cols = ['age', 'workclass', 'fnlwgt', 'education', 'education_num', 'marital_status', 'occupation',\\\n",
    "       'relationship','race','sex', 'capital_gain', 'capital_loss','hours_per_week', 'native_country','income']\n",
    "data.columns = cols\n",
    "original.columns = cols"
   ]
  },
  {
   "cell_type": "code",
   "execution_count": 5,
   "metadata": {},
   "outputs": [
    {
     "data": {
      "text/html": [
       "<div>\n",
       "<style scoped>\n",
       "    .dataframe tbody tr th:only-of-type {\n",
       "        vertical-align: middle;\n",
       "    }\n",
       "\n",
       "    .dataframe tbody tr th {\n",
       "        vertical-align: top;\n",
       "    }\n",
       "\n",
       "    .dataframe thead th {\n",
       "        text-align: right;\n",
       "    }\n",
       "</style>\n",
       "<table border=\"1\" class=\"dataframe\">\n",
       "  <thead>\n",
       "    <tr style=\"text-align: right;\">\n",
       "      <th></th>\n",
       "      <th>age</th>\n",
       "      <th>workclass</th>\n",
       "      <th>fnlwgt</th>\n",
       "      <th>education</th>\n",
       "      <th>education_num</th>\n",
       "      <th>marital_status</th>\n",
       "      <th>occupation</th>\n",
       "      <th>relationship</th>\n",
       "      <th>race</th>\n",
       "      <th>sex</th>\n",
       "      <th>capital_gain</th>\n",
       "      <th>capital_loss</th>\n",
       "      <th>hours_per_week</th>\n",
       "      <th>native_country</th>\n",
       "      <th>income</th>\n",
       "    </tr>\n",
       "  </thead>\n",
       "  <tbody>\n",
       "    <tr>\n",
       "      <th>32556</th>\n",
       "      <td>27</td>\n",
       "      <td>Private</td>\n",
       "      <td>257302</td>\n",
       "      <td>Assoc-acdm</td>\n",
       "      <td>12</td>\n",
       "      <td>Married-civ-spouse</td>\n",
       "      <td>Tech-support</td>\n",
       "      <td>Wife</td>\n",
       "      <td>White</td>\n",
       "      <td>Female</td>\n",
       "      <td>0</td>\n",
       "      <td>0</td>\n",
       "      <td>38</td>\n",
       "      <td>United-States</td>\n",
       "      <td>&lt;=50K</td>\n",
       "    </tr>\n",
       "    <tr>\n",
       "      <th>32557</th>\n",
       "      <td>40</td>\n",
       "      <td>Private</td>\n",
       "      <td>154374</td>\n",
       "      <td>HS-grad</td>\n",
       "      <td>9</td>\n",
       "      <td>Married-civ-spouse</td>\n",
       "      <td>Machine-op-inspct</td>\n",
       "      <td>Husband</td>\n",
       "      <td>White</td>\n",
       "      <td>Male</td>\n",
       "      <td>0</td>\n",
       "      <td>0</td>\n",
       "      <td>40</td>\n",
       "      <td>United-States</td>\n",
       "      <td>&gt;50K</td>\n",
       "    </tr>\n",
       "    <tr>\n",
       "      <th>32558</th>\n",
       "      <td>58</td>\n",
       "      <td>Private</td>\n",
       "      <td>151910</td>\n",
       "      <td>HS-grad</td>\n",
       "      <td>9</td>\n",
       "      <td>Widowed</td>\n",
       "      <td>Adm-clerical</td>\n",
       "      <td>Unmarried</td>\n",
       "      <td>White</td>\n",
       "      <td>Female</td>\n",
       "      <td>0</td>\n",
       "      <td>0</td>\n",
       "      <td>40</td>\n",
       "      <td>United-States</td>\n",
       "      <td>&lt;=50K</td>\n",
       "    </tr>\n",
       "    <tr>\n",
       "      <th>32559</th>\n",
       "      <td>22</td>\n",
       "      <td>Private</td>\n",
       "      <td>201490</td>\n",
       "      <td>HS-grad</td>\n",
       "      <td>9</td>\n",
       "      <td>Never-married</td>\n",
       "      <td>Adm-clerical</td>\n",
       "      <td>Own-child</td>\n",
       "      <td>White</td>\n",
       "      <td>Male</td>\n",
       "      <td>0</td>\n",
       "      <td>0</td>\n",
       "      <td>20</td>\n",
       "      <td>United-States</td>\n",
       "      <td>&lt;=50K</td>\n",
       "    </tr>\n",
       "    <tr>\n",
       "      <th>32560</th>\n",
       "      <td>52</td>\n",
       "      <td>Self-emp-inc</td>\n",
       "      <td>287927</td>\n",
       "      <td>HS-grad</td>\n",
       "      <td>9</td>\n",
       "      <td>Married-civ-spouse</td>\n",
       "      <td>Exec-managerial</td>\n",
       "      <td>Wife</td>\n",
       "      <td>White</td>\n",
       "      <td>Female</td>\n",
       "      <td>15024</td>\n",
       "      <td>0</td>\n",
       "      <td>40</td>\n",
       "      <td>United-States</td>\n",
       "      <td>&gt;50K</td>\n",
       "    </tr>\n",
       "  </tbody>\n",
       "</table>\n",
       "</div>"
      ],
      "text/plain": [
       "       age      workclass  fnlwgt    education  education_num  \\\n",
       "32556   27        Private  257302   Assoc-acdm             12   \n",
       "32557   40        Private  154374      HS-grad              9   \n",
       "32558   58        Private  151910      HS-grad              9   \n",
       "32559   22        Private  201490      HS-grad              9   \n",
       "32560   52   Self-emp-inc  287927      HS-grad              9   \n",
       "\n",
       "            marital_status          occupation relationship    race      sex  \\\n",
       "32556   Married-civ-spouse        Tech-support         Wife   White   Female   \n",
       "32557   Married-civ-spouse   Machine-op-inspct      Husband   White     Male   \n",
       "32558              Widowed        Adm-clerical    Unmarried   White   Female   \n",
       "32559        Never-married        Adm-clerical    Own-child   White     Male   \n",
       "32560   Married-civ-spouse     Exec-managerial         Wife   White   Female   \n",
       "\n",
       "       capital_gain  capital_loss  hours_per_week  native_country  income  \n",
       "32556             0             0              38   United-States   <=50K  \n",
       "32557             0             0              40   United-States    >50K  \n",
       "32558             0             0              40   United-States   <=50K  \n",
       "32559             0             0              20   United-States   <=50K  \n",
       "32560         15024             0              40   United-States    >50K  "
      ]
     },
     "execution_count": 5,
     "metadata": {},
     "output_type": "execute_result"
    }
   ],
   "source": [
    "data.tail()"
   ]
  },
  {
   "cell_type": "code",
   "execution_count": 6,
   "metadata": {},
   "outputs": [
    {
     "data": {
      "text/plain": [
       "age                int64\n",
       "workclass         object\n",
       "fnlwgt             int64\n",
       "education         object\n",
       "education_num      int64\n",
       "marital_status    object\n",
       "occupation        object\n",
       "relationship      object\n",
       "race              object\n",
       "sex               object\n",
       "capital_gain       int64\n",
       "capital_loss       int64\n",
       "hours_per_week     int64\n",
       "native_country    object\n",
       "income            object\n",
       "dtype: object"
      ]
     },
     "execution_count": 6,
     "metadata": {},
     "output_type": "execute_result"
    }
   ],
   "source": [
    "data.dtypes"
   ]
  },
  {
   "cell_type": "code",
   "execution_count": 7,
   "metadata": {},
   "outputs": [
    {
     "data": {
      "text/plain": [
       "(32561, 15)"
      ]
     },
     "execution_count": 7,
     "metadata": {},
     "output_type": "execute_result"
    }
   ],
   "source": [
    "data.shape"
   ]
  },
  {
   "cell_type": "code",
   "execution_count": 8,
   "metadata": {},
   "outputs": [
    {
     "data": {
      "text/plain": [
       " <=50K    76.0\n",
       " >50K     24.0\n",
       "Name: income, dtype: float64"
      ]
     },
     "execution_count": 8,
     "metadata": {},
     "output_type": "execute_result"
    }
   ],
   "source": [
    "100 * np.round(data.income.value_counts()/data.shape[0], 2)"
   ]
  },
  {
   "cell_type": "code",
   "execution_count": 9,
   "metadata": {},
   "outputs": [
    {
     "data": {
      "text/plain": [
       "age                  73\n",
       "workclass             9\n",
       "fnlwgt            21648\n",
       "education            16\n",
       "education_num        16\n",
       "marital_status        7\n",
       "occupation           15\n",
       "relationship          6\n",
       "race                  5\n",
       "sex                   2\n",
       "capital_gain        119\n",
       "capital_loss         92\n",
       "hours_per_week       94\n",
       "native_country       42\n",
       "income                2\n",
       "dtype: int64"
      ]
     },
     "execution_count": 9,
     "metadata": {},
     "output_type": "execute_result"
    }
   ],
   "source": [
    "data.nunique()"
   ]
  },
  {
   "cell_type": "markdown",
   "metadata": {},
   "source": [
    "Looking at the education and education_num column, since they've both got the same number of levels, and also similar connotations, they need to be inspected further. As in, are they essentially the same or are they different?"
   ]
  },
  {
   "cell_type": "code",
   "execution_count": 10,
   "metadata": {},
   "outputs": [
    {
     "data": {
      "text/html": [
       "<div>\n",
       "<style scoped>\n",
       "    .dataframe tbody tr th:only-of-type {\n",
       "        vertical-align: middle;\n",
       "    }\n",
       "\n",
       "    .dataframe tbody tr th {\n",
       "        vertical-align: top;\n",
       "    }\n",
       "\n",
       "    .dataframe thead th {\n",
       "        text-align: right;\n",
       "    }\n",
       "</style>\n",
       "<table border=\"1\" class=\"dataframe\">\n",
       "  <thead>\n",
       "    <tr style=\"text-align: right;\">\n",
       "      <th></th>\n",
       "      <th>education</th>\n",
       "      <th>education_num</th>\n",
       "    </tr>\n",
       "  </thead>\n",
       "  <tbody>\n",
       "    <tr>\n",
       "      <th>0</th>\n",
       "      <td>Bachelors</td>\n",
       "      <td>13</td>\n",
       "    </tr>\n",
       "    <tr>\n",
       "      <th>1</th>\n",
       "      <td>Bachelors</td>\n",
       "      <td>13</td>\n",
       "    </tr>\n",
       "    <tr>\n",
       "      <th>2</th>\n",
       "      <td>HS-grad</td>\n",
       "      <td>9</td>\n",
       "    </tr>\n",
       "    <tr>\n",
       "      <th>3</th>\n",
       "      <td>11th</td>\n",
       "      <td>7</td>\n",
       "    </tr>\n",
       "    <tr>\n",
       "      <th>4</th>\n",
       "      <td>Bachelors</td>\n",
       "      <td>13</td>\n",
       "    </tr>\n",
       "    <tr>\n",
       "      <th>5</th>\n",
       "      <td>Masters</td>\n",
       "      <td>14</td>\n",
       "    </tr>\n",
       "    <tr>\n",
       "      <th>6</th>\n",
       "      <td>9th</td>\n",
       "      <td>5</td>\n",
       "    </tr>\n",
       "    <tr>\n",
       "      <th>7</th>\n",
       "      <td>HS-grad</td>\n",
       "      <td>9</td>\n",
       "    </tr>\n",
       "    <tr>\n",
       "      <th>8</th>\n",
       "      <td>Masters</td>\n",
       "      <td>14</td>\n",
       "    </tr>\n",
       "    <tr>\n",
       "      <th>9</th>\n",
       "      <td>Bachelors</td>\n",
       "      <td>13</td>\n",
       "    </tr>\n",
       "  </tbody>\n",
       "</table>\n",
       "</div>"
      ],
      "text/plain": [
       "    education  education_num\n",
       "0   Bachelors             13\n",
       "1   Bachelors             13\n",
       "2     HS-grad              9\n",
       "3        11th              7\n",
       "4   Bachelors             13\n",
       "5     Masters             14\n",
       "6         9th              5\n",
       "7     HS-grad              9\n",
       "8     Masters             14\n",
       "9   Bachelors             13"
      ]
     },
     "execution_count": 10,
     "metadata": {},
     "output_type": "execute_result"
    }
   ],
   "source": [
    "data[['education', 'education_num']].head(10)"
   ]
  },
  {
   "cell_type": "markdown",
   "metadata": {},
   "source": [
    "After looking at both these columns, it is evident that the latter column is just a numeric representation of the former column and hence only one of the two is needed for the analysis. Hence dropping the column education."
   ]
  },
  {
   "cell_type": "code",
   "execution_count": 11,
   "metadata": {},
   "outputs": [],
   "source": [
    "data.drop(columns = ['education'],  axis = 1, inplace = True)"
   ]
  },
  {
   "cell_type": "code",
   "execution_count": 12,
   "metadata": {},
   "outputs": [
    {
     "data": {
      "text/html": [
       "<div>\n",
       "<style scoped>\n",
       "    .dataframe tbody tr th:only-of-type {\n",
       "        vertical-align: middle;\n",
       "    }\n",
       "\n",
       "    .dataframe tbody tr th {\n",
       "        vertical-align: top;\n",
       "    }\n",
       "\n",
       "    .dataframe thead th {\n",
       "        text-align: right;\n",
       "    }\n",
       "</style>\n",
       "<table border=\"1\" class=\"dataframe\">\n",
       "  <thead>\n",
       "    <tr style=\"text-align: right;\">\n",
       "      <th></th>\n",
       "      <th>age</th>\n",
       "      <th>workclass</th>\n",
       "      <th>fnlwgt</th>\n",
       "      <th>education_num</th>\n",
       "      <th>marital_status</th>\n",
       "      <th>occupation</th>\n",
       "      <th>relationship</th>\n",
       "      <th>race</th>\n",
       "      <th>sex</th>\n",
       "      <th>capital_gain</th>\n",
       "      <th>capital_loss</th>\n",
       "      <th>hours_per_week</th>\n",
       "      <th>native_country</th>\n",
       "      <th>income</th>\n",
       "    </tr>\n",
       "  </thead>\n",
       "  <tbody>\n",
       "    <tr>\n",
       "      <th>0</th>\n",
       "      <td>39</td>\n",
       "      <td>State-gov</td>\n",
       "      <td>77516</td>\n",
       "      <td>13</td>\n",
       "      <td>Never-married</td>\n",
       "      <td>Adm-clerical</td>\n",
       "      <td>Not-in-family</td>\n",
       "      <td>White</td>\n",
       "      <td>Male</td>\n",
       "      <td>2174</td>\n",
       "      <td>0</td>\n",
       "      <td>40</td>\n",
       "      <td>United-States</td>\n",
       "      <td>&lt;=50K</td>\n",
       "    </tr>\n",
       "    <tr>\n",
       "      <th>1</th>\n",
       "      <td>50</td>\n",
       "      <td>Self-emp-not-inc</td>\n",
       "      <td>83311</td>\n",
       "      <td>13</td>\n",
       "      <td>Married-civ-spouse</td>\n",
       "      <td>Exec-managerial</td>\n",
       "      <td>Husband</td>\n",
       "      <td>White</td>\n",
       "      <td>Male</td>\n",
       "      <td>0</td>\n",
       "      <td>0</td>\n",
       "      <td>13</td>\n",
       "      <td>United-States</td>\n",
       "      <td>&lt;=50K</td>\n",
       "    </tr>\n",
       "    <tr>\n",
       "      <th>2</th>\n",
       "      <td>38</td>\n",
       "      <td>Private</td>\n",
       "      <td>215646</td>\n",
       "      <td>9</td>\n",
       "      <td>Divorced</td>\n",
       "      <td>Handlers-cleaners</td>\n",
       "      <td>Not-in-family</td>\n",
       "      <td>White</td>\n",
       "      <td>Male</td>\n",
       "      <td>0</td>\n",
       "      <td>0</td>\n",
       "      <td>40</td>\n",
       "      <td>United-States</td>\n",
       "      <td>&lt;=50K</td>\n",
       "    </tr>\n",
       "  </tbody>\n",
       "</table>\n",
       "</div>"
      ],
      "text/plain": [
       "   age          workclass  fnlwgt  education_num       marital_status  \\\n",
       "0   39          State-gov   77516             13        Never-married   \n",
       "1   50   Self-emp-not-inc   83311             13   Married-civ-spouse   \n",
       "2   38            Private  215646              9             Divorced   \n",
       "\n",
       "           occupation    relationship    race    sex  capital_gain  \\\n",
       "0        Adm-clerical   Not-in-family   White   Male          2174   \n",
       "1     Exec-managerial         Husband   White   Male             0   \n",
       "2   Handlers-cleaners   Not-in-family   White   Male             0   \n",
       "\n",
       "   capital_loss  hours_per_week  native_country  income  \n",
       "0             0              40   United-States   <=50K  \n",
       "1             0              13   United-States   <=50K  \n",
       "2             0              40   United-States   <=50K  "
      ]
     },
     "execution_count": 12,
     "metadata": {},
     "output_type": "execute_result"
    }
   ],
   "source": [
    "data.head(3)"
   ]
  },
  {
   "cell_type": "markdown",
   "metadata": {},
   "source": [
    "Convert the income column into integer for the sake of visualizing our data in the form of bar chart and scatter plots."
   ]
  },
  {
   "cell_type": "code",
   "execution_count": 13,
   "metadata": {},
   "outputs": [],
   "source": [
    "data['income'] = data['income'].astype('category')\n",
    "data = pd.get_dummies(columns = ['income'], data = data, drop_first = True)"
   ]
  },
  {
   "cell_type": "code",
   "execution_count": 14,
   "metadata": {},
   "outputs": [],
   "source": [
    "data = data.rename(columns = {'income_ >50K':'income_more_50K'})"
   ]
  },
  {
   "cell_type": "code",
   "execution_count": 15,
   "metadata": {},
   "outputs": [
    {
     "data": {
      "text/html": [
       "<div>\n",
       "<style scoped>\n",
       "    .dataframe tbody tr th:only-of-type {\n",
       "        vertical-align: middle;\n",
       "    }\n",
       "\n",
       "    .dataframe tbody tr th {\n",
       "        vertical-align: top;\n",
       "    }\n",
       "\n",
       "    .dataframe thead th {\n",
       "        text-align: right;\n",
       "    }\n",
       "</style>\n",
       "<table border=\"1\" class=\"dataframe\">\n",
       "  <thead>\n",
       "    <tr style=\"text-align: right;\">\n",
       "      <th></th>\n",
       "      <th>age</th>\n",
       "      <th>workclass</th>\n",
       "      <th>fnlwgt</th>\n",
       "      <th>education_num</th>\n",
       "      <th>marital_status</th>\n",
       "      <th>occupation</th>\n",
       "      <th>relationship</th>\n",
       "      <th>race</th>\n",
       "      <th>sex</th>\n",
       "      <th>capital_gain</th>\n",
       "      <th>capital_loss</th>\n",
       "      <th>hours_per_week</th>\n",
       "      <th>native_country</th>\n",
       "      <th>income_more_50K</th>\n",
       "    </tr>\n",
       "  </thead>\n",
       "  <tbody>\n",
       "    <tr>\n",
       "      <th>0</th>\n",
       "      <td>39</td>\n",
       "      <td>State-gov</td>\n",
       "      <td>77516</td>\n",
       "      <td>13</td>\n",
       "      <td>Never-married</td>\n",
       "      <td>Adm-clerical</td>\n",
       "      <td>Not-in-family</td>\n",
       "      <td>White</td>\n",
       "      <td>Male</td>\n",
       "      <td>2174</td>\n",
       "      <td>0</td>\n",
       "      <td>40</td>\n",
       "      <td>United-States</td>\n",
       "      <td>0</td>\n",
       "    </tr>\n",
       "    <tr>\n",
       "      <th>1</th>\n",
       "      <td>50</td>\n",
       "      <td>Self-emp-not-inc</td>\n",
       "      <td>83311</td>\n",
       "      <td>13</td>\n",
       "      <td>Married-civ-spouse</td>\n",
       "      <td>Exec-managerial</td>\n",
       "      <td>Husband</td>\n",
       "      <td>White</td>\n",
       "      <td>Male</td>\n",
       "      <td>0</td>\n",
       "      <td>0</td>\n",
       "      <td>13</td>\n",
       "      <td>United-States</td>\n",
       "      <td>0</td>\n",
       "    </tr>\n",
       "    <tr>\n",
       "      <th>2</th>\n",
       "      <td>38</td>\n",
       "      <td>Private</td>\n",
       "      <td>215646</td>\n",
       "      <td>9</td>\n",
       "      <td>Divorced</td>\n",
       "      <td>Handlers-cleaners</td>\n",
       "      <td>Not-in-family</td>\n",
       "      <td>White</td>\n",
       "      <td>Male</td>\n",
       "      <td>0</td>\n",
       "      <td>0</td>\n",
       "      <td>40</td>\n",
       "      <td>United-States</td>\n",
       "      <td>0</td>\n",
       "    </tr>\n",
       "  </tbody>\n",
       "</table>\n",
       "</div>"
      ],
      "text/plain": [
       "   age          workclass  fnlwgt  education_num       marital_status  \\\n",
       "0   39          State-gov   77516             13        Never-married   \n",
       "1   50   Self-emp-not-inc   83311             13   Married-civ-spouse   \n",
       "2   38            Private  215646              9             Divorced   \n",
       "\n",
       "           occupation    relationship    race    sex  capital_gain  \\\n",
       "0        Adm-clerical   Not-in-family   White   Male          2174   \n",
       "1     Exec-managerial         Husband   White   Male             0   \n",
       "2   Handlers-cleaners   Not-in-family   White   Male             0   \n",
       "\n",
       "   capital_loss  hours_per_week  native_country  income_more_50K  \n",
       "0             0              40   United-States                0  \n",
       "1             0              13   United-States                0  \n",
       "2             0              40   United-States                0  "
      ]
     },
     "execution_count": 15,
     "metadata": {},
     "output_type": "execute_result"
    }
   ],
   "source": [
    "data.head(3)"
   ]
  },
  {
   "cell_type": "code",
   "execution_count": 16,
   "metadata": {},
   "outputs": [],
   "source": [
    "%%R\n",
    "library(ggplot2)"
   ]
  },
  {
   "cell_type": "code",
   "execution_count": 17,
   "metadata": {},
   "outputs": [
    {
     "data": {
      "image/png": "[encoded data removed]"
     },
     "metadata": {},
     "output_type": "display_data"
    },
    {
     "data": {
      "image/png": "[encoded data removed]"
     },
     "metadata": {},
     "output_type": "display_data"
    }
   ],
   "source": [
    "%%R -i data -w 8 -h 4 -u in\n",
    "\n",
    "print(ggplot(data, aes(x = age, y = income_more_50K)) + geom_point(size = 3, alpha = 1/10) + \n",
    "    labs(x = \"Age\", y = \"Income >= 50K\") + theme_bw(base_family = 'serif'))\n",
    "\n",
    "print(ggplot(data, aes(income_more_50K, age, fill = income_more_50K)) + geom_boxplot() + theme_bw())"
   ]
  },
  {
   "cell_type": "markdown",
   "metadata": {},
   "source": [
    "Looking at the plot above, it could be said that age is not a great predictor of our target variable since there are people across the entire age range who have an income both more and less than 50K."
   ]
  },
  {
   "cell_type": "code",
   "execution_count": 18,
   "metadata": {},
   "outputs": [
    {
     "data": {
      "image/png": "[encoded data removed]"
     },
     "metadata": {},
     "output_type": "display_data"
    },
    {
     "data": {
      "image/png": "[encoded data removed]"
     },
     "metadata": {},
     "output_type": "display_data"
    }
   ],
   "source": [
    "%%R -i data -h 5 -w 10 -u in\n",
    "print(ggplot(data, aes(x = hours_per_week, y = income_more_50K)) + geom_point(size = 3, alpha = 1/10)+\n",
    "    labs(x = \"Hours Worked Per Week\", y = \"Income >= 50K\", title = \"Income variation with hours worked in a week\") +\n",
    "    theme_bw(base_size = 16, base_family = \"serif\"))\n",
    "\n",
    "print(ggplot(data, aes(x = income_more_50K, hours_per_week, fill = income_more_50K)) + geom_boxplot() + theme_bw())"
   ]
  },
  {
   "cell_type": "markdown",
   "metadata": {},
   "source": [
    "Again hours worked in a week doesn't seem to give a good demarcation/ convenient threshold to separate people's earnings since it's all over the place. There's no clear-cut distinction that if hours per week put in is 60/75 anything and above, you're to get more money or anything.\n",
    "\n",
    "Based on the density of the scatter points, it could be approximately said there are a few people who work less than 40 hours a week and get more than 50K as compared to those who get less.  \n",
    "\n",
    "Similarly for those who work more than 60 hours a week, there's a larger proportion of people who get paid less than those who make more than 50K."
   ]
  },
  {
   "cell_type": "code",
   "execution_count": 19,
   "metadata": {},
   "outputs": [
    {
     "data": {
      "image/png": "[encoded data removed]"
     },
     "metadata": {},
     "output_type": "display_data"
    },
    {
     "data": {
      "image/png": "[encoded data removed]"
     },
     "metadata": {},
     "output_type": "display_data"
    }
   ],
   "source": [
    "%%R -i data -w 10 -h 6 -u in\n",
    "\n",
    "print(ggplot(data, aes(x = log10(capital_gain), y = income_more_50K)) + geom_point(size = 3, alpha = 1/10) +\n",
    "    labs(x = \"Log of Capital Gain\", y = \"Income >50K\", title = \"Variation of Income categores with log10 capital gain\") +\n",
    "    theme_bw(base_family = 'serif', base_size = 16))\n",
    "\n",
    "print(ggplot(data, aes(income_more_50K, log10(capital_gain), fill = income_more_50K)) + geom_boxplot() +\n",
    "    labs(x = \"Income Categories : >50K - 1 & <=50K - 0\", y = \"Log Capital Gain\", title = \"Income categories based on capital gain\") +\n",
    "    theme_bw(base_family = 'serif', base_size = 16))"
   ]
  },
  {
   "cell_type": "markdown",
   "metadata": {},
   "source": [
    "This is a good predictor since there's a good separation between the two classes. $Q_1$ for the second class is well above the $Q_3$ value for the first class in the log scale as we can see above.\n",
    "\n",
    "The split at around 3.8 to 4 i.e. capital gain ~ [6300,10000] seems to separate out the two classes well."
   ]
  },
  {
   "cell_type": "code",
   "execution_count": 20,
   "metadata": {},
   "outputs": [
    {
     "data": {
      "image/png": "[encoded data removed]"
     },
     "metadata": {},
     "output_type": "display_data"
    },
    {
     "data": {
      "image/png": "[encoded data removed]"
     },
     "metadata": {},
     "output_type": "display_data"
    }
   ],
   "source": [
    "%%R -i data -h 6 -w 10 -u in\n",
    "\n",
    "print(ggplot(data, aes(x = log10(capital_loss), y = income_more_50K)) + geom_point(size = 3, alpha = 1/10) +\n",
    "    labs(x = \"Log Capital Loss\", y = \"Income >=50K\", title = \"Income categories variation wrt Log Capital Loss\") +\n",
    "    theme_bw(base_family = 'serif', base_size = 16))\n",
    "\n",
    "print(ggplot(data, aes(x = income_more_50K, log10(capital_loss), fill = income_more_50K)) + geom_boxplot() +\n",
    "    labs(x = \"Income Classes\", y = \"Log Capital Loss\", title = \"Income classes as a function of Log Capital Loss\") +\n",
    "    theme_bw(base_family = 'serif', base_size = 16))"
   ]
  },
  {
   "cell_type": "markdown",
   "metadata": {},
   "source": [
    "This capital loss parameter isn't a good measure to tell the two income classes apart from one another. The distribution of more than 50K income almost completely overlaps with a part of the distribution of less than 50K income. This can be inferred from the box and scatter plots above."
   ]
  },
  {
   "cell_type": "code",
   "execution_count": 21,
   "metadata": {},
   "outputs": [
    {
     "data": {
      "image/png": "[encoded data removed]"
     },
     "metadata": {},
     "output_type": "display_data"
    },
    {
     "data": {
      "image/png": "[encoded data removed]"
     },
     "metadata": {},
     "output_type": "display_data"
    }
   ],
   "source": [
    "%%R -i data -h 6 -w 10 -u in\n",
    "\n",
    "print(ggplot(data, aes(x = log10(fnlwgt), y = income_more_50K)) + geom_point(size = 3, alpha = 1/10) +\n",
    "    labs(x = \"Log FnlWgt\", y = \"Income >=50K\", title = \"Income categories variation wrt Log FnlWgt\") +\n",
    "    theme_bw(base_family = 'serif', base_size = 16))\n",
    "\n",
    "print(ggplot(data, aes(x = income_more_50K, log10(fnlwgt), fill = income_more_50K)) + geom_boxplot() +\n",
    "    labs(x = \"Income Classes\", y = \"Log FnlWgt\", title = \"Income classes as a function of Log FnlWgt\") +\n",
    "    theme_bw(base_family = 'serif', base_size = 16))"
   ]
  },
  {
   "cell_type": "markdown",
   "metadata": {},
   "source": [
    "This is one of the worst predictors since the distributions of the two income classes as a function of this fnlwgt variable are almost the same. There is no way to distinguish them apart from one another based on this predictor."
   ]
  },
  {
   "cell_type": "code",
   "execution_count": 22,
   "metadata": {},
   "outputs": [
    {
     "data": {
      "image/png": "[encoded data removed]"
     },
     "metadata": {},
     "output_type": "display_data"
    }
   ],
   "source": [
    "%%R -i data -w 10 -h 6 -u in\n",
    "\n",
    "ggplot(data, aes(x = workclass, fill = income_more_50K)) + geom_bar(position = \"dodge\") +\n",
    "    labs(x = \"Working class\", y = \"Count of people\", title = \"Distribution of income across working classes\") +\n",
    "    theme_bw(base_family = 'serif', base_size = 16) + theme(axis.text.x = element_text(angle = 90)) \n",
    "# + geom_text(stat = 'count', aes(label = ..count..))"
   ]
  },
  {
   "cell_type": "markdown",
   "metadata": {},
   "source": [
    "Most of the population in the dataset is concentrated in the private sector and it seems like across all segments of working classes, there are more number of \"<50K\" income people than the other (except Self-Emp-inc). Also we have some missing data in this column as encoded by \"?\""
   ]
  },
  {
   "cell_type": "code",
   "execution_count": 23,
   "metadata": {},
   "outputs": [],
   "source": [
    "edu = original[['education','education_num']].copy()\n",
    "edu.drop_duplicates(subset = 'education', inplace = True)\n",
    "edu.set_index('education_num', inplace = True)\n",
    "labels = edu.to_dict()['education']"
   ]
  },
  {
   "cell_type": "code",
   "execution_count": 24,
   "metadata": {},
   "outputs": [
    {
     "data": {
      "image/png": "[encoded data removed]"
     },
     "metadata": {},
     "output_type": "display_data"
    }
   ],
   "source": [
    "%%R -i data -h 6 -w 10 -u in\n",
    "ggplot(data, aes(x = education_num, fill = income_more_50K)) + geom_bar(position = 'dodge') + \n",
    "    labs(x = \"Education\", y = \"Count of people\", title = \"Income variation with education\") + \n",
    "    theme_bw(base_size = 16, base_family = \"serif\") + theme(axis.text.x = element_text(angle = 45))"
   ]
  },
  {
   "cell_type": "markdown",
   "metadata": {},
   "source": [
    "Most of the people are centered around the 9, 10 and 13 level educations and for that education, there are more number of people who're paid less than 50 thousand. Also, 14, 15, 16 level education people have more proportion of over 50K payees than under 50K payees. Let's see what are these."
   ]
  },
  {
   "cell_type": "code",
   "execution_count": 25,
   "metadata": {},
   "outputs": [
    {
     "name": "stdout",
     "output_type": "stream",
     "text": [
      "High proportion of population have educations:  HS-grad  Some-college  Bachelors\n",
      "Education having more overpaid than underpaid obs:  Masters  Prof-school  Doctorate\n"
     ]
    }
   ],
   "source": [
    "print(\"High proportion of population have educations: {} {} {}\".format(labels[9], labels[10], labels[13]))\n",
    "print(\"Education having more overpaid than underpaid obs: {} {} {}\".format(labels[14], labels[15], labels[16]))      "
   ]
  },
  {
   "cell_type": "code",
   "execution_count": 26,
   "metadata": {},
   "outputs": [
    {
     "data": {
      "image/png": "[encoded data removed]"
     },
     "metadata": {},
     "output_type": "display_data"
    }
   ],
   "source": [
    "%%R -i data -h 6 -w 10 -u in\n",
    "ggplot(data, aes(x = sex, fill = income_more_50K)) + geom_bar(position = 'dodge') + \n",
    "    labs(x = \"Sex\", y = \"Count of people\", title = \"Income variation with Sex\") + \n",
    "    theme_bw(base_size = 16, base_family = \"serif\") + theme(axis.text.x = element_text(angle = 0)) \n",
    "# + geom_text(stat= 'count', aes(label = count))"
   ]
  },
  {
   "cell_type": "markdown",
   "metadata": {},
   "source": [
    "It looks like the absolute values of males in the population is more than females but also, it seems that amongst their respective groups, there's a smaller proportion of females who have more than 50K income as compared to males."
   ]
  },
  {
   "cell_type": "code",
   "execution_count": 27,
   "metadata": {},
   "outputs": [
    {
     "data": {
      "image/png": "[encoded data removed]"
     },
     "metadata": {},
     "output_type": "display_data"
    }
   ],
   "source": [
    "%%R -i data -h 6 -w 10 -u in\n",
    "ggplot(data, aes(x = race, fill = income_more_50K)) + geom_bar(position = 'dodge') + \n",
    "    labs(x = \"Race\", y = \"Count of people\", title = \"Income variation with Race\") + \n",
    "    theme_bw(base_size = 16, base_family = \"serif\") + theme(axis.text.x = element_text(angle = -20)) \n",
    "# + geom_text(stat= 'count', aes(label = count))"
   ]
  },
  {
   "cell_type": "markdown",
   "metadata": {},
   "source": [
    "The dataset entries are predominantly for White people. Although there are some black and some other groups in the mix, there are a lot of observations for Whites followed by Blacks. It seems like there's a higher proportion of **\"Income <= 50k\"** observations in every subsection amongst the race variable."
   ]
  },
  {
   "cell_type": "code",
   "execution_count": 28,
   "metadata": {},
   "outputs": [
    {
     "data": {
      "image/png": "[encoded data removed]"
     },
     "metadata": {},
     "output_type": "display_data"
    }
   ],
   "source": [
    "%%R -i data -h 8 -w 10 -u in\n",
    "\n",
    "ggplot(data, aes(x = occupation, fill = income_more_50K)) + geom_bar(position = 'dodge') +\n",
    "    labs(x = \"Occupation\", y = \"Count of People\") + theme_bw(base_family = 'serif', base_size = 15) +\n",
    "    theme(axis.text.x = element_text(angle = 90)) + labs(title = \"Income Level variation with occupation\")"
   ]
  },
  {
   "cell_type": "markdown",
   "metadata": {},
   "source": [
    "There are some people whose occupation is not known. They're mentioned with \"?\"  \n",
    "\n",
    "The major jobs which pay handsomely above 50K are concentrated in Exec-managerial and Prof-Speciality fields among some others.  \n",
    "\n",
    "Very few people actually opt to go for Armed Forces jobs and amongst them too, the proportion of people paid less than 50K is considerably higher.  \n",
    "\n"
   ]
  },
  {
   "cell_type": "code",
   "execution_count": 29,
   "metadata": {},
   "outputs": [
    {
     "data": {
      "text/plain": [
       "array([' Not-in-family', ' Husband', ' Wife', ' Own-child', ' Unmarried',\n",
       "       ' Other-relative'], dtype=object)"
      ]
     },
     "execution_count": 29,
     "metadata": {},
     "output_type": "execute_result"
    }
   ],
   "source": [
    "data.relationship.unique()"
   ]
  },
  {
   "cell_type": "code",
   "execution_count": 30,
   "metadata": {},
   "outputs": [
    {
     "data": {
      "image/png": "[encoded data removed]"
     },
     "metadata": {},
     "output_type": "display_data"
    }
   ],
   "source": [
    "%%R -i data -h 6 -w 10 -u in\n",
    "\n",
    "ggplot(data, aes(x = relationship, fill = income_more_50K)) + geom_bar(position = 'dodge') +\n",
    "    labs(x = 'Relationship', y = 'Count of people', title = 'Distribution of income wrt relationships') +\n",
    "    theme_bw(base_family = 'serif', base_size = 16) + theme(axis.text.x = element_text(angle = 90))"
   ]
  },
  {
   "cell_type": "markdown",
   "metadata": {},
   "source": [
    "The dataset is dominated by entries from Husbands and Not-in-family categories and across all categories, there are more people earning less than 50K than those earning more than 50K."
   ]
  },
  {
   "cell_type": "code",
   "execution_count": 31,
   "metadata": {},
   "outputs": [
    {
     "data": {
      "image/png": "[encoded data removed]"
     },
     "metadata": {},
     "output_type": "display_data"
    }
   ],
   "source": [
    "%%R -i data -h 12 -w 20 -u in\n",
    "\n",
    "ggplot(data, aes(x = native_country, fill = income_more_50K)) + geom_bar(position = 'dodge') +\n",
    "    labs(x = 'Country', y = 'Count of people', title = 'Distribution of income wrt countries') +\n",
    "    theme_bw(base_family = 'serif', base_size = 20) + theme(axis.text.x = element_text(angle = 90))"
   ]
  },
  {
   "cell_type": "markdown",
   "metadata": {},
   "source": [
    "It can be seen that most of the datapoints come from United States and a few from Mexico. All the other countries combined cannot sum up to as many datapoints as United States. So, for the sake of imputation this seems to be the **best attribute for peforming a stratified imputation.** Also, it makes sense since geographically the features will have some resemblance with each other.\n",
    "\n",
    "In addition to this, it would be better to build a model separately for people from United States and for those from all other countries since the overall data is highly comprised of people from United States."
   ]
  },
  {
   "cell_type": "code",
   "execution_count": 32,
   "metadata": {},
   "outputs": [
    {
     "data": {
      "text/plain": [
       "native_country\n",
       " ?                               583\n",
       " Cambodia                         19\n",
       " Canada                          121\n",
       " China                            75\n",
       " Columbia                         59\n",
       " Cuba                             95\n",
       " Dominican-Republic               70\n",
       " Ecuador                          28\n",
       " El-Salvador                     106\n",
       " England                          90\n",
       " France                           29\n",
       " Germany                         137\n",
       " Greece                           29\n",
       " Guatemala                        64\n",
       " Haiti                            44\n",
       " Holand-Netherlands                1\n",
       " Honduras                         13\n",
       " Hong                             20\n",
       " Hungary                          13\n",
       " India                           100\n",
       " Iran                             43\n",
       " Ireland                          24\n",
       " Italy                            73\n",
       " Jamaica                          81\n",
       " Japan                            62\n",
       " Laos                             18\n",
       " Mexico                          643\n",
       " Nicaragua                        34\n",
       " Outlying-US(Guam-USVI-etc)       14\n",
       " Peru                             31\n",
       " Philippines                     198\n",
       " Poland                           60\n",
       " Portugal                         37\n",
       " Puerto-Rico                     114\n",
       " Scotland                         12\n",
       " South                            80\n",
       " Taiwan                           51\n",
       " Thailand                         18\n",
       " Trinadad&Tobago                  19\n",
       " United-States                 29170\n",
       " Vietnam                          67\n",
       " Yugoslavia                       16\n",
       "Name: age, dtype: int64"
      ]
     },
     "execution_count": 32,
     "metadata": {},
     "output_type": "execute_result"
    }
   ],
   "source": [
    "data.groupby(by = ['native_country'])['age'].count()"
   ]
  },
  {
   "cell_type": "markdown",
   "metadata": {},
   "source": [
    "There is a sizable amount of population hailing to nations not known/not mentioned. Let's label the entries containing \"?\" in the native country columns into a column called \"Others\" to denote all other countries in the world except the ones mentioned in this column.  \n",
    "\n",
    "Next, there's only one observation from Holand. 1 out of 32k observations is a tiny amount to capture the variation of a country in this model, so let's drop that observation for our analysis."
   ]
  },
  {
   "cell_type": "code",
   "execution_count": 33,
   "metadata": {},
   "outputs": [
    {
     "name": "stdout",
     "output_type": "stream",
     "text": [
      "['age', 'fnlwgt', 'capital_gain', 'capital_loss', 'hours_per_week']\n",
      "['workclass', 'education_num', 'marital_status', 'occupation', 'relationship', 'race', 'sex', 'native_country']\n",
      "1\n",
      "0\n"
     ]
    }
   ],
   "source": [
    "num_cols = ['age', 'fnlwgt','capital_gain', 'capital_loss', 'hours_per_week']\n",
    "cat_cols = []\n",
    "for i in data.columns:\n",
    "    if not i in num_cols:\n",
    "        cat_cols.append(i)\n",
    "cat_cols.remove('income_more_50K')\n",
    "print(num_cols)\n",
    "print(cat_cols)\n",
    "\n",
    "print(np.sum(data.native_country == \" Holand-Netherlands\"))\n",
    "data = data[data.native_country != \" Holand-Netherlands\"]\n",
    "print(np.sum(data.native_country == \" Holand-Netherlands\"))"
   ]
  },
  {
   "cell_type": "code",
   "execution_count": 34,
   "metadata": {},
   "outputs": [
    {
     "name": "stdout",
     "output_type": "stream",
     "text": [
      "age 0\n",
      "workclass 1836\n",
      "fnlwgt 0\n",
      "education_num 0\n",
      "marital_status 0\n",
      "occupation 1843\n",
      "relationship 0\n",
      "race 0\n",
      "sex 0\n",
      "capital_gain 0\n",
      "capital_loss 0\n",
      "hours_per_week 0\n",
      "native_country 583\n",
      "income_more_50K 0\n"
     ]
    }
   ],
   "source": [
    "for i in data.columns:\n",
    "    print(i, np.sum(data[i] == \" ?\"))"
   ]
  },
  {
   "cell_type": "markdown",
   "metadata": {},
   "source": [
    "Let's label all the native_countries which have a question mark as **\"Others\"** as in the rest of the countries.  \n",
    "\n",
    "Let's use target encoding (Mode) based on country for filling in the workclass and occupation features. Before that, split the dataset into train and test sets and use the mode of train sets in order to impute the values of the test set."
   ]
  },
  {
   "cell_type": "code",
   "execution_count": 35,
   "metadata": {},
   "outputs": [],
   "source": [
    "# Rename all instances of ? in native_country with others\n",
    "idx = data[data.native_country == \" ?\"].index\n",
    "#print(idx)\n",
    "data.native_country[idx] = \"Others\""
   ]
  },
  {
   "cell_type": "code",
   "execution_count": 36,
   "metadata": {},
   "outputs": [],
   "source": [
    "USData = data[data.native_country == \" United-States\"]\n",
    "ROWData = data[data.native_country != \" United-States\"]"
   ]
  },
  {
   "cell_type": "code",
   "execution_count": 37,
   "metadata": {},
   "outputs": [
    {
     "data": {
      "text/plain": [
       "(29170, 14)"
      ]
     },
     "execution_count": 37,
     "metadata": {},
     "output_type": "execute_result"
    }
   ],
   "source": [
    "USData.shape"
   ]
  },
  {
   "cell_type": "markdown",
   "metadata": {},
   "source": [
    "After splitting the daset into two i.e. **United States Dataset** and **Rest Of The World Dataset**, try to visualize how the data looks like for the two datasets.\n"
   ]
  },
  {
   "cell_type": "code",
   "execution_count": 38,
   "metadata": {},
   "outputs": [
    {
     "data": {
      "image/png": "[encoded data removed]"
     },
     "metadata": {},
     "output_type": "display_data"
    }
   ],
   "source": [
    "%%R -i USData -w 10 -h 6 -u in\n",
    "\n",
    "ggplot(USData, aes(native_country, fill = income_more_50K)) + geom_bar(position = 'dodge') +\n",
    "    labs(x = \"Income <= or > 50K\", y = \"# Of people\", title = \"Number of people in United States earning >= or < 50K\") +\n",
    "    theme_bw(base_family = 'serif', base_size = 20) "
   ]
  },
  {
   "cell_type": "code",
   "execution_count": 39,
   "metadata": {},
   "outputs": [
    {
     "data": {
      "image/png": "[encoded data removed]"
     },
     "metadata": {},
     "output_type": "display_data"
    }
   ],
   "source": [
    "%%R -i ROWData -w 20 -h 12 -u in\n",
    "\n",
    "ggplot(ROWData, aes(native_country, fill = income_more_50K)) + geom_bar(position = 'dodge') +\n",
    "    labs(x = \"Income <= or > 50K\", y = \"# of people\", title = \"Earnings worldwide in terms of 50K $ Datum\") +\n",
    "    theme_bw(base_family = 'serif', base_size = 20) + theme(axis.text.x = element_text(angle = 90))"
   ]
  },
  {
   "cell_type": "code",
   "execution_count": 40,
   "metadata": {},
   "outputs": [
    {
     "data": {
      "text/plain": [
       "age                 int64\n",
       "workclass          object\n",
       "fnlwgt              int64\n",
       "education_num       int64\n",
       "marital_status     object\n",
       "occupation         object\n",
       "relationship       object\n",
       "race               object\n",
       "sex                object\n",
       "capital_gain        int64\n",
       "capital_loss        int64\n",
       "hours_per_week      int64\n",
       "native_country     object\n",
       "income_more_50K     uint8\n",
       "dtype: object"
      ]
     },
     "execution_count": 40,
     "metadata": {},
     "output_type": "execute_result"
    }
   ],
   "source": [
    "for i in cat_cols:\n",
    "    USData[i] = USData[i].astype('category')\n",
    "    ROWData[i] = ROWData[i].astype('category')\n",
    "data.dtypes"
   ]
  },
  {
   "cell_type": "markdown",
   "metadata": {},
   "source": [
    "# Classification algorithm for United States"
   ]
  },
  {
   "cell_type": "code",
   "execution_count": 41,
   "metadata": {},
   "outputs": [],
   "source": [
    "#Split the data into X and y\n",
    "X = USData.drop(columns = ['income_more_50K'], axis = 1)\n",
    "y = USData.income_more_50K\n",
    "\n",
    "# Perform a train_test_split\n",
    "from sklearn.model_selection import train_test_split\n",
    "X_train, X_test, y_train, y_test = train_test_split(X, y, stratify = y, random_state = 1425, test_size = 0.2)"
   ]
  },
  {
   "cell_type": "code",
   "execution_count": 42,
   "metadata": {},
   "outputs": [],
   "source": [
    "# Get the dictionary to substitute missing data based on mode.\n",
    "# It gets the mode value for each column corresponding to every country in a dataframe.\n",
    "# Take United States, get the mode for all columns, take India, get the mode for all columns, take Japan calculate\n",
    "# It returns a dataframe but I need a disctionary for replacing these values since it's convenient. So\n",
    "# in the end Im converting it into a dictionary.\n",
    "X_traingby = X_train.groupby(by = ['native_country'])\n",
    "substitution_dict = X_traingby.agg(lambda x: x.value_counts().index[0]).to_dict()"
   ]
  },
  {
   "cell_type": "code",
   "execution_count": 43,
   "metadata": {},
   "outputs": [],
   "source": [
    "# A function to compute mode target encoding\n",
    "# DISCLAIMER: THIS IS NOT EFFICIENT\n",
    "# It goes over all the rows in the dataset. For each row it checks if there is an NA value. NA value is represented as \n",
    "# a string to_sub meaning to be substituted. While readin I did not make na_values = \" ?\" hence this hack.\n",
    "\n",
    "# Then for each row if it finds a value \" ?\", it'll substitute the mode for that column for that respective country\n",
    "# by looking up that value in the dictionary that is passed as an argument substitution_dict.\n",
    "\n",
    "# Target is the column number of the feature wrt which target encoding is to be done. Here it's native_country which is the\n",
    "# 12th column. Hence in the next cell, I've passed target = 12.\n",
    "\n",
    "# Ultimately it returns a dataframe with all it's to_sub values in all the columns imputed wrt values for that country from\n",
    "# the substitution dictionary.\n",
    "def target_encoding(y, substitution_dict, Target, to_sub):\n",
    "    '''\n",
    "    Takes in a dataframe, a dictionary containing values to substitute per attribute/feature, an int specifying the \n",
    "    column number based on which target encoding is done, and what to substitute in the feature space.\n",
    "    '''\n",
    "    for i in range(0, len(y.columns)):\n",
    "        if y.columns[i] == 'native_country':\n",
    "            continue\n",
    "        else:\n",
    "            m = substitution_dict[y.columns[i]]\n",
    "            for j in range(0, y.shape[0]):\n",
    "                if y.iloc[j,i] == to_sub:\n",
    "                    y.iloc[j,i] = m[y.iloc[j,Target]]\n",
    "    return y"
   ]
  },
  {
   "cell_type": "code",
   "execution_count": 44,
   "metadata": {},
   "outputs": [
    {
     "name": "stdout",
     "output_type": "stream",
     "text": [
      "age 0 0\n",
      "workclass 0 0\n",
      "fnlwgt 0 0\n",
      "education_num 0 0\n",
      "marital_status 0 0\n",
      "occupation 0 0\n",
      "relationship 0 0\n",
      "race 0 0\n",
      "sex 0 0\n",
      "capital_gain 0 0\n",
      "capital_loss 0 0\n",
      "hours_per_week 0 0\n",
      "native_country 0 0\n"
     ]
    }
   ],
   "source": [
    "# Imputing and checking if all the missing values have been imputed properly\n",
    "X_train = target_encoding(X_train.copy(), substitution_dict, 12, \" ?\")\n",
    "X_test = target_encoding(X_test.copy(), substitution_dict, 12, \" ?\")\n",
    "for i in X_train.columns:\n",
    "    print(i, np.sum(X_train[i] == \" ?\"), np.sum(X_test[i] == \" ?\"))"
   ]
  },
  {
   "cell_type": "code",
   "execution_count": 45,
   "metadata": {},
   "outputs": [
    {
     "name": "stdout",
     "output_type": "stream",
     "text": [
      "(23336, 13)\n"
     ]
    },
    {
     "data": {
      "text/html": [
       "<div>\n",
       "<style scoped>\n",
       "    .dataframe tbody tr th:only-of-type {\n",
       "        vertical-align: middle;\n",
       "    }\n",
       "\n",
       "    .dataframe tbody tr th {\n",
       "        vertical-align: top;\n",
       "    }\n",
       "\n",
       "    .dataframe thead th {\n",
       "        text-align: right;\n",
       "    }\n",
       "</style>\n",
       "<table border=\"1\" class=\"dataframe\">\n",
       "  <thead>\n",
       "    <tr style=\"text-align: right;\">\n",
       "      <th></th>\n",
       "      <th>age</th>\n",
       "      <th>workclass</th>\n",
       "      <th>fnlwgt</th>\n",
       "      <th>education_num</th>\n",
       "      <th>marital_status</th>\n",
       "      <th>occupation</th>\n",
       "      <th>relationship</th>\n",
       "      <th>race</th>\n",
       "      <th>sex</th>\n",
       "      <th>capital_gain</th>\n",
       "      <th>capital_loss</th>\n",
       "      <th>hours_per_week</th>\n",
       "      <th>native_country</th>\n",
       "    </tr>\n",
       "  </thead>\n",
       "  <tbody>\n",
       "    <tr>\n",
       "      <th>7815</th>\n",
       "      <td>33</td>\n",
       "      <td>Private</td>\n",
       "      <td>190027</td>\n",
       "      <td>9</td>\n",
       "      <td>Never-married</td>\n",
       "      <td>Exec-managerial</td>\n",
       "      <td>Unmarried</td>\n",
       "      <td>Black</td>\n",
       "      <td>Female</td>\n",
       "      <td>0</td>\n",
       "      <td>0</td>\n",
       "      <td>20</td>\n",
       "      <td>United-States</td>\n",
       "    </tr>\n",
       "    <tr>\n",
       "      <th>2582</th>\n",
       "      <td>28</td>\n",
       "      <td>Private</td>\n",
       "      <td>203776</td>\n",
       "      <td>6</td>\n",
       "      <td>Married-civ-spouse</td>\n",
       "      <td>Craft-repair</td>\n",
       "      <td>Husband</td>\n",
       "      <td>White</td>\n",
       "      <td>Male</td>\n",
       "      <td>0</td>\n",
       "      <td>0</td>\n",
       "      <td>50</td>\n",
       "      <td>United-States</td>\n",
       "    </tr>\n",
       "    <tr>\n",
       "      <th>20927</th>\n",
       "      <td>25</td>\n",
       "      <td>Private</td>\n",
       "      <td>176162</td>\n",
       "      <td>13</td>\n",
       "      <td>Never-married</td>\n",
       "      <td>Handlers-cleaners</td>\n",
       "      <td>Own-child</td>\n",
       "      <td>White</td>\n",
       "      <td>Male</td>\n",
       "      <td>0</td>\n",
       "      <td>0</td>\n",
       "      <td>40</td>\n",
       "      <td>United-States</td>\n",
       "    </tr>\n",
       "    <tr>\n",
       "      <th>31320</th>\n",
       "      <td>24</td>\n",
       "      <td>Private</td>\n",
       "      <td>103064</td>\n",
       "      <td>13</td>\n",
       "      <td>Never-married</td>\n",
       "      <td>Tech-support</td>\n",
       "      <td>Not-in-family</td>\n",
       "      <td>White</td>\n",
       "      <td>Female</td>\n",
       "      <td>3674</td>\n",
       "      <td>0</td>\n",
       "      <td>40</td>\n",
       "      <td>United-States</td>\n",
       "    </tr>\n",
       "    <tr>\n",
       "      <th>16891</th>\n",
       "      <td>36</td>\n",
       "      <td>Private</td>\n",
       "      <td>33355</td>\n",
       "      <td>10</td>\n",
       "      <td>Never-married</td>\n",
       "      <td>Other-service</td>\n",
       "      <td>Own-child</td>\n",
       "      <td>White</td>\n",
       "      <td>Male</td>\n",
       "      <td>0</td>\n",
       "      <td>0</td>\n",
       "      <td>45</td>\n",
       "      <td>United-States</td>\n",
       "    </tr>\n",
       "  </tbody>\n",
       "</table>\n",
       "</div>"
      ],
      "text/plain": [
       "       age workclass  fnlwgt education_num       marital_status  \\\n",
       "7815    33   Private  190027             9        Never-married   \n",
       "2582    28   Private  203776             6   Married-civ-spouse   \n",
       "20927   25   Private  176162            13        Never-married   \n",
       "31320   24   Private  103064            13        Never-married   \n",
       "16891   36   Private   33355            10        Never-married   \n",
       "\n",
       "               occupation    relationship    race      sex  capital_gain  \\\n",
       "7815      Exec-managerial       Unmarried   Black   Female             0   \n",
       "2582         Craft-repair         Husband   White     Male             0   \n",
       "20927   Handlers-cleaners       Own-child   White     Male             0   \n",
       "31320        Tech-support   Not-in-family   White   Female          3674   \n",
       "16891       Other-service       Own-child   White     Male             0   \n",
       "\n",
       "       capital_loss  hours_per_week  native_country  \n",
       "7815              0              20   United-States  \n",
       "2582              0              50   United-States  \n",
       "20927             0              40   United-States  \n",
       "31320             0              40   United-States  \n",
       "16891             0              45   United-States  "
      ]
     },
     "execution_count": 45,
     "metadata": {},
     "output_type": "execute_result"
    }
   ],
   "source": [
    "print(X_train.shape)\n",
    "X_train.head()"
   ]
  },
  {
   "cell_type": "code",
   "execution_count": 46,
   "metadata": {},
   "outputs": [],
   "source": [
    "from sklearn.preprocessing import StandardScaler\n",
    "\n",
    "stdzer = StandardScaler()\n",
    "stdzer.fit(X_train[num_cols])\n",
    "X_train[num_cols] = stdzer.transform(X_train[num_cols])"
   ]
  },
  {
   "cell_type": "code",
   "execution_count": 47,
   "metadata": {},
   "outputs": [],
   "source": [
    "X_test[num_cols] = stdzer.transform(X_test[num_cols])"
   ]
  },
  {
   "cell_type": "code",
   "execution_count": 48,
   "metadata": {},
   "outputs": [
    {
     "name": "stdout",
     "output_type": "stream",
     "text": [
      "(23336, 13)\n"
     ]
    },
    {
     "data": {
      "text/plain": [
       "age                float64\n",
       "workclass         category\n",
       "fnlwgt             float64\n",
       "education_num     category\n",
       "marital_status    category\n",
       "occupation        category\n",
       "relationship      category\n",
       "race              category\n",
       "sex               category\n",
       "capital_gain       float64\n",
       "capital_loss       float64\n",
       "hours_per_week     float64\n",
       "native_country    category\n",
       "dtype: object"
      ]
     },
     "execution_count": 48,
     "metadata": {},
     "output_type": "execute_result"
    }
   ],
   "source": [
    "print(X_train.shape)\n",
    "X_train.dtypes"
   ]
  },
  {
   "cell_type": "code",
   "execution_count": 49,
   "metadata": {},
   "outputs": [],
   "source": [
    "X_train = pd.get_dummies(columns = cat_cols, data = X_train, drop_first = True)\n",
    "X_test = pd.get_dummies(columns = cat_cols, data = X_test, drop_first = True)"
   ]
  },
  {
   "cell_type": "code",
   "execution_count": 50,
   "metadata": {},
   "outputs": [
    {
     "data": {
      "text/html": [
       "<div>\n",
       "<style scoped>\n",
       "    .dataframe tbody tr th:only-of-type {\n",
       "        vertical-align: middle;\n",
       "    }\n",
       "\n",
       "    .dataframe tbody tr th {\n",
       "        vertical-align: top;\n",
       "    }\n",
       "\n",
       "    .dataframe thead th {\n",
       "        text-align: right;\n",
       "    }\n",
       "</style>\n",
       "<table border=\"1\" class=\"dataframe\">\n",
       "  <thead>\n",
       "    <tr style=\"text-align: right;\">\n",
       "      <th></th>\n",
       "      <th>age</th>\n",
       "      <th>fnlwgt</th>\n",
       "      <th>capital_gain</th>\n",
       "      <th>capital_loss</th>\n",
       "      <th>hours_per_week</th>\n",
       "      <th>workclass_ Federal-gov</th>\n",
       "      <th>workclass_ Local-gov</th>\n",
       "      <th>workclass_ Never-worked</th>\n",
       "      <th>workclass_ Private</th>\n",
       "      <th>workclass_ Self-emp-inc</th>\n",
       "      <th>...</th>\n",
       "      <th>relationship_ Not-in-family</th>\n",
       "      <th>relationship_ Other-relative</th>\n",
       "      <th>relationship_ Own-child</th>\n",
       "      <th>relationship_ Unmarried</th>\n",
       "      <th>relationship_ Wife</th>\n",
       "      <th>race_ Asian-Pac-Islander</th>\n",
       "      <th>race_ Black</th>\n",
       "      <th>race_ Other</th>\n",
       "      <th>race_ White</th>\n",
       "      <th>sex_ Male</th>\n",
       "    </tr>\n",
       "  </thead>\n",
       "  <tbody>\n",
       "    <tr>\n",
       "      <th>7815</th>\n",
       "      <td>-0.410225</td>\n",
       "      <td>0.030848</td>\n",
       "      <td>-0.149537</td>\n",
       "      <td>-0.217978</td>\n",
       "      <td>-1.640541</td>\n",
       "      <td>0</td>\n",
       "      <td>0</td>\n",
       "      <td>0</td>\n",
       "      <td>1</td>\n",
       "      <td>0</td>\n",
       "      <td>...</td>\n",
       "      <td>0</td>\n",
       "      <td>0</td>\n",
       "      <td>0</td>\n",
       "      <td>1</td>\n",
       "      <td>0</td>\n",
       "      <td>0</td>\n",
       "      <td>1</td>\n",
       "      <td>0</td>\n",
       "      <td>0</td>\n",
       "      <td>0</td>\n",
       "    </tr>\n",
       "    <tr>\n",
       "      <th>2582</th>\n",
       "      <td>-0.774050</td>\n",
       "      <td>0.161817</td>\n",
       "      <td>-0.149537</td>\n",
       "      <td>-0.217978</td>\n",
       "      <td>0.774030</td>\n",
       "      <td>0</td>\n",
       "      <td>0</td>\n",
       "      <td>0</td>\n",
       "      <td>1</td>\n",
       "      <td>0</td>\n",
       "      <td>...</td>\n",
       "      <td>0</td>\n",
       "      <td>0</td>\n",
       "      <td>0</td>\n",
       "      <td>0</td>\n",
       "      <td>0</td>\n",
       "      <td>0</td>\n",
       "      <td>0</td>\n",
       "      <td>0</td>\n",
       "      <td>1</td>\n",
       "      <td>1</td>\n",
       "    </tr>\n",
       "    <tr>\n",
       "      <th>20927</th>\n",
       "      <td>-0.992345</td>\n",
       "      <td>-0.101226</td>\n",
       "      <td>-0.149537</td>\n",
       "      <td>-0.217978</td>\n",
       "      <td>-0.030827</td>\n",
       "      <td>0</td>\n",
       "      <td>0</td>\n",
       "      <td>0</td>\n",
       "      <td>1</td>\n",
       "      <td>0</td>\n",
       "      <td>...</td>\n",
       "      <td>0</td>\n",
       "      <td>0</td>\n",
       "      <td>1</td>\n",
       "      <td>0</td>\n",
       "      <td>0</td>\n",
       "      <td>0</td>\n",
       "      <td>0</td>\n",
       "      <td>0</td>\n",
       "      <td>1</td>\n",
       "      <td>1</td>\n",
       "    </tr>\n",
       "    <tr>\n",
       "      <th>31320</th>\n",
       "      <td>-1.065110</td>\n",
       "      <td>-0.797536</td>\n",
       "      <td>0.342446</td>\n",
       "      <td>-0.217978</td>\n",
       "      <td>-0.030827</td>\n",
       "      <td>0</td>\n",
       "      <td>0</td>\n",
       "      <td>0</td>\n",
       "      <td>1</td>\n",
       "      <td>0</td>\n",
       "      <td>...</td>\n",
       "      <td>1</td>\n",
       "      <td>0</td>\n",
       "      <td>0</td>\n",
       "      <td>0</td>\n",
       "      <td>0</td>\n",
       "      <td>0</td>\n",
       "      <td>0</td>\n",
       "      <td>0</td>\n",
       "      <td>1</td>\n",
       "      <td>0</td>\n",
       "    </tr>\n",
       "    <tr>\n",
       "      <th>16891</th>\n",
       "      <td>-0.191931</td>\n",
       "      <td>-1.461564</td>\n",
       "      <td>-0.149537</td>\n",
       "      <td>-0.217978</td>\n",
       "      <td>0.371601</td>\n",
       "      <td>0</td>\n",
       "      <td>0</td>\n",
       "      <td>0</td>\n",
       "      <td>1</td>\n",
       "      <td>0</td>\n",
       "      <td>...</td>\n",
       "      <td>0</td>\n",
       "      <td>0</td>\n",
       "      <td>1</td>\n",
       "      <td>0</td>\n",
       "      <td>0</td>\n",
       "      <td>0</td>\n",
       "      <td>0</td>\n",
       "      <td>0</td>\n",
       "      <td>1</td>\n",
       "      <td>1</td>\n",
       "    </tr>\n",
       "  </tbody>\n",
       "</table>\n",
       "<p>5 rows × 58 columns</p>\n",
       "</div>"
      ],
      "text/plain": [
       "            age    fnlwgt  capital_gain  capital_loss  hours_per_week  \\\n",
       "7815  -0.410225  0.030848     -0.149537     -0.217978       -1.640541   \n",
       "2582  -0.774050  0.161817     -0.149537     -0.217978        0.774030   \n",
       "20927 -0.992345 -0.101226     -0.149537     -0.217978       -0.030827   \n",
       "31320 -1.065110 -0.797536      0.342446     -0.217978       -0.030827   \n",
       "16891 -0.191931 -1.461564     -0.149537     -0.217978        0.371601   \n",
       "\n",
       "       workclass_ Federal-gov  workclass_ Local-gov  workclass_ Never-worked  \\\n",
       "7815                        0                     0                        0   \n",
       "2582                        0                     0                        0   \n",
       "20927                       0                     0                        0   \n",
       "31320                       0                     0                        0   \n",
       "16891                       0                     0                        0   \n",
       "\n",
       "       workclass_ Private  workclass_ Self-emp-inc  ...  \\\n",
       "7815                    1                        0  ...   \n",
       "2582                    1                        0  ...   \n",
       "20927                   1                        0  ...   \n",
       "31320                   1                        0  ...   \n",
       "16891                   1                        0  ...   \n",
       "\n",
       "       relationship_ Not-in-family  relationship_ Other-relative  \\\n",
       "7815                             0                             0   \n",
       "2582                             0                             0   \n",
       "20927                            0                             0   \n",
       "31320                            1                             0   \n",
       "16891                            0                             0   \n",
       "\n",
       "       relationship_ Own-child  relationship_ Unmarried  relationship_ Wife  \\\n",
       "7815                         0                        1                   0   \n",
       "2582                         0                        0                   0   \n",
       "20927                        1                        0                   0   \n",
       "31320                        0                        0                   0   \n",
       "16891                        1                        0                   0   \n",
       "\n",
       "       race_ Asian-Pac-Islander  race_ Black  race_ Other  race_ White  \\\n",
       "7815                          0            1            0            0   \n",
       "2582                          0            0            0            1   \n",
       "20927                         0            0            0            1   \n",
       "31320                         0            0            0            1   \n",
       "16891                         0            0            0            1   \n",
       "\n",
       "       sex_ Male  \n",
       "7815           0  \n",
       "2582           1  \n",
       "20927          1  \n",
       "31320          0  \n",
       "16891          1  \n",
       "\n",
       "[5 rows x 58 columns]"
      ]
     },
     "execution_count": 50,
     "metadata": {},
     "output_type": "execute_result"
    }
   ],
   "source": [
    "X_train.head()"
   ]
  },
  {
   "cell_type": "code",
   "execution_count": 51,
   "metadata": {},
   "outputs": [
    {
     "name": "stdout",
     "output_type": "stream",
     "text": [
      "# Train Columns: 58\n",
      "# Test Columns: 58\n"
     ]
    }
   ],
   "source": [
    "print(\"# Train Columns: \" + str(len(X_train.columns)))\n",
    "print(\"# Test Columns: \" + str(len(X_test.columns)))"
   ]
  },
  {
   "cell_type": "code",
   "execution_count": 52,
   "metadata": {},
   "outputs": [],
   "source": [
    "x = pd.DataFrame(np.sum(X_train) / (np.sum(X_train) + np.sum(X_test)), index = X_train.columns, columns = ['Percent_Train_Data'])"
   ]
  },
  {
   "cell_type": "code",
   "execution_count": 53,
   "metadata": {},
   "outputs": [
    {
     "data": {
      "text/html": [
       "<div>\n",
       "<style scoped>\n",
       "    .dataframe tbody tr th:only-of-type {\n",
       "        vertical-align: middle;\n",
       "    }\n",
       "\n",
       "    .dataframe tbody tr th {\n",
       "        vertical-align: top;\n",
       "    }\n",
       "\n",
       "    .dataframe thead th {\n",
       "        text-align: right;\n",
       "    }\n",
       "</style>\n",
       "<table border=\"1\" class=\"dataframe\">\n",
       "  <thead>\n",
       "    <tr style=\"text-align: right;\">\n",
       "      <th></th>\n",
       "      <th>Percent_Train_Data</th>\n",
       "    </tr>\n",
       "  </thead>\n",
       "  <tbody>\n",
       "    <tr>\n",
       "      <th>age</th>\n",
       "      <td>-6.199748e-14</td>\n",
       "    </tr>\n",
       "    <tr>\n",
       "      <th>fnlwgt</th>\n",
       "      <td>2.958901e-14</td>\n",
       "    </tr>\n",
       "    <tr>\n",
       "      <th>capital_gain</th>\n",
       "      <td>-1.486070e-14</td>\n",
       "    </tr>\n",
       "    <tr>\n",
       "      <th>capital_loss</th>\n",
       "      <td>-6.244328e-14</td>\n",
       "    </tr>\n",
       "    <tr>\n",
       "      <th>hours_per_week</th>\n",
       "      <td>-1.080118e-13</td>\n",
       "    </tr>\n",
       "  </tbody>\n",
       "</table>\n",
       "</div>"
      ],
      "text/plain": [
       "                Percent_Train_Data\n",
       "age                  -6.199748e-14\n",
       "fnlwgt                2.958901e-14\n",
       "capital_gain         -1.486070e-14\n",
       "capital_loss         -6.244328e-14\n",
       "hours_per_week       -1.080118e-13"
      ]
     },
     "execution_count": 53,
     "metadata": {},
     "output_type": "execute_result"
    }
   ],
   "source": [
    "x.head()"
   ]
  },
  {
   "cell_type": "code",
   "execution_count": 54,
   "metadata": {},
   "outputs": [
    {
     "data": {
      "text/html": [
       "<div>\n",
       "<style scoped>\n",
       "    .dataframe tbody tr th:only-of-type {\n",
       "        vertical-align: middle;\n",
       "    }\n",
       "\n",
       "    .dataframe tbody tr th {\n",
       "        vertical-align: top;\n",
       "    }\n",
       "\n",
       "    .dataframe thead th {\n",
       "        text-align: right;\n",
       "    }\n",
       "</style>\n",
       "<table border=\"1\" class=\"dataframe\">\n",
       "  <thead>\n",
       "    <tr style=\"text-align: right;\">\n",
       "      <th></th>\n",
       "      <th>Percent_Train_Data</th>\n",
       "    </tr>\n",
       "  </thead>\n",
       "  <tbody>\n",
       "    <tr>\n",
       "      <th>race_ Asian-Pac-Islander</th>\n",
       "      <td>0.763699</td>\n",
       "    </tr>\n",
       "    <tr>\n",
       "      <th>race_ Black</th>\n",
       "      <td>0.797669</td>\n",
       "    </tr>\n",
       "    <tr>\n",
       "      <th>race_ Other</th>\n",
       "      <td>0.806202</td>\n",
       "    </tr>\n",
       "    <tr>\n",
       "      <th>race_ White</th>\n",
       "      <td>0.800398</td>\n",
       "    </tr>\n",
       "    <tr>\n",
       "      <th>sex_ Male</th>\n",
       "      <td>0.800749</td>\n",
       "    </tr>\n",
       "  </tbody>\n",
       "</table>\n",
       "</div>"
      ],
      "text/plain": [
       "                          Percent_Train_Data\n",
       "race_ Asian-Pac-Islander            0.763699\n",
       "race_ Black                         0.797669\n",
       "race_ Other                         0.806202\n",
       "race_ White                         0.800398\n",
       "sex_ Male                           0.800749"
      ]
     },
     "execution_count": 54,
     "metadata": {},
     "output_type": "execute_result"
    }
   ],
   "source": [
    "x.tail()"
   ]
  },
  {
   "cell_type": "code",
   "execution_count": 55,
   "metadata": {},
   "outputs": [
    {
     "data": {
      "text/plain": [
       "4"
      ]
     },
     "execution_count": 55,
     "metadata": {},
     "output_type": "execute_result"
    }
   ],
   "source": [
    "np.sum((x.Percent_Train_Data <= 0) | (x.Percent_Train_Data >=1))"
   ]
  },
  {
   "cell_type": "markdown",
   "metadata": {},
   "source": [
    "The above step confirms that train data contains at least some proportion of data corresponding to the individual categories and it will therefore be definitely trained (how good will it work, don't know but it won't crash) to handle those categories in the test data."
   ]
  },
  {
   "cell_type": "markdown",
   "metadata": {},
   "source": [
    "# Logistic Regression"
   ]
  },
  {
   "cell_type": "code",
   "execution_count": 56,
   "metadata": {},
   "outputs": [
    {
     "name": "stdout",
     "output_type": "stream",
     "text": [
      "LogisticRegression(C=206.913808111479, class_weight=None, dual=False,\n",
      "                   fit_intercept=True, intercept_scaling=1, l1_ratio=None,\n",
      "                   max_iter=100, multi_class='warn', n_jobs=None, penalty='l2',\n",
      "                   random_state=None, solver='liblinear', tol=0.0001, verbose=0,\n",
      "                   warm_start=False)\n"
     ]
    }
   ],
   "source": [
    "from sklearn.linear_model import LogisticRegression\n",
    "from sklearn.model_selection import GridSearchCV\n",
    "from sklearn.metrics import classification_report\n",
    "\n",
    "params = {'C': list(np.logspace(-4,4,num = 20))}\n",
    "LRClf = LogisticRegression(solver = 'liblinear')\n",
    "\n",
    "gdCV = GridSearchCV(LRClf, param_grid=params, scoring = 'recall', cv = 3, refit = True)\n",
    "gdCV.fit(X_train, y_train)\n",
    "print(gdCV.best_estimator_)"
   ]
  },
  {
   "cell_type": "code",
   "execution_count": 57,
   "metadata": {},
   "outputs": [],
   "source": [
    "y_test_prob = []\n",
    "for i in gdCV.best_estimator_.predict_proba(X_test):\n",
    "    y_test_prob.append(i[1])"
   ]
  },
  {
   "cell_type": "code",
   "execution_count": 58,
   "metadata": {},
   "outputs": [
    {
     "name": "stdout",
     "output_type": "stream",
     "text": [
      "AUC for this classifier is 0.902\n"
     ]
    }
   ],
   "source": [
    "from sklearn.metrics import roc_curve\n",
    "from sklearn.metrics import roc_auc_score\n",
    "\n",
    "fpr, tpr, threshold = roc_curve(y_test, y_test_prob, pos_label = 1)\n",
    "print(\"AUC for this classifier is {:.3f}\".format(roc_auc_score(y_test, y_test_prob)))\n",
    "\n",
    "AUC_DF = pd.DataFrame({'TPR': tpr, 'FPR':fpr, 'Thr': np.round(threshold,3)})"
   ]
  },
  {
   "cell_type": "code",
   "execution_count": 59,
   "metadata": {},
   "outputs": [
    {
     "data": {
      "image/png": "[encoded data removed]"
     },
     "metadata": {},
     "output_type": "display_data"
    }
   ],
   "source": [
    "%%R -i AUC_DF -w 8 -h 6 -u in\n",
    "\n",
    "ggplot(AUC_DF, aes(x = FPR, y = TPR)) + labs(x = \"False Positive Rate\", y = \"True Postive Rate\", title = \"ROC for classifier\") + \n",
    "    geom_line()  + theme_bw(base_family = 'serif', base_size = 25) #+ geom_text(aes(label = Thr), angle = 90)"
   ]
  },
  {
   "cell_type": "markdown",
   "metadata": {},
   "source": [
    "Looking at the AUC Curve, it seems as if the best tradeoff is somewhere close to $FPR < 0.2$ and $TPR > 0.8$. So have a sneak peak at those values in our dataframe and select appropriate threshold which minimizes FPR and maximizes TPR.\n",
    "\n",
    "Instead of doing it manually, a metric called F1 Score can be used to find out this sweet spot. It is the harmonic mean of TPR and (1-FPR). Hence, use this as well to point out the optimal threshold."
   ]
  },
  {
   "cell_type": "code",
   "execution_count": 60,
   "metadata": {
    "scrolled": true
   },
   "outputs": [
    {
     "data": {
      "text/html": [
       "<div>\n",
       "<style scoped>\n",
       "    .dataframe tbody tr th:only-of-type {\n",
       "        vertical-align: middle;\n",
       "    }\n",
       "\n",
       "    .dataframe tbody tr th {\n",
       "        vertical-align: top;\n",
       "    }\n",
       "\n",
       "    .dataframe thead th {\n",
       "        text-align: right;\n",
       "    }\n",
       "</style>\n",
       "<table border=\"1\" class=\"dataframe\">\n",
       "  <thead>\n",
       "    <tr style=\"text-align: right;\">\n",
       "      <th></th>\n",
       "      <th>TPR</th>\n",
       "      <th>FPR</th>\n",
       "      <th>Thr</th>\n",
       "    </tr>\n",
       "  </thead>\n",
       "  <tbody>\n",
       "    <tr>\n",
       "      <th>734</th>\n",
       "      <td>0.801255</td>\n",
       "      <td>0.181591</td>\n",
       "      <td>0.290</td>\n",
       "    </tr>\n",
       "    <tr>\n",
       "      <th>735</th>\n",
       "      <td>0.801255</td>\n",
       "      <td>0.184773</td>\n",
       "      <td>0.286</td>\n",
       "    </tr>\n",
       "    <tr>\n",
       "      <th>736</th>\n",
       "      <td>0.802650</td>\n",
       "      <td>0.184773</td>\n",
       "      <td>0.286</td>\n",
       "    </tr>\n",
       "    <tr>\n",
       "      <th>737</th>\n",
       "      <td>0.802650</td>\n",
       "      <td>0.185000</td>\n",
       "      <td>0.286</td>\n",
       "    </tr>\n",
       "    <tr>\n",
       "      <th>738</th>\n",
       "      <td>0.803347</td>\n",
       "      <td>0.185000</td>\n",
       "      <td>0.286</td>\n",
       "    </tr>\n",
       "  </tbody>\n",
       "</table>\n",
       "</div>"
      ],
      "text/plain": [
       "          TPR       FPR    Thr\n",
       "734  0.801255  0.181591  0.290\n",
       "735  0.801255  0.184773  0.286\n",
       "736  0.802650  0.184773  0.286\n",
       "737  0.802650  0.185000  0.286\n",
       "738  0.803347  0.185000  0.286"
      ]
     },
     "execution_count": 60,
     "metadata": {},
     "output_type": "execute_result"
    }
   ],
   "source": [
    "AUC_DF[(AUC_DF.TPR > 0.8) &  (AUC_DF.FPR < 0.2)].head()"
   ]
  },
  {
   "cell_type": "code",
   "execution_count": 61,
   "metadata": {},
   "outputs": [
    {
     "data": {
      "text/html": [
       "<div>\n",
       "<style scoped>\n",
       "    .dataframe tbody tr th:only-of-type {\n",
       "        vertical-align: middle;\n",
       "    }\n",
       "\n",
       "    .dataframe tbody tr th {\n",
       "        vertical-align: top;\n",
       "    }\n",
       "\n",
       "    .dataframe thead th {\n",
       "        text-align: right;\n",
       "    }\n",
       "</style>\n",
       "<table border=\"1\" class=\"dataframe\">\n",
       "  <thead>\n",
       "    <tr style=\"text-align: right;\">\n",
       "      <th></th>\n",
       "      <th>TPR</th>\n",
       "      <th>FPR</th>\n",
       "      <th>Thr</th>\n",
       "      <th>f1</th>\n",
       "    </tr>\n",
       "  </thead>\n",
       "  <tbody>\n",
       "    <tr>\n",
       "      <th>792</th>\n",
       "      <td>0.833333</td>\n",
       "      <td>0.203636</td>\n",
       "      <td>0.26</td>\n",
       "      <td>0.814429</td>\n",
       "    </tr>\n",
       "  </tbody>\n",
       "</table>\n",
       "</div>"
      ],
      "text/plain": [
       "          TPR       FPR   Thr        f1\n",
       "792  0.833333  0.203636  0.26  0.814429"
      ]
     },
     "execution_count": 61,
     "metadata": {},
     "output_type": "execute_result"
    }
   ],
   "source": [
    "AUC_DF['f1'] = 2 * AUC_DF['TPR'] * (1 - AUC_DF['FPR']) / (AUC_DF['TPR'] + 1 - AUC_DF['FPR'])\n",
    "AUC_DF[AUC_DF['f1'] == np.max(AUC_DF['f1'].values)]"
   ]
  },
  {
   "cell_type": "markdown",
   "metadata": {},
   "source": [
    "Select a threshold of 0.26 after observing the dataframe above."
   ]
  },
  {
   "cell_type": "code",
   "execution_count": 62,
   "metadata": {},
   "outputs": [
    {
     "data": {
      "text/plain": [
       "[1, 0, 1, 0, 0, 0, 0, 1, 0, 0]"
      ]
     },
     "execution_count": 62,
     "metadata": {},
     "output_type": "execute_result"
    }
   ],
   "source": [
    "y_pred_test = []\n",
    "for i in y_test_prob:\n",
    "    if i > 0.26:\n",
    "        y_pred_test.append(1)\n",
    "    else:\n",
    "        y_pred_test.append(0)\n",
    "y_pred_test[:10]"
   ]
  },
  {
   "cell_type": "code",
   "execution_count": 63,
   "metadata": {},
   "outputs": [
    {
     "name": "stdout",
     "output_type": "stream",
     "text": [
      "              precision    recall  f1-score   support\n",
      "\n",
      "           0       0.94      0.80      0.86      4400\n",
      "           1       0.57      0.83      0.68      1434\n",
      "\n",
      "    accuracy                           0.81      5834\n",
      "   macro avg       0.75      0.81      0.77      5834\n",
      "weighted avg       0.85      0.81      0.82      5834\n",
      "\n"
     ]
    }
   ],
   "source": [
    "print(classification_report(y_test, y_pred_test))"
   ]
  },
  {
   "cell_type": "markdown",
   "metadata": {},
   "source": [
    "We can see from the above statistics that our classifier is good at correctly predicting the class of people having income less than 50K. But for the class of people with income more than 50K, it takes a blow as it cannot give a good tradeoff between precision and recall. That's a drawback of this classifier. Let's try to implement some other better classifiers for this problem."
   ]
  },
  {
   "cell_type": "markdown",
   "metadata": {},
   "source": [
    "# SVM"
   ]
  },
  {
   "cell_type": "code",
   "execution_count": 64,
   "metadata": {},
   "outputs": [
    {
     "name": "stdout",
     "output_type": "stream",
     "text": [
      "              precision    recall  f1-score   support\n",
      "\n",
      "           0       0.87      0.94      0.90      4400\n",
      "           1       0.75      0.58      0.65      1434\n",
      "\n",
      "    accuracy                           0.85      5834\n",
      "   macro avg       0.81      0.76      0.78      5834\n",
      "weighted avg       0.84      0.85      0.84      5834\n",
      "\n"
     ]
    }
   ],
   "source": [
    "# SVM with RBF kernel\n",
    "from sklearn.svm import SVC\n",
    "LSVC = SVC(C = 1, kernel = 'rbf', random_state = 0)\n",
    "LSVC.fit(X_train, y_train)\n",
    "y_pred_test_SVC = LSVC.predict(X_test)\n",
    "print(classification_report(y_test, y_pred_test_SVC))"
   ]
  },
  {
   "cell_type": "code",
   "execution_count": 65,
   "metadata": {},
   "outputs": [
    {
     "name": "stdout",
     "output_type": "stream",
     "text": [
      "              precision    recall  f1-score   support\n",
      "\n",
      "           0       0.85      0.96      0.90      4400\n",
      "           1       0.79      0.47      0.59      1434\n",
      "\n",
      "    accuracy                           0.84      5834\n",
      "   macro avg       0.82      0.71      0.74      5834\n",
      "weighted avg       0.83      0.84      0.82      5834\n",
      "\n"
     ]
    }
   ],
   "source": [
    "# SVM with linear kernel\n",
    "from sklearn.svm import SVC\n",
    "LSVC = SVC(C = 1, kernel = 'poly', degree = 2, random_state = 0)\n",
    "LSVC.fit(X_train, y_train)\n",
    "y_pred_test_SVC = LSVC.predict(X_test)\n",
    "print(classification_report(y_test, y_pred_test_SVC))"
   ]
  },
  {
   "cell_type": "code",
   "execution_count": 66,
   "metadata": {},
   "outputs": [],
   "source": [
    "# Commenting this since it's computationally heavily intensive\n",
    "# from sklearn.model_selection import GridSearchCV\n",
    "\n",
    "# params_grid = {'kernel':['rbf', 'poly'],\n",
    "#              'degree':[1,2,3,4],\n",
    "#              'C': [0.01,0.1,1,10,],\n",
    "#              'gamma': [0.01,0.1,1,10,]}\n",
    "\n",
    "# model = SVC(random_state = 0)\n",
    "\n",
    "# gdCV = GridSearchCV(estimator=model,\n",
    "#                    param_grid = params_grid,\n",
    "#                    scoring = \"recall\",\n",
    "#                    n_jobs = -1,\n",
    "#                    cv = 2, verbose = 0)\n",
    "\n",
    "# gdCV.fit(X_train, y_train)\n",
    "\n",
    "# print(gdCV.best_params_)\n",
    "\n",
    "# y_pred_test_SVC = gdCV.best_estimator_.fit(X_train, y_train).predict(X_test)\n",
    "# print(classification_report(y_test, y_pred_test_SVC))"
   ]
  },
  {
   "cell_type": "markdown",
   "metadata": {},
   "source": [
    "SVM classifier is not working as good as Logistic Regression clssifier and also it's not intuitively interpretable. \n",
    "\n",
    "Firstly, we tried to build a classifier with our intuition using polynomial and RBF kernels which failed miserably on the test data. So, we chose to build a GridSearchCV object to give us the best out of the available parameters which included almost all of the parameters.\n",
    "\n",
    "The choice of any kernel or any regularization parameter or any gamma value/degree of polynomial doesn't seem to be working well with this classifier. Hence this is not the right kind of classifier to use in our scenario."
   ]
  },
  {
   "cell_type": "markdown",
   "metadata": {},
   "source": [
    "# Random Forest"
   ]
  },
  {
   "cell_type": "code",
   "execution_count": 67,
   "metadata": {},
   "outputs": [
    {
     "name": "stdout",
     "output_type": "stream",
     "text": [
      "              precision    recall  f1-score   support\n",
      "\n",
      "           0       0.88      0.92      0.90      4400\n",
      "           1       0.71      0.62      0.66      1434\n",
      "\n",
      "    accuracy                           0.85      5834\n",
      "   macro avg       0.80      0.77      0.78      5834\n",
      "weighted avg       0.84      0.85      0.84      5834\n",
      "\n"
     ]
    }
   ],
   "source": [
    "from sklearn.ensemble import RandomForestClassifier\n",
    "rfc = RandomForestClassifier(n_estimators = 50)\n",
    "rfc.fit(X_train, y_train)\n",
    "y_pred_test_RF = rfc.predict(X_test)\n",
    "print(classification_report(y_test, y_pred_test_RF))"
   ]
  },
  {
   "cell_type": "markdown",
   "metadata": {},
   "source": [
    "As seen from the above report, using **random forests and SVM increases the error** compared to a simple Logistic Regression Classifier and hence we would rather **select Logistic Regression** over these other methods. Also Random Forest Algorithm takes quite some while for running."
   ]
  },
  {
   "cell_type": "markdown",
   "metadata": {},
   "source": [
    "# Rest of the world Classification\n",
    "\n",
    "For the remaining countries, let's do the same analysis and see how well our classifier works."
   ]
  },
  {
   "cell_type": "code",
   "execution_count": 68,
   "metadata": {},
   "outputs": [],
   "source": [
    "X = ROWData.drop(columns = ['income_more_50K'], axis = 1)\n",
    "y = ROWData.income_more_50K.copy()\n",
    "\n",
    "X_train, X_test, y_train, y_test = train_test_split(X, y, stratify = y, random_state = 0)"
   ]
  },
  {
   "cell_type": "code",
   "execution_count": 69,
   "metadata": {},
   "outputs": [],
   "source": [
    "X_traingby = X_train.groupby(by = ['native_country'])\n",
    "substit_dict = X_traingby.agg(lambda x: x.value_counts().index[0]).to_dict()"
   ]
  },
  {
   "cell_type": "code",
   "execution_count": 70,
   "metadata": {},
   "outputs": [
    {
     "name": "stdout",
     "output_type": "stream",
     "text": [
      "age 0 0\n",
      "workclass 0 0\n",
      "fnlwgt 0 0\n",
      "education_num 0 0\n",
      "marital_status 0 0\n",
      "occupation 0 0\n",
      "relationship 0 0\n",
      "race 0 0\n",
      "sex 0 0\n",
      "capital_gain 0 0\n",
      "capital_loss 0 0\n",
      "hours_per_week 0 0\n",
      "native_country 0 0\n"
     ]
    }
   ],
   "source": [
    "# Imputing and checking if all the missing values have been imputed properly\n",
    "X_train = target_encoding(X_train.copy(), substit_dict, 12, \" ?\")\n",
    "X_test = target_encoding(X_test.copy(), substit_dict, 12, \" ?\")\n",
    "for i in X_train.columns:\n",
    "    print(i, np.sum(X_train[i] == \" ?\"), np.sum(X_test[i] == \" ?\"))"
   ]
  },
  {
   "cell_type": "code",
   "execution_count": 71,
   "metadata": {},
   "outputs": [],
   "source": [
    "# Standardizing numerical columns\n",
    "stdzer = StandardScaler()\n",
    "stdzer.fit(X_train[num_cols])\n",
    "\n",
    "X_train[num_cols] = stdzer.transform(X_train[num_cols])\n",
    "X_test[num_cols] = stdzer.transform(X_test[num_cols])"
   ]
  },
  {
   "cell_type": "code",
   "execution_count": 72,
   "metadata": {},
   "outputs": [],
   "source": [
    "# Dummifying categorical data\n",
    "\n",
    "X_train = pd.get_dummies(columns = cat_cols, data = X_train, drop_first = True)\n",
    "X_test = pd.get_dummies(columns = cat_cols, data = X_test, drop_first = True)"
   ]
  },
  {
   "cell_type": "code",
   "execution_count": 73,
   "metadata": {},
   "outputs": [
    {
     "data": {
      "text/plain": [
       "(2542, 94)"
      ]
     },
     "execution_count": 73,
     "metadata": {},
     "output_type": "execute_result"
    }
   ],
   "source": [
    "X_train.shape"
   ]
  },
  {
   "cell_type": "code",
   "execution_count": 74,
   "metadata": {},
   "outputs": [
    {
     "data": {
      "text/plain": [
       "(848, 94)"
      ]
     },
     "execution_count": 74,
     "metadata": {},
     "output_type": "execute_result"
    }
   ],
   "source": [
    "X_test.shape"
   ]
  },
  {
   "cell_type": "markdown",
   "metadata": {},
   "source": [
    "# Logistic Regression"
   ]
  },
  {
   "cell_type": "code",
   "execution_count": 75,
   "metadata": {},
   "outputs": [
    {
     "name": "stdout",
     "output_type": "stream",
     "text": [
      "{'C': 1438.44988828766, 'class_weight': None, 'dual': False, 'fit_intercept': True, 'intercept_scaling': 1, 'l1_ratio': None, 'max_iter': 100, 'multi_class': 'warn', 'n_jobs': None, 'penalty': 'l2', 'random_state': None, 'solver': 'warn', 'tol': 0.0001, 'verbose': 0, 'warm_start': False}\n",
      "\n",
      " AUC Score for the classifier is: 0.874\n",
      "\n",
      "          TPR       FPR  Threshold\n",
      "165  0.988095  0.873529      0.001\n",
      "166  0.994048  0.873529      0.001\n",
      "167  0.994048  0.916176      0.001\n",
      "168  1.000000  0.916176      0.001\n",
      "169  1.000000  1.000000      0.000\n"
     ]
    }
   ],
   "source": [
    "LRC = LogisticRegression()\n",
    "\n",
    "params_grid = {'C': list(np.logspace(-4,4,num = 20))}\n",
    "\n",
    "gdCV = GridSearchCV(estimator = LRC, \n",
    "                   param_grid = params_grid,\n",
    "                   scoring = 'recall', cv = 3, refit = True)\n",
    "\n",
    "gdCV.fit(X_train, y_train)\n",
    "\n",
    "print(gdCV.best_estimator_.get_params())\n",
    "probabilities = gdCV.predict_proba(X_test)\n",
    "\n",
    "y_pred_prob = []\n",
    "for i in probabilities:\n",
    "    y_pred_prob.append(i[1])\n",
    "\n",
    "fpr, tpr, thr = roc_curve(y_test, y_pred_prob)\n",
    "AUC_metrics = pd.DataFrame({\"TPR\":tpr, \"FPR\":fpr, \"Threshold\":np.round(thr,3)})\n",
    "print(\"\\n AUC Score for the classifier is: {:.3f}\\n\".format(roc_auc_score(y_test, y_pred_prob)))\n",
    "print(AUC_metrics.tail())"
   ]
  },
  {
   "cell_type": "code",
   "execution_count": 76,
   "metadata": {},
   "outputs": [
    {
     "data": {
      "image/png": "[encoded data removed]"
     },
     "metadata": {},
     "output_type": "display_data"
    }
   ],
   "source": [
    "%%R -i AUC_metrics -w 8 -h 6 -u in\n",
    "\n",
    "ggplot(AUC_metrics, aes(x = FPR, y = TPR)) + geom_line() +\n",
    "    labs(x = \"False Positive Rate\", y = \"True Positive Rate\", title = \" ROC Curve \") +\n",
    "    theme_bw(base_family = 'serif', base_size = 20) #+ geom_text(aes(label = Threshold), angle = 90)"
   ]
  },
  {
   "cell_type": "code",
   "execution_count": 77,
   "metadata": {},
   "outputs": [
    {
     "data": {
      "text/html": [
       "<div>\n",
       "<style scoped>\n",
       "    .dataframe tbody tr th:only-of-type {\n",
       "        vertical-align: middle;\n",
       "    }\n",
       "\n",
       "    .dataframe tbody tr th {\n",
       "        vertical-align: top;\n",
       "    }\n",
       "\n",
       "    .dataframe thead th {\n",
       "        text-align: right;\n",
       "    }\n",
       "</style>\n",
       "<table border=\"1\" class=\"dataframe\">\n",
       "  <thead>\n",
       "    <tr style=\"text-align: right;\">\n",
       "      <th></th>\n",
       "      <th>TPR</th>\n",
       "      <th>FPR</th>\n",
       "      <th>Threshold</th>\n",
       "      <th>f1</th>\n",
       "    </tr>\n",
       "  </thead>\n",
       "  <tbody>\n",
       "    <tr>\n",
       "      <th>110</th>\n",
       "      <td>0.821429</td>\n",
       "      <td>0.191176</td>\n",
       "      <td>0.17</td>\n",
       "      <td>0.815077</td>\n",
       "    </tr>\n",
       "  </tbody>\n",
       "</table>\n",
       "</div>"
      ],
      "text/plain": [
       "          TPR       FPR  Threshold        f1\n",
       "110  0.821429  0.191176       0.17  0.815077"
      ]
     },
     "execution_count": 77,
     "metadata": {},
     "output_type": "execute_result"
    }
   ],
   "source": [
    "# Find a threshold that maximizes Recall and minimizes FPR using f1-score\n",
    "AUC_metrics['f1'] = 2 * AUC_metrics['TPR'] * (1 - AUC_metrics['FPR']) / (AUC_metrics['TPR'] + 1 - AUC_metrics['FPR'])\n",
    "AUC_metrics[AUC_metrics['f1'] == np.max(AUC_metrics['f1'].values)]"
   ]
  },
  {
   "cell_type": "markdown",
   "metadata": {},
   "source": [
    "Select the value of threshold = 0.17 to achieve a good tradeoff between precision and recall. Now do the predictions and check the recall and precision values on the test data as per threshold = 0.17."
   ]
  },
  {
   "cell_type": "code",
   "execution_count": 78,
   "metadata": {},
   "outputs": [
    {
     "name": "stdout",
     "output_type": "stream",
     "text": [
      "              precision    recall  f1-score   support\n",
      "\n",
      "           0       0.95      0.81      0.87       680\n",
      "           1       0.51      0.82      0.63       168\n",
      "\n",
      "    accuracy                           0.81       848\n",
      "   macro avg       0.73      0.82      0.75       848\n",
      "weighted avg       0.86      0.81      0.83       848\n",
      "\n"
     ]
    }
   ],
   "source": [
    "y_pred_test_ROW = []\n",
    "\n",
    "for i in y_pred_prob:\n",
    "    if i >= 0.17:\n",
    "        y_pred_test_ROW.append(1)\n",
    "    else:\n",
    "        y_pred_test_ROW.append(0)\n",
    "\n",
    "print(classification_report(y_test, y_pred_test_ROW))"
   ]
  },
  {
   "cell_type": "markdown",
   "metadata": {},
   "source": [
    "# SVM"
   ]
  },
  {
   "cell_type": "code",
   "execution_count": 79,
   "metadata": {},
   "outputs": [
    {
     "name": "stdout",
     "output_type": "stream",
     "text": [
      "Performance of the best fit SVM is as follows:\n",
      "\n",
      "              precision    recall  f1-score   support\n",
      "\n",
      "           0       0.89      0.94      0.91       680\n",
      "           1       0.68      0.55      0.61       168\n",
      "\n",
      "    accuracy                           0.86       848\n",
      "   macro avg       0.79      0.74      0.76       848\n",
      "weighted avg       0.85      0.86      0.85       848\n",
      "\n",
      "\n",
      "The parameters of the best fit SVM are:\n",
      "\n",
      "{'C': 100.0, 'gamma': 0.01, 'kernel': 'rbf'}\n"
     ]
    }
   ],
   "source": [
    "from sklearn.svm import SVC\n",
    "from sklearn.model_selection import GridSearchCV\n",
    "ROW_SVC = SVC(random_state = 0)\n",
    "\n",
    "params_grid = {\"C\":list(np.geomspace(0.01,100,num = 5)),\n",
    "              \"kernel\":['poly', 'rbf'],\n",
    "              \"gamma\": list(np.geomspace(0.01,10,num = 4))}\n",
    "\n",
    "gdCV = GridSearchCV(estimator = ROW_SVC,\n",
    "                   param_grid = params_grid,\n",
    "                   cv = 3, refit = True)\n",
    "                   \n",
    "gdCV.fit(X_train, y_train)\n",
    "y_pred_ROW_SVM = gdCV.best_estimator_.predict(X_test)\n",
    "print(\"Performance of the best fit SVM is as follows:\\n\")\n",
    "print(classification_report(y_test, y_pred_ROW_SVM))\n",
    "print(\"\\nThe parameters of the best fit SVM are:\\n\")\n",
    "print(gdCV.best_params_)"
   ]
  },
  {
   "cell_type": "markdown",
   "metadata": {},
   "source": [
    "# Random Forest"
   ]
  },
  {
   "cell_type": "code",
   "execution_count": 80,
   "metadata": {},
   "outputs": [
    {
     "name": "stdout",
     "output_type": "stream",
     "text": [
      "Random Forest Classifier performance is \n",
      "\n",
      "              precision    recall  f1-score   support\n",
      "\n",
      "           0       0.88      0.98      0.93       680\n",
      "           1       0.86      0.46      0.60       168\n",
      "\n",
      "    accuracy                           0.88       848\n",
      "   macro avg       0.87      0.72      0.77       848\n",
      "weighted avg       0.88      0.88      0.86       848\n",
      "\n"
     ]
    }
   ],
   "source": [
    "from sklearn.ensemble import RandomForestClassifier\n",
    "\n",
    "ROW_RFC = RandomForestClassifier(n_estimators = 50, \n",
    "                                 max_features = 'sqrt', \n",
    "                                 min_samples_leaf = 5,\n",
    "                                 max_depth = 20,\n",
    "                                 random_state = 0)\n",
    "ROW_RFC.fit(X_train, y_train)\n",
    "y_pred_ROW_RFC = ROW_RFC.predict(X_test)\n",
    "print('Random Forest Classifier performance is \\n')\n",
    "print(classification_report(y_test, y_pred_ROW_RFC))"
   ]
  },
  {
   "cell_type": "markdown",
   "metadata": {},
   "source": [
    "Random Forest is not a good classifier for this data because even after having the depth of tree set to a maximum of 20 and only having 5 samples a leaf is giving such low recall compared to a simple Logistic Regression Classifier."
   ]
  },
  {
   "cell_type": "markdown",
   "metadata": {},
   "source": [
    "# Decision Tree"
   ]
  },
  {
   "cell_type": "code",
   "execution_count": 81,
   "metadata": {},
   "outputs": [
    {
     "name": "stdout",
     "output_type": "stream",
     "text": [
      "Random Forest Classifier performance is \n",
      "\n",
      "              precision    recall  f1-score   support\n",
      "\n",
      "           0       0.88      0.98      0.93       680\n",
      "           1       0.86      0.46      0.60       168\n",
      "\n",
      "    accuracy                           0.88       848\n",
      "   macro avg       0.87      0.72      0.77       848\n",
      "weighted avg       0.88      0.88      0.86       848\n",
      "\n",
      "\n",
      " And the best estimator parameters are \n",
      "\n",
      "{'criterion': 'entropy', 'max_depth': 5, 'min_samples_leaf': 10}\n"
     ]
    }
   ],
   "source": [
    "from sklearn.tree import DecisionTreeClassifier\n",
    "\n",
    "ROW_DTC = DecisionTreeClassifier()\n",
    "\n",
    "params_grid = {\n",
    "              'criterion':['gini','entropy'],\n",
    "              'max_depth':range(3,10),\n",
    "              'min_samples_leaf':range(3,25,7)\n",
    "              }\n",
    "\n",
    "gdCVDT  = GridSearchCV(estimator = ROW_DTC,\n",
    "                      param_grid = params_grid,\n",
    "                      cv = 3, refit = True)\n",
    "\n",
    "gdCVDT.fit(X_train, y_train)\n",
    "y_pred_ROW_DT = gdCVDT.predict(X_test)\n",
    "\n",
    "print('Random Forest Classifier performance is \\n')\n",
    "print(classification_report(y_test, y_pred_ROW_RFC))\n",
    "print('\\n And the best estimator parameters are \\n')\n",
    "print(gdCVDT.best_params_)"
   ]
  },
  {
   "cell_type": "markdown",
   "metadata": {},
   "source": [
    "# Conclusion\n",
    "\n",
    "In both United States Case and in Rest of the world case, **Simple Logistic Regression Classifier performs better than Random Forest, SVM or Decision Trees.** For this problem, go with a Simple Logistic Regression Classifier only."
   ]
  },
  {
   "cell_type": "code",
   "execution_count": null,
   "metadata": {},
   "outputs": [],
   "source": []
  }
 ],
 "metadata": {
  "kernelspec": {
   "display_name": "Python 3",
   "language": "python",
   "name": "python3"
  },
  "language_info": {
   "codemirror_mode": {
    "name": "ipython",
    "version": 3
   },
   "file_extension": ".py",
   "mimetype": "text/x-python",
   "name": "python",
   "nbconvert_exporter": "python",
   "pygments_lexer": "ipython3",
   "version": "3.7.3"
  }
 },
 "nbformat": 4,
 "nbformat_minor": 2
}
