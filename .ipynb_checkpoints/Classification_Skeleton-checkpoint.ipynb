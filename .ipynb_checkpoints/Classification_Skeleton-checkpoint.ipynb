{
 "cells": [
  {
   "cell_type": "markdown",
   "metadata": {},
   "source": [
    "# Classification Problem Skeleton\n",
    "\n",
    "**Author:  Vinayak**  \n",
    "**Date:    13/9/2019**"
   ]
  },
  {
   "cell_type": "markdown",
   "metadata": {},
   "source": [
    "# Logistic Regression"
   ]
  },
  {
   "cell_type": "code",
   "execution_count": null,
   "metadata": {},
   "outputs": [],
   "source": [
    "from sklearn.metrics import classification_report\n",
    "from sklearn.linear_model import LogisticRegression\n",
    "LRC = LogisticRegression()\n",
    "\n",
    "LRC.fit(X_train, y_train)\n",
    "y_pred_LRC = LRC.predict(X_test)\n",
    "\n",
    "print(classification_report(y_test, y_pred_LRC))"
   ]
  },
  {
   "cell_type": "markdown",
   "metadata": {},
   "source": [
    "# Support Vector Classifier"
   ]
  },
  {
   "cell_type": "code",
   "execution_count": null,
   "metadata": {},
   "outputs": [],
   "source": [
    "# SVM with RBF kernel\n",
    "from sklearn.svm import SVC\n",
    "LSVC = SVC(C = 1, kernel = 'rbf', random_state = 0)\n",
    "\n",
    "LSVC.fit(X_train, y_train)\n",
    "y_pred_test_SVC = LSVC.predict(X_test)\n",
    "\n",
    "print(classification_report(y_test, y_pred_test_SVC))"
   ]
  },
  {
   "cell_type": "code",
   "execution_count": null,
   "metadata": {},
   "outputs": [],
   "source": [
    "# SVM with polynomial kernel\n",
    "from sklearn.svm import SVC\n",
    "LSVC = SVC(C = 1, kernel = 'poly', degree = 2, random_state = 0)\n",
    "\n",
    "LSVC.fit(X_train, y_train)\n",
    "y_pred_test_SVC = LSVC.predict(X_test)\n",
    "\n",
    "print(classification_report(y_test, y_pred_test_SVC))"
   ]
  },
  {
   "cell_type": "markdown",
   "metadata": {},
   "source": [
    "# Decision Trees"
   ]
  },
  {
   "cell_type": "code",
   "execution_count": null,
   "metadata": {},
   "outputs": [],
   "source": [
    "from sklearn.tree import DecisionTreeClassifier\n",
    "DTC = DecisionTreeClassifier(criterion = 'gini', max_features = 'sqrt', max_depth = 10, random_state = 0)\n",
    "\n",
    "DTC.fit(X_train, y_train)\n",
    "y_pred_DT = DTC.predict(X_test)\n",
    "\n",
    "print(classification_report(y_test, y_pred_DT))"
   ]
  },
  {
   "cell_type": "markdown",
   "metadata": {},
   "source": [
    "# Random Forest"
   ]
  },
  {
   "cell_type": "code",
   "execution_count": null,
   "metadata": {},
   "outputs": [],
   "source": [
    "from sklearn.ensemble import RandomForestClassifier\n",
    "rfc = RandomForestClassifier(n_estimators = 50)\n",
    "\n",
    "rfc.fit(X_train, y_train)\n",
    "y_pred_test_RF = rfc.predict(X_test)\n",
    "\n",
    "print(classification_report(y_test, y_pred_test_RF))"
   ]
  },
  {
   "cell_type": "markdown",
   "metadata": {},
   "source": [
    "# Randomized Search CV (Similar to GridSearchCV)"
   ]
  },
  {
   "cell_type": "code",
   "execution_count": null,
   "metadata": {},
   "outputs": [],
   "source": [
    "from sklearn.model_selection import RandomizedSearchCV\n",
    "from sklearn.model_selection import RandomizedSearchCV\n",
    "from sklearn.ensemble import RandomForestClassifier\n",
    "\n",
    "params_grid = {'criterion':['gini', 'entropy'],\n",
    "              'max_depth':[5,10,20,25,30,40,50,60,80,100],\n",
    "              'min_samples_leaf':[10,20,30,40,50,100,200],\n",
    "              'n_estimators':[10,20,30,40]}\n",
    "\n",
    "RFC = RandomForestClassifier(random_state = 0, n_estimators = 10)\n",
    "\n",
    "RFCV = RandomizedSearchCV(estimator = RFC, param_distributions = params_grid, n_iter = 20, scoring = 'f1', refit = True, cv = 3)\n",
    "RFCV.fit(X_train, y_train)\n",
    "\n",
    "y_pred_RFCV = RFCV.predict(X_test)\n",
    "print(classification_report(y_test, y_pred_RFCV))"
   ]
  },
  {
   "cell_type": "markdown",
   "metadata": {},
   "source": [
    "# Gradient Boosted Trees"
   ]
  },
  {
   "cell_type": "code",
   "execution_count": null,
   "metadata": {},
   "outputs": [],
   "source": [
    "from sklearn.ensemble import GradientBoostingClassifier\n",
    "\n",
    "GBC = GradientBoostingClassifier(learning_rate=0.1, n_estimators = 50, max_features=\"sqrt\")\n",
    "GBC.fit(X_train, y_train)\n",
    "\n",
    "y_pred_GBC = GBC.predict(X_test)\n",
    "print(classification_report(y_test, y_pred_RFCV))"
   ]
  },
  {
   "cell_type": "markdown",
   "metadata": {},
   "source": [
    "# Stacking"
   ]
  },
  {
   "cell_type": "code",
   "execution_count": null,
   "metadata": {},
   "outputs": [],
   "source": [
    "from mlxtend.classifier import StackingClassifier\n",
    "\n",
    "model1 = LogisticRegression()\n",
    "model2 = DecisionTreeClassifier(criterion = 'gini', max_features = 'sqrt', max_depth = 10, random_state = 0)\n",
    "model3 = RandomForestClassifier(n_estimators = 50)\n",
    "model4 = GradientBoostingClassifier(learning_rate=0.1, n_estimators = 50, max_features=\"sqrt\")\n",
    "\n",
    "meta_model = LogisticRegression()\n",
    "\n",
    "stack = StackingClassifier(classifiers=[model1, model2, model3, model4], meta_classifier=meta_model)\n",
    "\n",
    "stack.fit(X_train, y_train)\n",
    "y_pred_stacked = stack.predict(X_test)\n",
    "\n",
    "print(classification_report(y_test, y_pred_stacked))"
   ]
  },
  {
   "cell_type": "markdown",
   "metadata": {},
   "source": [
    "# AdaBoost Classifier"
   ]
  },
  {
   "cell_type": "code",
   "execution_count": null,
   "metadata": {},
   "outputs": [],
   "source": [
    "from sklearn.ensemble import AdaBoostClassifier\n",
    "\n",
    "estimator_model = AdaBoostClassifier(base_estimator = LogisticRegression(solver = 'liblinear'),\n",
    "                                    n_estimators = 100,\n",
    "                                    learning_rate=0.1,\n",
    "                                    random_state = 0)\n",
    "estimator_model.fit(X_train, y_train)\n",
    "y_pred_adaboost = estimator_model.predict(X_test)\n",
    "\n",
    "print(classification_report(y_test, y_pred_adaboost))"
   ]
  }
 ],
 "metadata": {
  "kernelspec": {
   "display_name": "Python 3",
   "language": "python",
   "name": "python3"
  },
  "language_info": {
   "codemirror_mode": {
    "name": "ipython",
    "version": 3
   },
   "file_extension": ".py",
   "mimetype": "text/x-python",
   "name": "python",
   "nbconvert_exporter": "python",
   "pygments_lexer": "ipython3",
   "version": "3.6.8"
  }
 },
 "nbformat": 4,
 "nbformat_minor": 2
}
