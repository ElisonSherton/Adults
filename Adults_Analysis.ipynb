{
 "cells": [
  {
   "cell_type": "code",
   "execution_count": 47,
   "metadata": {},
   "outputs": [],
   "source": [
    "import os\n",
    "import pandas as pd\n",
    "import numpy as np\n",
    "import seaborn as sns\n",
    "import matplotlib.pyplot as plt\n",
    "from matplotlib import rcParams\n",
    "from math import log\n",
    "#import rpy2\n",
    "#%load_ext rpy2.ipython"
   ]
  },
  {
   "cell_type": "code",
   "execution_count": 13,
   "metadata": {},
   "outputs": [],
   "source": [
    "os.chdir(\"C:\\\\Users\\\\nayak\\\\Desktop\\\\INSOFE\\\\My_Python_Scripts\\\\Adults\")\n",
    "data = pd.read_csv(\"adult.csv\", header = None)\n",
    "original = data.copy()"
   ]
  },
  {
   "cell_type": "code",
   "execution_count": 14,
   "metadata": {},
   "outputs": [
    {
     "data": {
      "text/html": [
       "<div>\n",
       "<style scoped>\n",
       "    .dataframe tbody tr th:only-of-type {\n",
       "        vertical-align: middle;\n",
       "    }\n",
       "\n",
       "    .dataframe tbody tr th {\n",
       "        vertical-align: top;\n",
       "    }\n",
       "\n",
       "    .dataframe thead th {\n",
       "        text-align: right;\n",
       "    }\n",
       "</style>\n",
       "<table border=\"1\" class=\"dataframe\">\n",
       "  <thead>\n",
       "    <tr style=\"text-align: right;\">\n",
       "      <th></th>\n",
       "      <th>0</th>\n",
       "      <th>1</th>\n",
       "      <th>2</th>\n",
       "      <th>3</th>\n",
       "      <th>4</th>\n",
       "      <th>5</th>\n",
       "      <th>6</th>\n",
       "      <th>7</th>\n",
       "      <th>8</th>\n",
       "      <th>9</th>\n",
       "      <th>10</th>\n",
       "      <th>11</th>\n",
       "      <th>12</th>\n",
       "      <th>13</th>\n",
       "      <th>14</th>\n",
       "    </tr>\n",
       "  </thead>\n",
       "  <tbody>\n",
       "    <tr>\n",
       "      <td>0</td>\n",
       "      <td>39</td>\n",
       "      <td>State-gov</td>\n",
       "      <td>77516</td>\n",
       "      <td>Bachelors</td>\n",
       "      <td>13</td>\n",
       "      <td>Never-married</td>\n",
       "      <td>Adm-clerical</td>\n",
       "      <td>Not-in-family</td>\n",
       "      <td>White</td>\n",
       "      <td>Male</td>\n",
       "      <td>2174</td>\n",
       "      <td>0</td>\n",
       "      <td>40</td>\n",
       "      <td>United-States</td>\n",
       "      <td>&lt;=50K</td>\n",
       "    </tr>\n",
       "    <tr>\n",
       "      <td>1</td>\n",
       "      <td>50</td>\n",
       "      <td>Self-emp-not-inc</td>\n",
       "      <td>83311</td>\n",
       "      <td>Bachelors</td>\n",
       "      <td>13</td>\n",
       "      <td>Married-civ-spouse</td>\n",
       "      <td>Exec-managerial</td>\n",
       "      <td>Husband</td>\n",
       "      <td>White</td>\n",
       "      <td>Male</td>\n",
       "      <td>0</td>\n",
       "      <td>0</td>\n",
       "      <td>13</td>\n",
       "      <td>United-States</td>\n",
       "      <td>&lt;=50K</td>\n",
       "    </tr>\n",
       "    <tr>\n",
       "      <td>2</td>\n",
       "      <td>38</td>\n",
       "      <td>Private</td>\n",
       "      <td>215646</td>\n",
       "      <td>HS-grad</td>\n",
       "      <td>9</td>\n",
       "      <td>Divorced</td>\n",
       "      <td>Handlers-cleaners</td>\n",
       "      <td>Not-in-family</td>\n",
       "      <td>White</td>\n",
       "      <td>Male</td>\n",
       "      <td>0</td>\n",
       "      <td>0</td>\n",
       "      <td>40</td>\n",
       "      <td>United-States</td>\n",
       "      <td>&lt;=50K</td>\n",
       "    </tr>\n",
       "    <tr>\n",
       "      <td>3</td>\n",
       "      <td>53</td>\n",
       "      <td>Private</td>\n",
       "      <td>234721</td>\n",
       "      <td>11th</td>\n",
       "      <td>7</td>\n",
       "      <td>Married-civ-spouse</td>\n",
       "      <td>Handlers-cleaners</td>\n",
       "      <td>Husband</td>\n",
       "      <td>Black</td>\n",
       "      <td>Male</td>\n",
       "      <td>0</td>\n",
       "      <td>0</td>\n",
       "      <td>40</td>\n",
       "      <td>United-States</td>\n",
       "      <td>&lt;=50K</td>\n",
       "    </tr>\n",
       "    <tr>\n",
       "      <td>4</td>\n",
       "      <td>28</td>\n",
       "      <td>Private</td>\n",
       "      <td>338409</td>\n",
       "      <td>Bachelors</td>\n",
       "      <td>13</td>\n",
       "      <td>Married-civ-spouse</td>\n",
       "      <td>Prof-specialty</td>\n",
       "      <td>Wife</td>\n",
       "      <td>Black</td>\n",
       "      <td>Female</td>\n",
       "      <td>0</td>\n",
       "      <td>0</td>\n",
       "      <td>40</td>\n",
       "      <td>Cuba</td>\n",
       "      <td>&lt;=50K</td>\n",
       "    </tr>\n",
       "  </tbody>\n",
       "</table>\n",
       "</div>"
      ],
      "text/plain": [
       "   0                  1       2           3   4                    5   \\\n",
       "0  39          State-gov   77516   Bachelors  13        Never-married   \n",
       "1  50   Self-emp-not-inc   83311   Bachelors  13   Married-civ-spouse   \n",
       "2  38            Private  215646     HS-grad   9             Divorced   \n",
       "3  53            Private  234721        11th   7   Married-civ-spouse   \n",
       "4  28            Private  338409   Bachelors  13   Married-civ-spouse   \n",
       "\n",
       "                   6               7       8        9     10  11  12  \\\n",
       "0        Adm-clerical   Not-in-family   White     Male  2174   0  40   \n",
       "1     Exec-managerial         Husband   White     Male     0   0  13   \n",
       "2   Handlers-cleaners   Not-in-family   White     Male     0   0  40   \n",
       "3   Handlers-cleaners         Husband   Black     Male     0   0  40   \n",
       "4      Prof-specialty            Wife   Black   Female     0   0  40   \n",
       "\n",
       "               13      14  \n",
       "0   United-States   <=50K  \n",
       "1   United-States   <=50K  \n",
       "2   United-States   <=50K  \n",
       "3   United-States   <=50K  \n",
       "4            Cuba   <=50K  "
      ]
     },
     "execution_count": 14,
     "metadata": {},
     "output_type": "execute_result"
    }
   ],
   "source": [
    "data.head()"
   ]
  },
  {
   "cell_type": "code",
   "execution_count": 15,
   "metadata": {},
   "outputs": [],
   "source": [
    "cols = ['age', 'workclass', 'fnlwgt', 'education', 'education_num', 'marital_status', 'occupation',\\\n",
    "       'relationship','race','sex', 'capital_gain', 'capital_loss','hours_per_week', 'native_country','income']\n",
    "data.columns = cols\n",
    "original.columns = cols"
   ]
  },
  {
   "cell_type": "code",
   "execution_count": 16,
   "metadata": {},
   "outputs": [
    {
     "data": {
      "text/html": [
       "<div>\n",
       "<style scoped>\n",
       "    .dataframe tbody tr th:only-of-type {\n",
       "        vertical-align: middle;\n",
       "    }\n",
       "\n",
       "    .dataframe tbody tr th {\n",
       "        vertical-align: top;\n",
       "    }\n",
       "\n",
       "    .dataframe thead th {\n",
       "        text-align: right;\n",
       "    }\n",
       "</style>\n",
       "<table border=\"1\" class=\"dataframe\">\n",
       "  <thead>\n",
       "    <tr style=\"text-align: right;\">\n",
       "      <th></th>\n",
       "      <th>age</th>\n",
       "      <th>workclass</th>\n",
       "      <th>fnlwgt</th>\n",
       "      <th>education</th>\n",
       "      <th>education_num</th>\n",
       "      <th>marital_status</th>\n",
       "      <th>occupation</th>\n",
       "      <th>relationship</th>\n",
       "      <th>race</th>\n",
       "      <th>sex</th>\n",
       "      <th>capital_gain</th>\n",
       "      <th>capital_loss</th>\n",
       "      <th>hours_per_week</th>\n",
       "      <th>native_country</th>\n",
       "      <th>income</th>\n",
       "    </tr>\n",
       "  </thead>\n",
       "  <tbody>\n",
       "    <tr>\n",
       "      <td>32556</td>\n",
       "      <td>27</td>\n",
       "      <td>Private</td>\n",
       "      <td>257302</td>\n",
       "      <td>Assoc-acdm</td>\n",
       "      <td>12</td>\n",
       "      <td>Married-civ-spouse</td>\n",
       "      <td>Tech-support</td>\n",
       "      <td>Wife</td>\n",
       "      <td>White</td>\n",
       "      <td>Female</td>\n",
       "      <td>0</td>\n",
       "      <td>0</td>\n",
       "      <td>38</td>\n",
       "      <td>United-States</td>\n",
       "      <td>&lt;=50K</td>\n",
       "    </tr>\n",
       "    <tr>\n",
       "      <td>32557</td>\n",
       "      <td>40</td>\n",
       "      <td>Private</td>\n",
       "      <td>154374</td>\n",
       "      <td>HS-grad</td>\n",
       "      <td>9</td>\n",
       "      <td>Married-civ-spouse</td>\n",
       "      <td>Machine-op-inspct</td>\n",
       "      <td>Husband</td>\n",
       "      <td>White</td>\n",
       "      <td>Male</td>\n",
       "      <td>0</td>\n",
       "      <td>0</td>\n",
       "      <td>40</td>\n",
       "      <td>United-States</td>\n",
       "      <td>&gt;50K</td>\n",
       "    </tr>\n",
       "    <tr>\n",
       "      <td>32558</td>\n",
       "      <td>58</td>\n",
       "      <td>Private</td>\n",
       "      <td>151910</td>\n",
       "      <td>HS-grad</td>\n",
       "      <td>9</td>\n",
       "      <td>Widowed</td>\n",
       "      <td>Adm-clerical</td>\n",
       "      <td>Unmarried</td>\n",
       "      <td>White</td>\n",
       "      <td>Female</td>\n",
       "      <td>0</td>\n",
       "      <td>0</td>\n",
       "      <td>40</td>\n",
       "      <td>United-States</td>\n",
       "      <td>&lt;=50K</td>\n",
       "    </tr>\n",
       "    <tr>\n",
       "      <td>32559</td>\n",
       "      <td>22</td>\n",
       "      <td>Private</td>\n",
       "      <td>201490</td>\n",
       "      <td>HS-grad</td>\n",
       "      <td>9</td>\n",
       "      <td>Never-married</td>\n",
       "      <td>Adm-clerical</td>\n",
       "      <td>Own-child</td>\n",
       "      <td>White</td>\n",
       "      <td>Male</td>\n",
       "      <td>0</td>\n",
       "      <td>0</td>\n",
       "      <td>20</td>\n",
       "      <td>United-States</td>\n",
       "      <td>&lt;=50K</td>\n",
       "    </tr>\n",
       "    <tr>\n",
       "      <td>32560</td>\n",
       "      <td>52</td>\n",
       "      <td>Self-emp-inc</td>\n",
       "      <td>287927</td>\n",
       "      <td>HS-grad</td>\n",
       "      <td>9</td>\n",
       "      <td>Married-civ-spouse</td>\n",
       "      <td>Exec-managerial</td>\n",
       "      <td>Wife</td>\n",
       "      <td>White</td>\n",
       "      <td>Female</td>\n",
       "      <td>15024</td>\n",
       "      <td>0</td>\n",
       "      <td>40</td>\n",
       "      <td>United-States</td>\n",
       "      <td>&gt;50K</td>\n",
       "    </tr>\n",
       "  </tbody>\n",
       "</table>\n",
       "</div>"
      ],
      "text/plain": [
       "       age      workclass  fnlwgt    education  education_num  \\\n",
       "32556   27        Private  257302   Assoc-acdm             12   \n",
       "32557   40        Private  154374      HS-grad              9   \n",
       "32558   58        Private  151910      HS-grad              9   \n",
       "32559   22        Private  201490      HS-grad              9   \n",
       "32560   52   Self-emp-inc  287927      HS-grad              9   \n",
       "\n",
       "            marital_status          occupation relationship    race      sex  \\\n",
       "32556   Married-civ-spouse        Tech-support         Wife   White   Female   \n",
       "32557   Married-civ-spouse   Machine-op-inspct      Husband   White     Male   \n",
       "32558              Widowed        Adm-clerical    Unmarried   White   Female   \n",
       "32559        Never-married        Adm-clerical    Own-child   White     Male   \n",
       "32560   Married-civ-spouse     Exec-managerial         Wife   White   Female   \n",
       "\n",
       "       capital_gain  capital_loss  hours_per_week  native_country  income  \n",
       "32556             0             0              38   United-States   <=50K  \n",
       "32557             0             0              40   United-States    >50K  \n",
       "32558             0             0              40   United-States   <=50K  \n",
       "32559             0             0              20   United-States   <=50K  \n",
       "32560         15024             0              40   United-States    >50K  "
      ]
     },
     "execution_count": 16,
     "metadata": {},
     "output_type": "execute_result"
    }
   ],
   "source": [
    "data.tail()"
   ]
  },
  {
   "cell_type": "code",
   "execution_count": 17,
   "metadata": {},
   "outputs": [
    {
     "data": {
      "text/plain": [
       "age                int64\n",
       "workclass         object\n",
       "fnlwgt             int64\n",
       "education         object\n",
       "education_num      int64\n",
       "marital_status    object\n",
       "occupation        object\n",
       "relationship      object\n",
       "race              object\n",
       "sex               object\n",
       "capital_gain       int64\n",
       "capital_loss       int64\n",
       "hours_per_week     int64\n",
       "native_country    object\n",
       "income            object\n",
       "dtype: object"
      ]
     },
     "execution_count": 17,
     "metadata": {},
     "output_type": "execute_result"
    }
   ],
   "source": [
    "data.dtypes"
   ]
  },
  {
   "cell_type": "code",
   "execution_count": 18,
   "metadata": {},
   "outputs": [
    {
     "data": {
      "text/plain": [
       "(32561, 15)"
      ]
     },
     "execution_count": 18,
     "metadata": {},
     "output_type": "execute_result"
    }
   ],
   "source": [
    "data.shape"
   ]
  },
  {
   "cell_type": "code",
   "execution_count": 19,
   "metadata": {},
   "outputs": [
    {
     "data": {
      "text/plain": [
       " <=50K    76.0\n",
       " >50K     24.0\n",
       "Name: income, dtype: float64"
      ]
     },
     "execution_count": 19,
     "metadata": {},
     "output_type": "execute_result"
    }
   ],
   "source": [
    "100 * np.round(data.income.value_counts()/data.shape[0], 2)"
   ]
  },
  {
   "cell_type": "code",
   "execution_count": 20,
   "metadata": {},
   "outputs": [
    {
     "data": {
      "text/plain": [
       "age                  73\n",
       "workclass             9\n",
       "fnlwgt            21648\n",
       "education            16\n",
       "education_num        16\n",
       "marital_status        7\n",
       "occupation           15\n",
       "relationship          6\n",
       "race                  5\n",
       "sex                   2\n",
       "capital_gain        119\n",
       "capital_loss         92\n",
       "hours_per_week       94\n",
       "native_country       42\n",
       "income                2\n",
       "dtype: int64"
      ]
     },
     "execution_count": 20,
     "metadata": {},
     "output_type": "execute_result"
    }
   ],
   "source": [
    "data.nunique()"
   ]
  },
  {
   "cell_type": "markdown",
   "metadata": {},
   "source": [
    "Looking at the education and education_num column, since they've both got the same number of levels, and also similar connotations, they need to be inspected further. As in, are they essentially the same or are they different?"
   ]
  },
  {
   "cell_type": "code",
   "execution_count": 21,
   "metadata": {},
   "outputs": [
    {
     "data": {
      "text/html": [
       "<div>\n",
       "<style scoped>\n",
       "    .dataframe tbody tr th:only-of-type {\n",
       "        vertical-align: middle;\n",
       "    }\n",
       "\n",
       "    .dataframe tbody tr th {\n",
       "        vertical-align: top;\n",
       "    }\n",
       "\n",
       "    .dataframe thead th {\n",
       "        text-align: right;\n",
       "    }\n",
       "</style>\n",
       "<table border=\"1\" class=\"dataframe\">\n",
       "  <thead>\n",
       "    <tr style=\"text-align: right;\">\n",
       "      <th></th>\n",
       "      <th>education</th>\n",
       "      <th>education_num</th>\n",
       "    </tr>\n",
       "  </thead>\n",
       "  <tbody>\n",
       "    <tr>\n",
       "      <td>0</td>\n",
       "      <td>Bachelors</td>\n",
       "      <td>13</td>\n",
       "    </tr>\n",
       "    <tr>\n",
       "      <td>1</td>\n",
       "      <td>Bachelors</td>\n",
       "      <td>13</td>\n",
       "    </tr>\n",
       "    <tr>\n",
       "      <td>2</td>\n",
       "      <td>HS-grad</td>\n",
       "      <td>9</td>\n",
       "    </tr>\n",
       "    <tr>\n",
       "      <td>3</td>\n",
       "      <td>11th</td>\n",
       "      <td>7</td>\n",
       "    </tr>\n",
       "    <tr>\n",
       "      <td>4</td>\n",
       "      <td>Bachelors</td>\n",
       "      <td>13</td>\n",
       "    </tr>\n",
       "    <tr>\n",
       "      <td>5</td>\n",
       "      <td>Masters</td>\n",
       "      <td>14</td>\n",
       "    </tr>\n",
       "    <tr>\n",
       "      <td>6</td>\n",
       "      <td>9th</td>\n",
       "      <td>5</td>\n",
       "    </tr>\n",
       "    <tr>\n",
       "      <td>7</td>\n",
       "      <td>HS-grad</td>\n",
       "      <td>9</td>\n",
       "    </tr>\n",
       "    <tr>\n",
       "      <td>8</td>\n",
       "      <td>Masters</td>\n",
       "      <td>14</td>\n",
       "    </tr>\n",
       "    <tr>\n",
       "      <td>9</td>\n",
       "      <td>Bachelors</td>\n",
       "      <td>13</td>\n",
       "    </tr>\n",
       "  </tbody>\n",
       "</table>\n",
       "</div>"
      ],
      "text/plain": [
       "    education  education_num\n",
       "0   Bachelors             13\n",
       "1   Bachelors             13\n",
       "2     HS-grad              9\n",
       "3        11th              7\n",
       "4   Bachelors             13\n",
       "5     Masters             14\n",
       "6         9th              5\n",
       "7     HS-grad              9\n",
       "8     Masters             14\n",
       "9   Bachelors             13"
      ]
     },
     "execution_count": 21,
     "metadata": {},
     "output_type": "execute_result"
    }
   ],
   "source": [
    "data[['education', 'education_num']].head(10)"
   ]
  },
  {
   "cell_type": "markdown",
   "metadata": {},
   "source": [
    "After looking at both these columns, it is evident that the latter column is just a numeric representation of the former column and hence only one of the two is needed for the analysis. Hence dropping the column education."
   ]
  },
  {
   "cell_type": "code",
   "execution_count": 22,
   "metadata": {},
   "outputs": [],
   "source": [
    "data.drop(columns = ['education'],  axis = 1, inplace = True)"
   ]
  },
  {
   "cell_type": "code",
   "execution_count": 23,
   "metadata": {},
   "outputs": [
    {
     "data": {
      "text/html": [
       "<div>\n",
       "<style scoped>\n",
       "    .dataframe tbody tr th:only-of-type {\n",
       "        vertical-align: middle;\n",
       "    }\n",
       "\n",
       "    .dataframe tbody tr th {\n",
       "        vertical-align: top;\n",
       "    }\n",
       "\n",
       "    .dataframe thead th {\n",
       "        text-align: right;\n",
       "    }\n",
       "</style>\n",
       "<table border=\"1\" class=\"dataframe\">\n",
       "  <thead>\n",
       "    <tr style=\"text-align: right;\">\n",
       "      <th></th>\n",
       "      <th>age</th>\n",
       "      <th>workclass</th>\n",
       "      <th>fnlwgt</th>\n",
       "      <th>education_num</th>\n",
       "      <th>marital_status</th>\n",
       "      <th>occupation</th>\n",
       "      <th>relationship</th>\n",
       "      <th>race</th>\n",
       "      <th>sex</th>\n",
       "      <th>capital_gain</th>\n",
       "      <th>capital_loss</th>\n",
       "      <th>hours_per_week</th>\n",
       "      <th>native_country</th>\n",
       "      <th>income</th>\n",
       "    </tr>\n",
       "  </thead>\n",
       "  <tbody>\n",
       "    <tr>\n",
       "      <td>0</td>\n",
       "      <td>39</td>\n",
       "      <td>State-gov</td>\n",
       "      <td>77516</td>\n",
       "      <td>13</td>\n",
       "      <td>Never-married</td>\n",
       "      <td>Adm-clerical</td>\n",
       "      <td>Not-in-family</td>\n",
       "      <td>White</td>\n",
       "      <td>Male</td>\n",
       "      <td>2174</td>\n",
       "      <td>0</td>\n",
       "      <td>40</td>\n",
       "      <td>United-States</td>\n",
       "      <td>&lt;=50K</td>\n",
       "    </tr>\n",
       "    <tr>\n",
       "      <td>1</td>\n",
       "      <td>50</td>\n",
       "      <td>Self-emp-not-inc</td>\n",
       "      <td>83311</td>\n",
       "      <td>13</td>\n",
       "      <td>Married-civ-spouse</td>\n",
       "      <td>Exec-managerial</td>\n",
       "      <td>Husband</td>\n",
       "      <td>White</td>\n",
       "      <td>Male</td>\n",
       "      <td>0</td>\n",
       "      <td>0</td>\n",
       "      <td>13</td>\n",
       "      <td>United-States</td>\n",
       "      <td>&lt;=50K</td>\n",
       "    </tr>\n",
       "    <tr>\n",
       "      <td>2</td>\n",
       "      <td>38</td>\n",
       "      <td>Private</td>\n",
       "      <td>215646</td>\n",
       "      <td>9</td>\n",
       "      <td>Divorced</td>\n",
       "      <td>Handlers-cleaners</td>\n",
       "      <td>Not-in-family</td>\n",
       "      <td>White</td>\n",
       "      <td>Male</td>\n",
       "      <td>0</td>\n",
       "      <td>0</td>\n",
       "      <td>40</td>\n",
       "      <td>United-States</td>\n",
       "      <td>&lt;=50K</td>\n",
       "    </tr>\n",
       "  </tbody>\n",
       "</table>\n",
       "</div>"
      ],
      "text/plain": [
       "   age          workclass  fnlwgt  education_num       marital_status  \\\n",
       "0   39          State-gov   77516             13        Never-married   \n",
       "1   50   Self-emp-not-inc   83311             13   Married-civ-spouse   \n",
       "2   38            Private  215646              9             Divorced   \n",
       "\n",
       "           occupation    relationship    race    sex  capital_gain  \\\n",
       "0        Adm-clerical   Not-in-family   White   Male          2174   \n",
       "1     Exec-managerial         Husband   White   Male             0   \n",
       "2   Handlers-cleaners   Not-in-family   White   Male             0   \n",
       "\n",
       "   capital_loss  hours_per_week  native_country  income  \n",
       "0             0              40   United-States   <=50K  \n",
       "1             0              13   United-States   <=50K  \n",
       "2             0              40   United-States   <=50K  "
      ]
     },
     "execution_count": 23,
     "metadata": {},
     "output_type": "execute_result"
    }
   ],
   "source": [
    "data.head(3)"
   ]
  },
  {
   "cell_type": "markdown",
   "metadata": {},
   "source": [
    "Convert the income column into integer for the sake of visualizing our data in the form of bar chart and scatter plots."
   ]
  },
  {
   "cell_type": "code",
   "execution_count": 24,
   "metadata": {},
   "outputs": [],
   "source": [
    "data['income'] = data['income'].astype('category')\n",
    "data = pd.get_dummies(columns = ['income'], data = data, drop_first = True)"
   ]
  },
  {
   "cell_type": "code",
   "execution_count": 25,
   "metadata": {},
   "outputs": [],
   "source": [
    "data = data.rename(columns = {'income_ >50K':'income_more_50K'})"
   ]
  },
  {
   "cell_type": "code",
   "execution_count": 26,
   "metadata": {},
   "outputs": [
    {
     "data": {
      "text/html": [
       "<div>\n",
       "<style scoped>\n",
       "    .dataframe tbody tr th:only-of-type {\n",
       "        vertical-align: middle;\n",
       "    }\n",
       "\n",
       "    .dataframe tbody tr th {\n",
       "        vertical-align: top;\n",
       "    }\n",
       "\n",
       "    .dataframe thead th {\n",
       "        text-align: right;\n",
       "    }\n",
       "</style>\n",
       "<table border=\"1\" class=\"dataframe\">\n",
       "  <thead>\n",
       "    <tr style=\"text-align: right;\">\n",
       "      <th></th>\n",
       "      <th>age</th>\n",
       "      <th>workclass</th>\n",
       "      <th>fnlwgt</th>\n",
       "      <th>education_num</th>\n",
       "      <th>marital_status</th>\n",
       "      <th>occupation</th>\n",
       "      <th>relationship</th>\n",
       "      <th>race</th>\n",
       "      <th>sex</th>\n",
       "      <th>capital_gain</th>\n",
       "      <th>capital_loss</th>\n",
       "      <th>hours_per_week</th>\n",
       "      <th>native_country</th>\n",
       "      <th>income_more_50K</th>\n",
       "    </tr>\n",
       "  </thead>\n",
       "  <tbody>\n",
       "    <tr>\n",
       "      <td>0</td>\n",
       "      <td>39</td>\n",
       "      <td>State-gov</td>\n",
       "      <td>77516</td>\n",
       "      <td>13</td>\n",
       "      <td>Never-married</td>\n",
       "      <td>Adm-clerical</td>\n",
       "      <td>Not-in-family</td>\n",
       "      <td>White</td>\n",
       "      <td>Male</td>\n",
       "      <td>2174</td>\n",
       "      <td>0</td>\n",
       "      <td>40</td>\n",
       "      <td>United-States</td>\n",
       "      <td>0</td>\n",
       "    </tr>\n",
       "    <tr>\n",
       "      <td>1</td>\n",
       "      <td>50</td>\n",
       "      <td>Self-emp-not-inc</td>\n",
       "      <td>83311</td>\n",
       "      <td>13</td>\n",
       "      <td>Married-civ-spouse</td>\n",
       "      <td>Exec-managerial</td>\n",
       "      <td>Husband</td>\n",
       "      <td>White</td>\n",
       "      <td>Male</td>\n",
       "      <td>0</td>\n",
       "      <td>0</td>\n",
       "      <td>13</td>\n",
       "      <td>United-States</td>\n",
       "      <td>0</td>\n",
       "    </tr>\n",
       "    <tr>\n",
       "      <td>2</td>\n",
       "      <td>38</td>\n",
       "      <td>Private</td>\n",
       "      <td>215646</td>\n",
       "      <td>9</td>\n",
       "      <td>Divorced</td>\n",
       "      <td>Handlers-cleaners</td>\n",
       "      <td>Not-in-family</td>\n",
       "      <td>White</td>\n",
       "      <td>Male</td>\n",
       "      <td>0</td>\n",
       "      <td>0</td>\n",
       "      <td>40</td>\n",
       "      <td>United-States</td>\n",
       "      <td>0</td>\n",
       "    </tr>\n",
       "  </tbody>\n",
       "</table>\n",
       "</div>"
      ],
      "text/plain": [
       "   age          workclass  fnlwgt  education_num       marital_status  \\\n",
       "0   39          State-gov   77516             13        Never-married   \n",
       "1   50   Self-emp-not-inc   83311             13   Married-civ-spouse   \n",
       "2   38            Private  215646              9             Divorced   \n",
       "\n",
       "           occupation    relationship    race    sex  capital_gain  \\\n",
       "0        Adm-clerical   Not-in-family   White   Male          2174   \n",
       "1     Exec-managerial         Husband   White   Male             0   \n",
       "2   Handlers-cleaners   Not-in-family   White   Male             0   \n",
       "\n",
       "   capital_loss  hours_per_week  native_country  income_more_50K  \n",
       "0             0              40   United-States                0  \n",
       "1             0              13   United-States                0  \n",
       "2             0              40   United-States                0  "
      ]
     },
     "execution_count": 26,
     "metadata": {},
     "output_type": "execute_result"
    }
   ],
   "source": [
    "data.head(3)"
   ]
  },
  {
   "cell_type": "code",
   "execution_count": 45,
   "metadata": {},
   "outputs": [
    {
     "data": {
      "image/png": "[encoded data removed]",
      "text/plain": [
       "<Figure size 1080x360 with 2 Axes>"
      ]
     },
     "metadata": {
      "needs_background": "light"
     },
     "output_type": "display_data"
    }
   ],
   "source": [
    "f, axes = plt.subplots(1, 2, figsize = (15,5), sharey = False, sharex = False)\n",
    "\n",
    "sns.scatterplot(x = 'age', y = 'income_more_50K', data = data,alpha = 0.1, ax = axes[0])\n",
    "axes[0].title.set_text(\"Income variation agewise\")\n",
    "\n",
    "sns.boxplot(x = 'income_more_50K', y = 'age', data = data,  ax = axes[1])\n",
    "axes[1].title.set_text(\"Distribution of Income agewise\")"
   ]
  },
  {
   "cell_type": "markdown",
   "metadata": {},
   "source": [
    "Looking at the plot above, it could be said that age is not a great predictor of our target variable since there are people across the entire age range who have an income both more and less than 50K."
   ]
  },
  {
   "cell_type": "code",
   "execution_count": 46,
   "metadata": {},
   "outputs": [
    {
     "data": {
      "image/png": "[encoded data removed]",
      "text/plain": [
       "<Figure size 1080x360 with 2 Axes>"
      ]
     },
     "metadata": {
      "needs_background": "light"
     },
     "output_type": "display_data"
    }
   ],
   "source": [
    "f, axes = plt.subplots(1, 2, figsize = (15,5), sharey = False, sharex = False)\n",
    "\n",
    "sns.scatterplot(x = 'hours_per_week', y = 'income_more_50K', data = data,alpha = 0.1, ax = axes[0])\n",
    "axes[0].title.set_text(\"Income variation workhourswise\")\n",
    "\n",
    "sns.boxplot(x = 'income_more_50K', y = 'hours_per_week', data = data,  ax = axes[1])\n",
    "axes[1].title.set_text(\"Distribution of Income workhourswise\")"
   ]
  },
  {
   "cell_type": "markdown",
   "metadata": {},
   "source": [
    "Again hours worked in a week doesn't seem to give a good demarcation/ convenient threshold to separate people's earnings since it's all over the place. There's no clear-cut distinction that if hours per week put in is 60/75 anything and above, you're to get more money or anything.\n",
    "\n",
    "Based on the density of the scatter points, it could be approximately said there are a few people who work less than 40 hours a week and get more than 50K as compared to those who get less.  \n",
    "\n",
    "Similarly for those who work more than 60 hours a week, there's a larger proportion of people who get paid less than those who make more than 50K."
   ]
  },
  {
   "cell_type": "code",
   "execution_count": 57,
   "metadata": {},
   "outputs": [
    {
     "data": {
      "text/plain": [
       "0         2174\n",
       "1            0\n",
       "2            0\n",
       "3            0\n",
       "4            0\n",
       "         ...  \n",
       "32556        0\n",
       "32557        0\n",
       "32558        0\n",
       "32559        0\n",
       "32560    15024\n",
       "Name: capital_gain, Length: 32561, dtype: int64"
      ]
     },
     "execution_count": 57,
     "metadata": {},
     "output_type": "execute_result"
    }
   ],
   "source": [
    "data1['capital_gain']"
   ]
  },
  {
   "cell_type": "code",
   "execution_count": 58,
   "metadata": {},
   "outputs": [
    {
     "data": {
      "image/png": "[encoded data removed]",
      "text/plain": [
       "<Figure size 1080x360 with 2 Axes>"
      ]
     },
     "metadata": {
      "needs_background": "light"
     },
     "output_type": "display_data"
    }
   ],
   "source": [
    "f, axes = plt.subplots(1, 2, figsize = (15,5), sharey = False, sharex = False)\n",
    "\n",
    "sns.scatterplot(x = 'capital_gain', y = 'income_more_50K', data = data,alpha = 0.1, ax = axes[0])\n",
    "axes[0].title.set_text(\"Income variation capital gain wise\")\n",
    "\n",
    "sns.boxplot(x = 'income_more_50K', y = 'capital_gain', data = data,  ax = axes[1])\n",
    "axes[1].title.set_text(\"Distribution of Income capital gain wise\")"
   ]
  },
  {
   "cell_type": "code",
   "execution_count": 83,
   "metadata": {},
   "outputs": [
    {
     "data": {
      "image/png": "[encoded data removed]",
      "text/plain": [
       "<Figure size 1080x360 with 2 Axes>"
      ]
     },
     "metadata": {
      "needs_background": "light"
     },
     "output_type": "display_data"
    }
   ],
   "source": [
    "f, axes = plt.subplots(1, 2, figsize = (15,5), sharey = False, sharex = False)\n",
    "\n",
    "sns.scatterplot(x = 'capital_gain', y = 'income_more_50K', data = data,alpha = 0.1, ax = axes[0])\n",
    "axes[0].title.set_text(\"Income variation capital gain wise\")\n",
    "\n",
    "sns.boxplot(x = 'income_more_50K', y = 'capital_gain', data = data,  ax = axes[1])\n",
    "axes[1].set_ylim(-100,100)\n",
    "axes[1].title.set_text(\"Distribution of Income capital gain wise with scales axes\")"
   ]
  },
  {
   "cell_type": "code",
   "execution_count": 82,
   "metadata": {},
   "outputs": [
    {
     "data": {
      "text/plain": [
       "0.0"
      ]
     },
     "execution_count": 82,
     "metadata": {},
     "output_type": "execute_result"
    }
   ],
   "source": [
    "data.capital_gain.median()"
   ]
  },
  {
   "cell_type": "markdown",
   "metadata": {},
   "source": [
    "**capital_gain** is a good predictor for edge cases between the two classes looking at the scatterplot above"
   ]
  },
  {
   "cell_type": "code",
   "execution_count": 86,
   "metadata": {},
   "outputs": [
    {
     "data": {
      "image/png": "[encoded data removed]",
      "text/plain": [
       "<Figure size 1080x360 with 2 Axes>"
      ]
     },
     "metadata": {
      "needs_background": "light"
     },
     "output_type": "display_data"
    }
   ],
   "source": [
    "f, axes = plt.subplots(1, 2, figsize = (15,5), sharey = False, sharex = False)\n",
    "\n",
    "sns.scatterplot(x = 'capital_loss', y = 'income_more_50K', data = data,alpha = 0.1, ax = axes[0])\n",
    "axes[0].title.set_text(\"Income variation capital loss wise\")\n",
    "\n",
    "sns.boxplot(x = 'income_more_50K', y = 'capital_loss', data = data,  ax = axes[1])\n",
    "axes[1].set_ylim(-2,2)\n",
    "axes[1].title.set_text(\"Distribution of Income capital loss wise with scales axes\")"
   ]
  },
  {
   "cell_type": "markdown",
   "metadata": {},
   "source": [
    "This capital loss parameter isn't a good measure to tell the two income classes apart from one another. The distribution of more than 50K income almost completely overlaps with a part of the distribution of less than 50K income since the medians of both of them are zero and their whiskers also coincide with the zero mark as can be seen in the boxplot above (with scaled y-axis. This can be inferred from the box and scatter plots above."
   ]
  },
  {
   "cell_type": "code",
   "execution_count": 88,
   "metadata": {},
   "outputs": [
    {
     "data": {
      "image/png": "[encoded data removed]",
      "text/plain": [
       "<Figure size 1080x360 with 2 Axes>"
      ]
     },
     "metadata": {
      "needs_background": "light"
     },
     "output_type": "display_data"
    }
   ],
   "source": [
    "f, axes = plt.subplots(1, 2, figsize = (15,5), sharey = False, sharex = False)\n",
    "\n",
    "sns.scatterplot(x = 'fnlwgt', y = 'income_more_50K', data = data,alpha = 0.1, ax = axes[0])\n",
    "axes[0].title.set_text(\"Income variation fnlwgt wise\")\n",
    "\n",
    "sns.boxplot(x = 'income_more_50K', y = 'fnlwgt', data = data,  ax = axes[1])\n",
    "axes[1].title.set_text(\"Distribution of Income capital fnlwgt wise\")"
   ]
  },
  {
   "cell_type": "markdown",
   "metadata": {},
   "source": [
    "This is not a good predictor since the distributions of the two income classes as a function of this fnlwgt variable are almost the same. There is no way to distinguish them apart from one another based on this predictor."
   ]
  },
  {
   "cell_type": "code",
   "execution_count": 91,
   "metadata": {},
   "outputs": [
    {
     "data": {
      "image/png": "[encoded data removed]",
      "text/plain": [
       "<Figure size 720x360 with 1 Axes>"
      ]
     },
     "metadata": {
      "needs_background": "light"
     },
     "output_type": "display_data"
    }
   ],
   "source": [
    "sns.countplot(x = 'workclass', hue = 'income_more_50K', data = data)\n",
    "plt.title(\"Distribution of income across working classes\")\n",
    "plt.xticks(rotation = 90)\n",
    "plt.show()"
   ]
  },
  {
   "cell_type": "markdown",
   "metadata": {},
   "source": [
    "Most of the population in the dataset is concentrated in the private sector and it seems like across all segments of working classes, there are more number of \"<50K\" income people than the other (except Self-Emp-inc). Also we have some missing data in this column as encoded by \"?\""
   ]
  },
  {
   "cell_type": "code",
   "execution_count": 94,
   "metadata": {},
   "outputs": [
    {
     "data": {
      "image/png": "[encoded data removed]",
      "text/plain": [
       "<Figure size 720x360 with 1 Axes>"
      ]
     },
     "metadata": {
      "needs_background": "light"
     },
     "output_type": "display_data"
    }
   ],
   "source": [
    "sns.countplot(x = 'education_num', hue = \"income_more_50K\", data = data)\n",
    "plt.title(\"Income variation with education\")\n",
    "plt.ylabel(\"Count of People\")\n",
    "plt.show()"
   ]
  },
  {
   "cell_type": "markdown",
   "metadata": {},
   "source": [
    "Most of the people are centered around the 9, 10 and 13 level educations and for that education, there are more number of people who're paid less than 50 thousand. Also, 14, 15, 16 level education people have more proportion of over 50K payees than under 50K payees. Let's see what are these."
   ]
  },
  {
   "cell_type": "code",
   "execution_count": 112,
   "metadata": {},
   "outputs": [],
   "source": [
    "labels = original[['education_num', 'education']].drop_duplicates(keep = 'first').set_index(['education_num']).to_dict()['education']"
   ]
  },
  {
   "cell_type": "code",
   "execution_count": 113,
   "metadata": {},
   "outputs": [
    {
     "name": "stdout",
     "output_type": "stream",
     "text": [
      "High proportion of population have educations:  HS-grad  Some-college  Bachelors\n",
      "Education having more overpaid than underpaid obs:  Masters  Prof-school  Doctorate\n"
     ]
    }
   ],
   "source": [
    "print(\"High proportion of population have educations: {} {} {}\".format(labels[9], labels[10], labels[13]))\n",
    "print(\"Education having more overpaid than underpaid obs: {} {} {}\".format(labels[14], labels[15], labels[16]))      "
   ]
  },
  {
   "cell_type": "code",
   "execution_count": 115,
   "metadata": {},
   "outputs": [
    {
     "data": {
      "image/png": "[encoded data removed]",
      "text/plain": [
       "<Figure size 720x360 with 1 Axes>"
      ]
     },
     "metadata": {
      "needs_background": "light"
     },
     "output_type": "display_data"
    }
   ],
   "source": [
    "sns.countplot(x = 'sex', hue = 'income_more_50K', data = data)\n",
    "plt.title(\"Income Variation With Sex\")\n",
    "plt.ylabel(\"Count of People\")\n",
    "plt.show()"
   ]
  },
  {
   "cell_type": "markdown",
   "metadata": {},
   "source": [
    "It looks like the absolute values of males in the population is more than females but also, it seems that amongst their respective groups, there's a smaller proportion of females who have more than 50K income as compared to males."
   ]
  },
  {
   "cell_type": "code",
   "execution_count": 117,
   "metadata": {},
   "outputs": [
    {
     "data": {
      "image/png": "[encoded data removed]",
      "text/plain": [
       "<Figure size 720x360 with 1 Axes>"
      ]
     },
     "metadata": {
      "needs_background": "light"
     },
     "output_type": "display_data"
    }
   ],
   "source": [
    "sns.countplot(x = 'race', hue = 'income_more_50K', data = data)\n",
    "plt.title(\"Income variation with Race\")\n",
    "plt.ylabel(\"Count of People\")\n",
    "plt.show()"
   ]
  },
  {
   "cell_type": "markdown",
   "metadata": {},
   "source": [
    "The dataset entries are predominantly for White people. Although there are some black and some other groups in the mix, there are a lot of observations for Whites followed by Blacks. It seems like there's a higher proportion of **\"Income <= 50k\"** observations in every subsection amongst the race variable."
   ]
  },
  {
   "cell_type": "code",
   "execution_count": 119,
   "metadata": {},
   "outputs": [
    {
     "data": {
      "image/png": "[encoded data removed]",
      "text/plain": [
       "<Figure size 1440x360 with 1 Axes>"
      ]
     },
     "metadata": {
      "needs_background": "light"
     },
     "output_type": "display_data"
    }
   ],
   "source": [
    "rcParams['figure.figsize'] = 20,5\n",
    "sns.countplot(x = 'occupation', hue = 'income_more_50K', data = data)\n",
    "plt.title(\"Income variation with Occupation\")\n",
    "plt.ylabel(\"Count of People\")\n",
    "plt.xticks(rotation = 90)\n",
    "plt.show()"
   ]
  },
  {
   "cell_type": "markdown",
   "metadata": {},
   "source": [
    "There are some people whose occupation is not known. They're mentioned with \"?\"  \n",
    "\n",
    "The major jobs which pay handsomely above 50K are concentrated in Exec-managerial and Prof-Speciality fields among some others.  \n",
    "\n",
    "Very few people actually opt to go for Armed Forces jobs and amongst them too, the proportion of people paid less than 50K is considerably higher.  \n",
    "\n"
   ]
  },
  {
   "cell_type": "code",
   "execution_count": 29,
   "metadata": {},
   "outputs": [
    {
     "data": {
      "text/plain": [
       "array([' Not-in-family', ' Husband', ' Wife', ' Own-child', ' Unmarried',\n",
       "       ' Other-relative'], dtype=object)"
      ]
     },
     "execution_count": 29,
     "metadata": {},
     "output_type": "execute_result"
    }
   ],
   "source": [
    "data.relationship.unique()"
   ]
  },
  {
   "cell_type": "code",
   "execution_count": 123,
   "metadata": {},
   "outputs": [
    {
     "data": {
      "image/png": "[encoded data removed]",
      "text/plain": [
       "<Figure size 720x360 with 1 Axes>"
      ]
     },
     "metadata": {
      "needs_background": "light"
     },
     "output_type": "display_data"
    }
   ],
   "source": [
    "rcParams['figure.figsize'] = 10,5\n",
    "sns.countplot(x = 'relationship', hue = 'income_more_50K', data = data)\n",
    "plt.title(\"Income variation with Relationship\")\n",
    "plt.ylabel(\"Count of People\")\n",
    "plt.show()"
   ]
  },
  {
   "cell_type": "markdown",
   "metadata": {},
   "source": [
    "The dataset is dominated by entries from Husbands and Not-in-family categories and across all categories, there are more people earning less than 50K than those earning more than 50K."
   ]
  },
  {
   "cell_type": "code",
   "execution_count": 126,
   "metadata": {},
   "outputs": [
    {
     "data": {
      "image/png": "[encoded data removed]",
      "text/plain": [
       "<Figure size 1440x720 with 1 Axes>"
      ]
     },
     "metadata": {
      "needs_background": "light"
     },
     "output_type": "display_data"
    }
   ],
   "source": [
    "rcParams['figure.figsize'] = 20,10\n",
    "sns.countplot(x = 'native_country', hue = 'income_more_50K', data = data)\n",
    "plt.title(\"Income variation with Native Country\")\n",
    "plt.ylabel(\"Count of People\")\n",
    "plt.xticks(rotation = 90)\n",
    "plt.legend(loc = 'upper right')\n",
    "plt.show()"
   ]
  },
  {
   "cell_type": "markdown",
   "metadata": {},
   "source": [
    "It can be seen that most of the datapoints come from United States and a few from Mexico. All the other countries combined cannot sum up to as many datapoints as United States. So, for the sake of imputation this seems to be the **best attribute for peforming a stratified imputation.** Also, it makes sense since geographically the features will have some resemblance with each other."
   ]
  },
  {
   "cell_type": "code",
   "execution_count": 127,
   "metadata": {},
   "outputs": [
    {
     "data": {
      "text/plain": [
       "native_country\n",
       " ?                               583\n",
       " Cambodia                         19\n",
       " Canada                          121\n",
       " China                            75\n",
       " Columbia                         59\n",
       " Cuba                             95\n",
       " Dominican-Republic               70\n",
       " Ecuador                          28\n",
       " El-Salvador                     106\n",
       " England                          90\n",
       " France                           29\n",
       " Germany                         137\n",
       " Greece                           29\n",
       " Guatemala                        64\n",
       " Haiti                            44\n",
       " Holand-Netherlands                1\n",
       " Honduras                         13\n",
       " Hong                             20\n",
       " Hungary                          13\n",
       " India                           100\n",
       " Iran                             43\n",
       " Ireland                          24\n",
       " Italy                            73\n",
       " Jamaica                          81\n",
       " Japan                            62\n",
       " Laos                             18\n",
       " Mexico                          643\n",
       " Nicaragua                        34\n",
       " Outlying-US(Guam-USVI-etc)       14\n",
       " Peru                             31\n",
       " Philippines                     198\n",
       " Poland                           60\n",
       " Portugal                         37\n",
       " Puerto-Rico                     114\n",
       " Scotland                         12\n",
       " South                            80\n",
       " Taiwan                           51\n",
       " Thailand                         18\n",
       " Trinadad&Tobago                  19\n",
       " United-States                 29170\n",
       " Vietnam                          67\n",
       " Yugoslavia                       16\n",
       "Name: age, dtype: int64"
      ]
     },
     "execution_count": 127,
     "metadata": {},
     "output_type": "execute_result"
    }
   ],
   "source": [
    "data.groupby(by = ['native_country'])['age'].count()"
   ]
  },
  {
   "cell_type": "markdown",
   "metadata": {},
   "source": [
    "There is a sizable amount of population hailing to nations not known/not mentioned. Let's label the entries containing \"?\" in the native country columns into a column called \"Others\" to denote all other countries in the world except the ones mentioned in this column.  \n",
    "\n",
    "Next, there's only one observation from Holand. 1 out of 32k observations is a tiny amount to capture the variation of a country in this model, so let's drop that observation for our analysis."
   ]
  },
  {
   "cell_type": "code",
   "execution_count": 128,
   "metadata": {},
   "outputs": [
    {
     "name": "stdout",
     "output_type": "stream",
     "text": [
      "['age', 'fnlwgt', 'capital_gain', 'capital_loss', 'hours_per_week']\n",
      "['workclass', 'education_num', 'marital_status', 'occupation', 'relationship', 'race', 'sex', 'native_country']\n",
      "1\n",
      "0\n"
     ]
    }
   ],
   "source": [
    "num_cols = ['age', 'fnlwgt','capital_gain', 'capital_loss', 'hours_per_week']\n",
    "cat_cols = []\n",
    "for i in data.columns:\n",
    "    if not i in num_cols:\n",
    "        cat_cols.append(i)\n",
    "cat_cols.remove('income_more_50K')\n",
    "print(num_cols)\n",
    "print(cat_cols)\n",
    "\n",
    "print(np.sum(data.native_country == \" Holand-Netherlands\"))\n",
    "data = data[data.native_country != \" Holand-Netherlands\"]\n",
    "print(np.sum(data.native_country == \" Holand-Netherlands\"))"
   ]
  },
  {
   "cell_type": "code",
   "execution_count": 129,
   "metadata": {},
   "outputs": [
    {
     "name": "stdout",
     "output_type": "stream",
     "text": [
      "age 0\n",
      "workclass 1836\n",
      "fnlwgt 0\n",
      "education_num 0\n",
      "marital_status 0\n",
      "occupation 1843\n",
      "relationship 0\n",
      "race 0\n",
      "sex 0\n",
      "capital_gain 0\n",
      "capital_loss 0\n",
      "hours_per_week 0\n",
      "native_country 583\n",
      "income_more_50K 0\n"
     ]
    },
    {
     "name": "stderr",
     "output_type": "stream",
     "text": [
      "C:\\Users\\nayak\\AppData\\Roaming\\Python\\Python36\\site-packages\\pandas\\core\\ops\\__init__.py:1115: FutureWarning: elementwise comparison failed; returning scalar instead, but in the future will perform elementwise comparison\n",
      "  result = method(y)\n"
     ]
    }
   ],
   "source": [
    "for i in data.columns:\n",
    "    print(i, np.sum(data[i] == \" ?\"))"
   ]
  },
  {
   "cell_type": "markdown",
   "metadata": {},
   "source": [
    "Let's label all the native_countries which have a question mark as **\"Others\"** as in the rest of the countries.  \n",
    "\n",
    "Let's use target encoding (Mode) based on country for filling in the workclass and occupation features. Before that, split the dataset into train and test sets and use the mode of train sets in order to impute the values of the test set."
   ]
  },
  {
   "cell_type": "code",
   "execution_count": 130,
   "metadata": {},
   "outputs": [
    {
     "name": "stderr",
     "output_type": "stream",
     "text": [
      "C:\\Users\\nayak\\Anaconda3\\lib\\site-packages\\ipykernel_launcher.py:4: SettingWithCopyWarning: \n",
      "A value is trying to be set on a copy of a slice from a DataFrame\n",
      "\n",
      "See the caveats in the documentation: http://pandas.pydata.org/pandas-docs/stable/user_guide/indexing.html#returning-a-view-versus-a-copy\n",
      "  after removing the cwd from sys.path.\n",
      "C:\\Users\\nayak\\AppData\\Roaming\\Python\\Python36\\site-packages\\pandas\\core\\series.py:1292: SettingWithCopyWarning: \n",
      "A value is trying to be set on a copy of a slice from a DataFrame\n",
      "\n",
      "See the caveats in the documentation: http://pandas.pydata.org/pandas-docs/stable/user_guide/indexing.html#returning-a-view-versus-a-copy\n",
      "  self._set_labels(key, value)\n",
      "C:\\Users\\nayak\\Anaconda3\\lib\\site-packages\\IPython\\core\\interactiveshell.py:3325: SettingWithCopyWarning: \n",
      "A value is trying to be set on a copy of a slice from a DataFrame\n",
      "\n",
      "See the caveats in the documentation: http://pandas.pydata.org/pandas-docs/stable/user_guide/indexing.html#returning-a-view-versus-a-copy\n",
      "  exec(code_obj, self.user_global_ns, self.user_ns)\n"
     ]
    }
   ],
   "source": [
    "# Rename all instances of ? in native_country with others\n",
    "idx = data[data.native_country == \" ?\"].index\n",
    "#print(idx)\n",
    "data.native_country[idx] = \"Others\"\n",
    "\n",
    "#Split the data into X and y\n",
    "X = data.drop(columns = ['income_more_50K'], axis = 1)\n",
    "y = data.income_more_50K\n",
    "\n",
    "# Perform a train_test_split\n",
    "from sklearn.model_selection import train_test_split\n",
    "X_train, X_test, y_train, y_test = train_test_split(X, y, stratify = y, random_state = 1425, test_size = 0.2)"
   ]
  },
  {
   "cell_type": "code",
   "execution_count": 131,
   "metadata": {
    "scrolled": true
   },
   "outputs": [
    {
     "data": {
      "text/plain": [
       "41"
      ]
     },
     "execution_count": 131,
     "metadata": {},
     "output_type": "execute_result"
    }
   ],
   "source": [
    "len(X_train.native_country.unique())"
   ]
  },
  {
   "cell_type": "code",
   "execution_count": 132,
   "metadata": {},
   "outputs": [
    {
     "data": {
      "text/plain": [
       "41"
      ]
     },
     "execution_count": 132,
     "metadata": {},
     "output_type": "execute_result"
    }
   ],
   "source": [
    "len(X_test.native_country.unique())"
   ]
  },
  {
   "cell_type": "code",
   "execution_count": 193,
   "metadata": {},
   "outputs": [],
   "source": [
    "# Get the dictionary to substitute missing data based on mode.\n",
    "X_traingby = X_train.groupby(by = ['native_country'])\n",
    "substitution_dict = X_traingby.agg(lambda x: x.value_counts().index[0]).to_dict()"
   ]
  },
  {
   "cell_type": "code",
   "execution_count": 194,
   "metadata": {},
   "outputs": [],
   "source": [
    "# A function to compute mode target encoding\n",
    "def target_encoding(y, substitution_dict, Target, to_sub):\n",
    "    '''\n",
    "    Takes in a dataframe, a dictionary containing values to substitute per attribute/feature, an int specifying the \n",
    "    column number based on which target encoding is done, and what to substitute in the feature space.\n",
    "    '''\n",
    "    for i in range(0, len(y.columns)):\n",
    "        if y.columns[i] == 'native_country':\n",
    "            continue\n",
    "        else:\n",
    "            m = substitution_dict[y.columns[i]]\n",
    "            for j in range(0, y.shape[0]):\n",
    "                if y.iloc[j,i] == to_sub:\n",
    "                    y.iloc[j,i] = m[y.iloc[j,Target]]\n",
    "    return y"
   ]
  },
  {
   "cell_type": "code",
   "execution_count": 195,
   "metadata": {},
   "outputs": [
    {
     "name": "stdout",
     "output_type": "stream",
     "text": [
      "age 0 0\n",
      "workclass 0 0\n",
      "fnlwgt 0 0\n",
      "education_num 0 0\n",
      "marital_status 0 0\n",
      "occupation 0 0\n",
      "relationship 0 0\n",
      "race 0 0\n",
      "sex 0 0\n",
      "capital_gain 0 0\n",
      "capital_loss 0 0\n",
      "hours_per_week 0 0\n",
      "native_country 0 0\n"
     ]
    },
    {
     "name": "stderr",
     "output_type": "stream",
     "text": [
      "C:\\Users\\nayak\\AppData\\Roaming\\Python\\Python36\\site-packages\\pandas\\core\\ops\\__init__.py:1115: FutureWarning: elementwise comparison failed; returning scalar instead, but in the future will perform elementwise comparison\n",
      "  result = method(y)\n"
     ]
    }
   ],
   "source": [
    "# Imputing and checking if all the missing values have been imputed properly\n",
    "X_train = target_encoding(X_train.copy(), substitution_dict, 12, \" ?\")\n",
    "X_test = target_encoding(X_test.copy(), substitution_dict, 12, \" ?\")\n",
    "for i in X_train.columns:\n",
    "    print(i, np.sum(X_train[i] == \" ?\"), np.sum(X_test[i] == \" ?\"))"
   ]
  },
  {
   "cell_type": "code",
   "execution_count": 196,
   "metadata": {},
   "outputs": [
    {
     "data": {
      "text/plain": [
       "array([[ 0.53667037,  0.741201  , -0.14681138, -0.21945985, -0.03126165],\n",
       "       [-1.00005115, -1.45096277, -0.14681138, -0.21945985,  0.7767623 ],\n",
       "       [-0.56098786, -0.07500912, -0.14681138, -0.21945985, -0.27366883],\n",
       "       ...,\n",
       "       [ 0.6830248 ,  0.02949201, -0.14681138, -0.21945985, -0.03126165],\n",
       "       [ 1.70750582, -1.12414321, -0.14681138, -0.21945985,  1.18077427],\n",
       "       [-0.04874735,  1.59799463, -0.14681138, -0.21945985, -0.03126165]])"
      ]
     },
     "execution_count": 196,
     "metadata": {},
     "output_type": "execute_result"
    }
   ],
   "source": [
    "from sklearn.preprocessing import StandardScaler\n",
    "\n",
    "stdzer = StandardScaler()\n",
    "stdzer.fit(X_train[num_cols])\n",
    "stdzer.transform(X_train[num_cols])"
   ]
  },
  {
   "cell_type": "code",
   "execution_count": 197,
   "metadata": {},
   "outputs": [],
   "source": [
    "X_train = pd.get_dummies(columns = cat_cols, data = X_train, drop_first = True)\n",
    "X_test = pd.get_dummies(columns = cat_cols, data = X_test, drop_first = True)"
   ]
  },
  {
   "cell_type": "code",
   "execution_count": 198,
   "metadata": {},
   "outputs": [
    {
     "name": "stdout",
     "output_type": "stream",
     "text": [
      "# Train Columns: 96\n",
      "# Test Columns: 96\n"
     ]
    }
   ],
   "source": [
    "print(\"# Train Columns: \" + str(len(X_train.columns)))\n",
    "print(\"# Test Columns: \" + str(len(X_test.columns)))"
   ]
  },
  {
   "cell_type": "code",
   "execution_count": 199,
   "metadata": {},
   "outputs": [],
   "source": [
    "x = pd.DataFrame(np.sum(X_train) / (np.sum(X_train) + np.sum(X_test)), index = X_train.columns, columns = ['Percent Train Data'])"
   ]
  },
  {
   "cell_type": "markdown",
   "metadata": {},
   "source": [
    "The above step confirms that train data contains at least some proportion of data corresponding to the individual categories and it will therefore be definitely trained (how good will it work, don't know but it won't crash) to handle those categories in the test data."
   ]
  },
  {
   "cell_type": "markdown",
   "metadata": {},
   "source": [
    "Standardizing the data before model building since the numerical features are along widely different scales."
   ]
  },
  {
   "cell_type": "code",
   "execution_count": 200,
   "metadata": {},
   "outputs": [
    {
     "data": {
      "text/plain": [
       "StandardScaler(copy=True, with_mean=True, with_std=True)"
      ]
     },
     "execution_count": 200,
     "metadata": {},
     "output_type": "execute_result"
    }
   ],
   "source": [
    "from sklearn.preprocessing import StandardScaler\n",
    "stdzer = StandardScaler()\n",
    "stdzer.fit(X_train[num_cols])"
   ]
  },
  {
   "cell_type": "code",
   "execution_count": 201,
   "metadata": {},
   "outputs": [
    {
     "data": {
      "text/html": [
       "<div>\n",
       "<style scoped>\n",
       "    .dataframe tbody tr th:only-of-type {\n",
       "        vertical-align: middle;\n",
       "    }\n",
       "\n",
       "    .dataframe tbody tr th {\n",
       "        vertical-align: top;\n",
       "    }\n",
       "\n",
       "    .dataframe thead th {\n",
       "        text-align: right;\n",
       "    }\n",
       "</style>\n",
       "<table border=\"1\" class=\"dataframe\">\n",
       "  <thead>\n",
       "    <tr style=\"text-align: right;\">\n",
       "      <th></th>\n",
       "      <th>workclass_ Local-gov</th>\n",
       "      <th>workclass_ Never-worked</th>\n",
       "      <th>workclass_ Private</th>\n",
       "      <th>workclass_ Self-emp-inc</th>\n",
       "      <th>workclass_ Self-emp-not-inc</th>\n",
       "      <th>workclass_ State-gov</th>\n",
       "      <th>workclass_ Without-pay</th>\n",
       "      <th>education_num_2</th>\n",
       "      <th>education_num_3</th>\n",
       "      <th>education_num_4</th>\n",
       "      <th>...</th>\n",
       "      <th>native_country_ Trinadad&amp;Tobago</th>\n",
       "      <th>native_country_ United-States</th>\n",
       "      <th>native_country_ Vietnam</th>\n",
       "      <th>native_country_ Yugoslavia</th>\n",
       "      <th>native_country_Others</th>\n",
       "      <th>age</th>\n",
       "      <th>fnlwgt</th>\n",
       "      <th>capital_gain</th>\n",
       "      <th>capital_loss</th>\n",
       "      <th>hours_per_week</th>\n",
       "    </tr>\n",
       "    <tr>\n",
       "      <th>index</th>\n",
       "      <th></th>\n",
       "      <th></th>\n",
       "      <th></th>\n",
       "      <th></th>\n",
       "      <th></th>\n",
       "      <th></th>\n",
       "      <th></th>\n",
       "      <th></th>\n",
       "      <th></th>\n",
       "      <th></th>\n",
       "      <th></th>\n",
       "      <th></th>\n",
       "      <th></th>\n",
       "      <th></th>\n",
       "      <th></th>\n",
       "      <th></th>\n",
       "      <th></th>\n",
       "      <th></th>\n",
       "      <th></th>\n",
       "      <th></th>\n",
       "      <th></th>\n",
       "    </tr>\n",
       "  </thead>\n",
       "  <tbody>\n",
       "    <tr>\n",
       "      <td>10636</td>\n",
       "      <td>0</td>\n",
       "      <td>0</td>\n",
       "      <td>1</td>\n",
       "      <td>0</td>\n",
       "      <td>0</td>\n",
       "      <td>0</td>\n",
       "      <td>0</td>\n",
       "      <td>0</td>\n",
       "      <td>0</td>\n",
       "      <td>0</td>\n",
       "      <td>...</td>\n",
       "      <td>0</td>\n",
       "      <td>1</td>\n",
       "      <td>0</td>\n",
       "      <td>0</td>\n",
       "      <td>0</td>\n",
       "      <td>0.536670</td>\n",
       "      <td>0.741201</td>\n",
       "      <td>-0.146811</td>\n",
       "      <td>-0.21946</td>\n",
       "      <td>-0.031262</td>\n",
       "    </tr>\n",
       "    <tr>\n",
       "      <td>7313</td>\n",
       "      <td>0</td>\n",
       "      <td>0</td>\n",
       "      <td>1</td>\n",
       "      <td>0</td>\n",
       "      <td>0</td>\n",
       "      <td>0</td>\n",
       "      <td>0</td>\n",
       "      <td>0</td>\n",
       "      <td>0</td>\n",
       "      <td>0</td>\n",
       "      <td>...</td>\n",
       "      <td>0</td>\n",
       "      <td>1</td>\n",
       "      <td>0</td>\n",
       "      <td>0</td>\n",
       "      <td>0</td>\n",
       "      <td>-1.000051</td>\n",
       "      <td>-1.450963</td>\n",
       "      <td>-0.146811</td>\n",
       "      <td>-0.21946</td>\n",
       "      <td>0.776762</td>\n",
       "    </tr>\n",
       "    <tr>\n",
       "      <td>21229</td>\n",
       "      <td>0</td>\n",
       "      <td>0</td>\n",
       "      <td>1</td>\n",
       "      <td>0</td>\n",
       "      <td>0</td>\n",
       "      <td>0</td>\n",
       "      <td>0</td>\n",
       "      <td>0</td>\n",
       "      <td>0</td>\n",
       "      <td>0</td>\n",
       "      <td>...</td>\n",
       "      <td>0</td>\n",
       "      <td>1</td>\n",
       "      <td>0</td>\n",
       "      <td>0</td>\n",
       "      <td>0</td>\n",
       "      <td>-0.560988</td>\n",
       "      <td>-0.075009</td>\n",
       "      <td>-0.146811</td>\n",
       "      <td>-0.21946</td>\n",
       "      <td>-0.273669</td>\n",
       "    </tr>\n",
       "    <tr>\n",
       "      <td>72</td>\n",
       "      <td>0</td>\n",
       "      <td>0</td>\n",
       "      <td>0</td>\n",
       "      <td>0</td>\n",
       "      <td>1</td>\n",
       "      <td>0</td>\n",
       "      <td>0</td>\n",
       "      <td>0</td>\n",
       "      <td>0</td>\n",
       "      <td>0</td>\n",
       "      <td>...</td>\n",
       "      <td>0</td>\n",
       "      <td>1</td>\n",
       "      <td>0</td>\n",
       "      <td>0</td>\n",
       "      <td>0</td>\n",
       "      <td>-0.707342</td>\n",
       "      <td>-0.263274</td>\n",
       "      <td>-0.146811</td>\n",
       "      <td>-0.21946</td>\n",
       "      <td>2.392810</td>\n",
       "    </tr>\n",
       "    <tr>\n",
       "      <td>17447</td>\n",
       "      <td>0</td>\n",
       "      <td>0</td>\n",
       "      <td>1</td>\n",
       "      <td>0</td>\n",
       "      <td>0</td>\n",
       "      <td>0</td>\n",
       "      <td>0</td>\n",
       "      <td>0</td>\n",
       "      <td>0</td>\n",
       "      <td>0</td>\n",
       "      <td>...</td>\n",
       "      <td>0</td>\n",
       "      <td>0</td>\n",
       "      <td>0</td>\n",
       "      <td>0</td>\n",
       "      <td>0</td>\n",
       "      <td>-1.292760</td>\n",
       "      <td>-0.358544</td>\n",
       "      <td>-0.146811</td>\n",
       "      <td>-0.21946</td>\n",
       "      <td>-0.031262</td>\n",
       "    </tr>\n",
       "  </tbody>\n",
       "</table>\n",
       "<p>5 rows × 96 columns</p>\n",
       "</div>"
      ],
      "text/plain": [
       "       workclass_ Local-gov  workclass_ Never-worked  workclass_ Private  \\\n",
       "index                                                                      \n",
       "10636                     0                        0                   1   \n",
       "7313                      0                        0                   1   \n",
       "21229                     0                        0                   1   \n",
       "72                        0                        0                   0   \n",
       "17447                     0                        0                   1   \n",
       "\n",
       "       workclass_ Self-emp-inc  workclass_ Self-emp-not-inc  \\\n",
       "index                                                         \n",
       "10636                        0                            0   \n",
       "7313                         0                            0   \n",
       "21229                        0                            0   \n",
       "72                           0                            1   \n",
       "17447                        0                            0   \n",
       "\n",
       "       workclass_ State-gov  workclass_ Without-pay  education_num_2  \\\n",
       "index                                                                  \n",
       "10636                     0                       0                0   \n",
       "7313                      0                       0                0   \n",
       "21229                     0                       0                0   \n",
       "72                        0                       0                0   \n",
       "17447                     0                       0                0   \n",
       "\n",
       "       education_num_3  education_num_4  ...  native_country_ Trinadad&Tobago  \\\n",
       "index                                    ...                                    \n",
       "10636                0                0  ...                                0   \n",
       "7313                 0                0  ...                                0   \n",
       "21229                0                0  ...                                0   \n",
       "72                   0                0  ...                                0   \n",
       "17447                0                0  ...                                0   \n",
       "\n",
       "       native_country_ United-States  native_country_ Vietnam  \\\n",
       "index                                                           \n",
       "10636                              1                        0   \n",
       "7313                               1                        0   \n",
       "21229                              1                        0   \n",
       "72                                 1                        0   \n",
       "17447                              0                        0   \n",
       "\n",
       "       native_country_ Yugoslavia  native_country_Others       age    fnlwgt  \\\n",
       "index                                                                          \n",
       "10636                           0                      0  0.536670  0.741201   \n",
       "7313                            0                      0 -1.000051 -1.450963   \n",
       "21229                           0                      0 -0.560988 -0.075009   \n",
       "72                              0                      0 -0.707342 -0.263274   \n",
       "17447                           0                      0 -1.292760 -0.358544   \n",
       "\n",
       "       capital_gain  capital_loss  hours_per_week  \n",
       "index                                              \n",
       "10636     -0.146811      -0.21946       -0.031262  \n",
       "7313      -0.146811      -0.21946        0.776762  \n",
       "21229     -0.146811      -0.21946       -0.273669  \n",
       "72        -0.146811      -0.21946        2.392810  \n",
       "17447     -0.146811      -0.21946       -0.031262  \n",
       "\n",
       "[5 rows x 96 columns]"
      ]
     },
     "execution_count": 201,
     "metadata": {},
     "output_type": "execute_result"
    }
   ],
   "source": [
    "# Standardize the numerical features in train data\n",
    "X_train_num_cols = X_train[num_cols]\n",
    "X_train.drop(columns = num_cols, inplace = True)\n",
    "X_train = pd.concat([X_train.reset_index(), pd.DataFrame(stdzer.transform(X_train_num_cols),columns = num_cols)], axis = 1).set_index(\"index\")\n",
    "X_train.head()"
   ]
  },
  {
   "cell_type": "code",
   "execution_count": 202,
   "metadata": {},
   "outputs": [
    {
     "data": {
      "text/html": [
       "<div>\n",
       "<style scoped>\n",
       "    .dataframe tbody tr th:only-of-type {\n",
       "        vertical-align: middle;\n",
       "    }\n",
       "\n",
       "    .dataframe tbody tr th {\n",
       "        vertical-align: top;\n",
       "    }\n",
       "\n",
       "    .dataframe thead th {\n",
       "        text-align: right;\n",
       "    }\n",
       "</style>\n",
       "<table border=\"1\" class=\"dataframe\">\n",
       "  <thead>\n",
       "    <tr style=\"text-align: right;\">\n",
       "      <th></th>\n",
       "      <th>workclass_ Local-gov</th>\n",
       "      <th>workclass_ Never-worked</th>\n",
       "      <th>workclass_ Private</th>\n",
       "      <th>workclass_ Self-emp-inc</th>\n",
       "      <th>workclass_ Self-emp-not-inc</th>\n",
       "      <th>workclass_ State-gov</th>\n",
       "      <th>workclass_ Without-pay</th>\n",
       "      <th>education_num_2</th>\n",
       "      <th>education_num_3</th>\n",
       "      <th>education_num_4</th>\n",
       "      <th>...</th>\n",
       "      <th>native_country_ Trinadad&amp;Tobago</th>\n",
       "      <th>native_country_ United-States</th>\n",
       "      <th>native_country_ Vietnam</th>\n",
       "      <th>native_country_ Yugoslavia</th>\n",
       "      <th>native_country_Others</th>\n",
       "      <th>age</th>\n",
       "      <th>fnlwgt</th>\n",
       "      <th>capital_gain</th>\n",
       "      <th>capital_loss</th>\n",
       "      <th>hours_per_week</th>\n",
       "    </tr>\n",
       "    <tr>\n",
       "      <th>index</th>\n",
       "      <th></th>\n",
       "      <th></th>\n",
       "      <th></th>\n",
       "      <th></th>\n",
       "      <th></th>\n",
       "      <th></th>\n",
       "      <th></th>\n",
       "      <th></th>\n",
       "      <th></th>\n",
       "      <th></th>\n",
       "      <th></th>\n",
       "      <th></th>\n",
       "      <th></th>\n",
       "      <th></th>\n",
       "      <th></th>\n",
       "      <th></th>\n",
       "      <th></th>\n",
       "      <th></th>\n",
       "      <th></th>\n",
       "      <th></th>\n",
       "      <th></th>\n",
       "    </tr>\n",
       "  </thead>\n",
       "  <tbody>\n",
       "    <tr>\n",
       "      <td>2178</td>\n",
       "      <td>0</td>\n",
       "      <td>0</td>\n",
       "      <td>1</td>\n",
       "      <td>0</td>\n",
       "      <td>0</td>\n",
       "      <td>0</td>\n",
       "      <td>0</td>\n",
       "      <td>0</td>\n",
       "      <td>0</td>\n",
       "      <td>0</td>\n",
       "      <td>...</td>\n",
       "      <td>0</td>\n",
       "      <td>1</td>\n",
       "      <td>0</td>\n",
       "      <td>0</td>\n",
       "      <td>0</td>\n",
       "      <td>-0.121925</td>\n",
       "      <td>0.108564</td>\n",
       "      <td>-0.146811</td>\n",
       "      <td>-0.21946</td>\n",
       "      <td>-0.031262</td>\n",
       "    </tr>\n",
       "    <tr>\n",
       "      <td>13801</td>\n",
       "      <td>0</td>\n",
       "      <td>0</td>\n",
       "      <td>0</td>\n",
       "      <td>0</td>\n",
       "      <td>1</td>\n",
       "      <td>0</td>\n",
       "      <td>0</td>\n",
       "      <td>0</td>\n",
       "      <td>0</td>\n",
       "      <td>0</td>\n",
       "      <td>...</td>\n",
       "      <td>0</td>\n",
       "      <td>1</td>\n",
       "      <td>0</td>\n",
       "      <td>0</td>\n",
       "      <td>0</td>\n",
       "      <td>0.024430</td>\n",
       "      <td>-0.824240</td>\n",
       "      <td>-0.146811</td>\n",
       "      <td>-0.21946</td>\n",
       "      <td>0.776762</td>\n",
       "    </tr>\n",
       "    <tr>\n",
       "      <td>10896</td>\n",
       "      <td>0</td>\n",
       "      <td>0</td>\n",
       "      <td>1</td>\n",
       "      <td>0</td>\n",
       "      <td>0</td>\n",
       "      <td>0</td>\n",
       "      <td>0</td>\n",
       "      <td>0</td>\n",
       "      <td>0</td>\n",
       "      <td>0</td>\n",
       "      <td>...</td>\n",
       "      <td>0</td>\n",
       "      <td>1</td>\n",
       "      <td>0</td>\n",
       "      <td>0</td>\n",
       "      <td>0</td>\n",
       "      <td>-0.195102</td>\n",
       "      <td>0.077345</td>\n",
       "      <td>1.974453</td>\n",
       "      <td>-0.21946</td>\n",
       "      <td>0.776762</td>\n",
       "    </tr>\n",
       "    <tr>\n",
       "      <td>12103</td>\n",
       "      <td>1</td>\n",
       "      <td>0</td>\n",
       "      <td>0</td>\n",
       "      <td>0</td>\n",
       "      <td>0</td>\n",
       "      <td>0</td>\n",
       "      <td>0</td>\n",
       "      <td>0</td>\n",
       "      <td>0</td>\n",
       "      <td>0</td>\n",
       "      <td>...</td>\n",
       "      <td>0</td>\n",
       "      <td>0</td>\n",
       "      <td>0</td>\n",
       "      <td>0</td>\n",
       "      <td>0</td>\n",
       "      <td>1.122088</td>\n",
       "      <td>1.658339</td>\n",
       "      <td>-0.146811</td>\n",
       "      <td>-0.21946</td>\n",
       "      <td>-0.031262</td>\n",
       "    </tr>\n",
       "    <tr>\n",
       "      <td>30987</td>\n",
       "      <td>0</td>\n",
       "      <td>0</td>\n",
       "      <td>1</td>\n",
       "      <td>0</td>\n",
       "      <td>0</td>\n",
       "      <td>0</td>\n",
       "      <td>0</td>\n",
       "      <td>0</td>\n",
       "      <td>0</td>\n",
       "      <td>0</td>\n",
       "      <td>...</td>\n",
       "      <td>0</td>\n",
       "      <td>1</td>\n",
       "      <td>0</td>\n",
       "      <td>0</td>\n",
       "      <td>0</td>\n",
       "      <td>-1.512292</td>\n",
       "      <td>0.042505</td>\n",
       "      <td>-0.146811</td>\n",
       "      <td>-0.21946</td>\n",
       "      <td>-0.273669</td>\n",
       "    </tr>\n",
       "  </tbody>\n",
       "</table>\n",
       "<p>5 rows × 96 columns</p>\n",
       "</div>"
      ],
      "text/plain": [
       "       workclass_ Local-gov  workclass_ Never-worked  workclass_ Private  \\\n",
       "index                                                                      \n",
       "2178                      0                        0                   1   \n",
       "13801                     0                        0                   0   \n",
       "10896                     0                        0                   1   \n",
       "12103                     1                        0                   0   \n",
       "30987                     0                        0                   1   \n",
       "\n",
       "       workclass_ Self-emp-inc  workclass_ Self-emp-not-inc  \\\n",
       "index                                                         \n",
       "2178                         0                            0   \n",
       "13801                        0                            1   \n",
       "10896                        0                            0   \n",
       "12103                        0                            0   \n",
       "30987                        0                            0   \n",
       "\n",
       "       workclass_ State-gov  workclass_ Without-pay  education_num_2  \\\n",
       "index                                                                  \n",
       "2178                      0                       0                0   \n",
       "13801                     0                       0                0   \n",
       "10896                     0                       0                0   \n",
       "12103                     0                       0                0   \n",
       "30987                     0                       0                0   \n",
       "\n",
       "       education_num_3  education_num_4  ...  native_country_ Trinadad&Tobago  \\\n",
       "index                                    ...                                    \n",
       "2178                 0                0  ...                                0   \n",
       "13801                0                0  ...                                0   \n",
       "10896                0                0  ...                                0   \n",
       "12103                0                0  ...                                0   \n",
       "30987                0                0  ...                                0   \n",
       "\n",
       "       native_country_ United-States  native_country_ Vietnam  \\\n",
       "index                                                           \n",
       "2178                               1                        0   \n",
       "13801                              1                        0   \n",
       "10896                              1                        0   \n",
       "12103                              0                        0   \n",
       "30987                              1                        0   \n",
       "\n",
       "       native_country_ Yugoslavia  native_country_Others       age    fnlwgt  \\\n",
       "index                                                                          \n",
       "2178                            0                      0 -0.121925  0.108564   \n",
       "13801                           0                      0  0.024430 -0.824240   \n",
       "10896                           0                      0 -0.195102  0.077345   \n",
       "12103                           0                      0  1.122088  1.658339   \n",
       "30987                           0                      0 -1.512292  0.042505   \n",
       "\n",
       "       capital_gain  capital_loss  hours_per_week  \n",
       "index                                              \n",
       "2178      -0.146811      -0.21946       -0.031262  \n",
       "13801     -0.146811      -0.21946        0.776762  \n",
       "10896      1.974453      -0.21946        0.776762  \n",
       "12103     -0.146811      -0.21946       -0.031262  \n",
       "30987     -0.146811      -0.21946       -0.273669  \n",
       "\n",
       "[5 rows x 96 columns]"
      ]
     },
     "execution_count": 202,
     "metadata": {},
     "output_type": "execute_result"
    }
   ],
   "source": [
    "# Standardize the numerical features in test data\n",
    "X_test_num_cols = X_test[num_cols]\n",
    "X_test.drop(columns = num_cols, inplace = True)\n",
    "X_test = pd.concat([X_test.reset_index(), pd.DataFrame(stdzer.transform(X_test_num_cols),columns = num_cols)], axis = 1).set_index(\"index\")\n",
    "X_test.head()"
   ]
  },
  {
   "cell_type": "markdown",
   "metadata": {},
   "source": [
    "# Logistic Regression"
   ]
  },
  {
   "cell_type": "code",
   "execution_count": 143,
   "metadata": {},
   "outputs": [
    {
     "name": "stdout",
     "output_type": "stream",
     "text": [
      "LogisticRegression(C=545.5594781168514, class_weight=None, dual=False,\n",
      "                   fit_intercept=True, intercept_scaling=1, l1_ratio=None,\n",
      "                   max_iter=100, multi_class='warn', n_jobs=None, penalty='l2',\n",
      "                   random_state=None, solver='liblinear', tol=0.0001, verbose=0,\n",
      "                   warm_start=False)\n"
     ]
    }
   ],
   "source": [
    "from sklearn.linear_model import LogisticRegression\n",
    "from sklearn.model_selection import GridSearchCV\n",
    "from sklearn.metrics import classification_report\n",
    "\n",
    "params = {'C': list(np.logspace(-4,4,num = 20))}\n",
    "LRClf = LogisticRegression(solver = 'liblinear')\n",
    "\n",
    "gdCV = GridSearchCV(LRClf, param_grid=params, scoring = 'recall', cv = 3, refit = True)\n",
    "gdCV.fit(X_train, y_train)\n",
    "print(gdCV.best_estimator_)"
   ]
  },
  {
   "cell_type": "code",
   "execution_count": 144,
   "metadata": {},
   "outputs": [],
   "source": [
    "y_test_prob = []\n",
    "for i in gdCV.predict_proba(X_test):\n",
    "    y_test_prob.append(i[1])"
   ]
  },
  {
   "cell_type": "code",
   "execution_count": 145,
   "metadata": {},
   "outputs": [
    {
     "name": "stdout",
     "output_type": "stream",
     "text": [
      "AUC for this classifier is 0.907\n"
     ]
    }
   ],
   "source": [
    "from sklearn.metrics import roc_curve\n",
    "from sklearn.metrics import roc_auc_score\n",
    "\n",
    "fpr, tpr, threshold = roc_curve(y_test, y_test_prob, pos_label = 1)\n",
    "print(\"AUC for this classifier is {:.3f}\".format(roc_auc_score(y_test, y_test_prob)))\n",
    "\n",
    "AUC_DF = pd.DataFrame({'TPR': tpr, 'FPR':fpr, 'Thr': np.round(threshold,3)})"
   ]
  },
  {
   "cell_type": "code",
   "execution_count": 151,
   "metadata": {},
   "outputs": [
    {
     "data": {
      "image/png": "[encoded data removed]",
      "text/plain": [
       "<Figure size 576x360 with 1 Axes>"
      ]
     },
     "metadata": {
      "needs_background": "light"
     },
     "output_type": "display_data"
    }
   ],
   "source": [
    "rcParams['figure.figsize'] = 8,5\n",
    "sns.lineplot(x = 'FPR', y = 'TPR', data = AUC_DF)\n",
    "plt.xlabel(\"1 - Precision i.e. FPR\")\n",
    "plt.ylabel(\"True Positive Rate\")\n",
    "plt.title(\"Receiver Operating Characteristics\")\n",
    "plt.show()"
   ]
  },
  {
   "cell_type": "markdown",
   "metadata": {},
   "source": [
    "Looking at the AUC Curve, it seems as if the best tradeoff is somewhere close to $FPR < 0.2$ and $TPR > 0.8$. So have a sneak peak at those values in our dataframe and select appropriate threshold."
   ]
  },
  {
   "cell_type": "code",
   "execution_count": 152,
   "metadata": {},
   "outputs": [
    {
     "data": {
      "text/html": [
       "<div>\n",
       "<style scoped>\n",
       "    .dataframe tbody tr th:only-of-type {\n",
       "        vertical-align: middle;\n",
       "    }\n",
       "\n",
       "    .dataframe tbody tr th {\n",
       "        vertical-align: top;\n",
       "    }\n",
       "\n",
       "    .dataframe thead th {\n",
       "        text-align: right;\n",
       "    }\n",
       "</style>\n",
       "<table border=\"1\" class=\"dataframe\">\n",
       "  <thead>\n",
       "    <tr style=\"text-align: right;\">\n",
       "      <th></th>\n",
       "      <th>TPR</th>\n",
       "      <th>FPR</th>\n",
       "      <th>Thr</th>\n",
       "    </tr>\n",
       "  </thead>\n",
       "  <tbody>\n",
       "    <tr>\n",
       "      <td>778</td>\n",
       "      <td>0.800383</td>\n",
       "      <td>0.159385</td>\n",
       "      <td>0.292</td>\n",
       "    </tr>\n",
       "    <tr>\n",
       "      <td>779</td>\n",
       "      <td>0.800383</td>\n",
       "      <td>0.159790</td>\n",
       "      <td>0.291</td>\n",
       "    </tr>\n",
       "    <tr>\n",
       "      <td>780</td>\n",
       "      <td>0.801020</td>\n",
       "      <td>0.159790</td>\n",
       "      <td>0.291</td>\n",
       "    </tr>\n",
       "    <tr>\n",
       "      <td>781</td>\n",
       "      <td>0.801020</td>\n",
       "      <td>0.160194</td>\n",
       "      <td>0.291</td>\n",
       "    </tr>\n",
       "    <tr>\n",
       "      <td>782</td>\n",
       "      <td>0.801658</td>\n",
       "      <td>0.160194</td>\n",
       "      <td>0.291</td>\n",
       "    </tr>\n",
       "    <tr>\n",
       "      <td>...</td>\n",
       "      <td>...</td>\n",
       "      <td>...</td>\n",
       "      <td>...</td>\n",
       "    </tr>\n",
       "    <tr>\n",
       "      <td>888</td>\n",
       "      <td>0.849490</td>\n",
       "      <td>0.197209</td>\n",
       "      <td>0.248</td>\n",
       "    </tr>\n",
       "    <tr>\n",
       "      <td>889</td>\n",
       "      <td>0.849490</td>\n",
       "      <td>0.197816</td>\n",
       "      <td>0.247</td>\n",
       "    </tr>\n",
       "    <tr>\n",
       "      <td>890</td>\n",
       "      <td>0.850128</td>\n",
       "      <td>0.197816</td>\n",
       "      <td>0.247</td>\n",
       "    </tr>\n",
       "    <tr>\n",
       "      <td>891</td>\n",
       "      <td>0.850128</td>\n",
       "      <td>0.198018</td>\n",
       "      <td>0.247</td>\n",
       "    </tr>\n",
       "    <tr>\n",
       "      <td>892</td>\n",
       "      <td>0.852041</td>\n",
       "      <td>0.198018</td>\n",
       "      <td>0.247</td>\n",
       "    </tr>\n",
       "  </tbody>\n",
       "</table>\n",
       "<p>115 rows × 3 columns</p>\n",
       "</div>"
      ],
      "text/plain": [
       "          TPR       FPR    Thr\n",
       "778  0.800383  0.159385  0.292\n",
       "779  0.800383  0.159790  0.291\n",
       "780  0.801020  0.159790  0.291\n",
       "781  0.801020  0.160194  0.291\n",
       "782  0.801658  0.160194  0.291\n",
       "..        ...       ...    ...\n",
       "888  0.849490  0.197209  0.248\n",
       "889  0.849490  0.197816  0.247\n",
       "890  0.850128  0.197816  0.247\n",
       "891  0.850128  0.198018  0.247\n",
       "892  0.852041  0.198018  0.247\n",
       "\n",
       "[115 rows x 3 columns]"
      ]
     },
     "execution_count": 152,
     "metadata": {},
     "output_type": "execute_result"
    }
   ],
   "source": [
    "AUC_DF[(AUC_DF.TPR > 0.8) &  (AUC_DF.FPR < 0.2)]"
   ]
  },
  {
   "cell_type": "markdown",
   "metadata": {},
   "source": [
    "Select a threshold of 0.25 after observing the dataframe above."
   ]
  },
  {
   "cell_type": "code",
   "execution_count": 153,
   "metadata": {},
   "outputs": [
    {
     "data": {
      "text/plain": [
       "[1, 1, 0, 0, 1, 0, 1, 1, 1, 0]"
      ]
     },
     "execution_count": 153,
     "metadata": {},
     "output_type": "execute_result"
    }
   ],
   "source": [
    "y_pred_test = []\n",
    "for i in y_test_prob:\n",
    "    if i > 0.25:\n",
    "        y_pred_test.append(1)\n",
    "    else:\n",
    "        y_pred_test.append(0)\n",
    "y_pred_test[:10]"
   ]
  },
  {
   "cell_type": "code",
   "execution_count": 154,
   "metadata": {},
   "outputs": [
    {
     "name": "stdout",
     "output_type": "stream",
     "text": [
      "              precision    recall  f1-score   support\n",
      "\n",
      "           0       0.94      0.81      0.87      4944\n",
      "           1       0.58      0.85      0.69      1568\n",
      "\n",
      "    accuracy                           0.82      6512\n",
      "   macro avg       0.76      0.83      0.78      6512\n",
      "weighted avg       0.86      0.82      0.83      6512\n",
      "\n"
     ]
    }
   ],
   "source": [
    "print(classification_report(y_test, y_pred_test))"
   ]
  },
  {
   "cell_type": "markdown",
   "metadata": {},
   "source": [
    "We can see from the above statistics that our classifier is good at correctly predicting the class of people having income less than 50K. But for the class of people with income more than 50K, it takes a blow as it cannot give a good tradeoff between precision and recall. That's a drawback of this classifier. Let's try to implement some other better classifiers for this problem."
   ]
  },
  {
   "cell_type": "markdown",
   "metadata": {},
   "source": [
    "# SVM"
   ]
  },
  {
   "cell_type": "code",
   "execution_count": 155,
   "metadata": {},
   "outputs": [
    {
     "name": "stderr",
     "output_type": "stream",
     "text": [
      "C:\\Users\\nayak\\AppData\\Roaming\\Python\\Python36\\site-packages\\sklearn\\svm\\base.py:193: FutureWarning: The default value of gamma will change from 'auto' to 'scale' in version 0.22 to account better for unscaled features. Set gamma explicitly to 'auto' or 'scale' to avoid this warning.\n",
      "  \"avoid this warning.\", FutureWarning)\n"
     ]
    },
    {
     "name": "stdout",
     "output_type": "stream",
     "text": [
      "              precision    recall  f1-score   support\n",
      "\n",
      "           0       0.87      0.94      0.91      4944\n",
      "           1       0.77      0.57      0.65      1568\n",
      "\n",
      "    accuracy                           0.85      6512\n",
      "   macro avg       0.82      0.76      0.78      6512\n",
      "weighted avg       0.85      0.85      0.85      6512\n",
      "\n"
     ]
    }
   ],
   "source": [
    "# SVM with RBF kernel\n",
    "from sklearn.svm import SVC\n",
    "LSVC = SVC(C = 1, kernel = 'rbf', random_state = 0)\n",
    "\n",
    "LSVC.fit(X_train, y_train)\n",
    "y_pred_test_SVC = LSVC.predict(X_test)\n",
    "\n",
    "print(classification_report(y_test, y_pred_test_SVC))"
   ]
  },
  {
   "cell_type": "code",
   "execution_count": 156,
   "metadata": {},
   "outputs": [
    {
     "name": "stderr",
     "output_type": "stream",
     "text": [
      "C:\\Users\\nayak\\AppData\\Roaming\\Python\\Python36\\site-packages\\sklearn\\svm\\base.py:193: FutureWarning: The default value of gamma will change from 'auto' to 'scale' in version 0.22 to account better for unscaled features. Set gamma explicitly to 'auto' or 'scale' to avoid this warning.\n",
      "  \"avoid this warning.\", FutureWarning)\n"
     ]
    },
    {
     "name": "stdout",
     "output_type": "stream",
     "text": [
      "              precision    recall  f1-score   support\n",
      "\n",
      "           0       0.81      0.99      0.89      4944\n",
      "           1       0.86      0.27      0.41      1568\n",
      "\n",
      "    accuracy                           0.81      6512\n",
      "   macro avg       0.84      0.63      0.65      6512\n",
      "weighted avg       0.82      0.81      0.77      6512\n",
      "\n"
     ]
    }
   ],
   "source": [
    "# SVM with linear kernel\n",
    "from sklearn.svm import SVC\n",
    "LSVC = SVC(C = 1, kernel = 'poly', degree = 2, random_state = 0)\n",
    "\n",
    "LSVC.fit(X_train, y_train)\n",
    "y_pred_test_SVC = LSVC.predict(X_test)\n",
    "\n",
    "print(classification_report(y_test, y_pred_test_SVC))"
   ]
  },
  {
   "cell_type": "code",
   "execution_count": 59,
   "metadata": {},
   "outputs": [],
   "source": [
    "# from sklearn.model_selection import GridSearchCV\n",
    "\n",
    "# params_grid = {'kernel':['rbf', 'poly'],\n",
    "#              'degree':[1,2,3,4],\n",
    "#              'C': [0.01,0.1,1,10,],\n",
    "#              'gamma': [0.01,0.1,1,10,]}\n",
    "\n",
    "# model = SVC(random_state = 0)\n",
    "\n",
    "# gdCV = GridSearchCV(estimator=model,\n",
    "#                    param_grid = params_grid,\n",
    "#                    scoring = \"recall\",\n",
    "#                    n_jobs = -1,\n",
    "#                    cv = 2, verbose = 0)\n",
    "\n",
    "# gdCV.fit(X_train, y_train)\n",
    "\n",
    "# print(gdCV.best_params_)\n",
    "\n",
    "# y_pred_test_SVC = gdCV.best_estimator_.fit(X_train, y_train).predict(X_test)\n",
    "# print(classification_report(y_test, y_pred_test_SVC))"
   ]
  },
  {
   "cell_type": "markdown",
   "metadata": {},
   "source": [
    "SVM classifier is not working as good as Logistic Regression clssifier and also it's not intuitively interpretable. \n",
    "\n",
    "Firstly, we tried to build a classifier with our intuition using polynomial and RBF kernels which failed miserably on the test data. So, we chose to build a GridSearchCV object to give us the best out of the available parameters which included almost all of the parameters.\n",
    "\n",
    "The choice of any kernel or any regularization parameter or any gamma value/degree of polynomial doesn't seem to be working well with this classifier. Hence this is not the right kind of classifier to use in our scenario."
   ]
  },
  {
   "cell_type": "markdown",
   "metadata": {},
   "source": [
    "# Logistic Regression"
   ]
  },
  {
   "cell_type": "code",
   "execution_count": 184,
   "metadata": {},
   "outputs": [
    {
     "name": "stderr",
     "output_type": "stream",
     "text": [
      "C:\\Users\\nayak\\AppData\\Roaming\\Python\\Python36\\site-packages\\sklearn\\linear_model\\logistic.py:432: FutureWarning: Default solver will be changed to 'lbfgs' in 0.22. Specify a solver to silence this warning.\n",
      "  FutureWarning)\n"
     ]
    },
    {
     "name": "stdout",
     "output_type": "stream",
     "text": [
      "              precision    recall  f1-score   support\n",
      "\n",
      "           0       0.88      0.94      0.91      4944\n",
      "           1       0.75      0.60      0.67      1568\n",
      "\n",
      "    accuracy                           0.86      6512\n",
      "   macro avg       0.82      0.77      0.79      6512\n",
      "weighted avg       0.85      0.86      0.85      6512\n",
      "\n"
     ]
    }
   ],
   "source": [
    "from sklearn.metrics import classification_report\n",
    "from sklearn.linear_model import LogisticRegression\n",
    "LRC = LogisticRegression()\n",
    "\n",
    "LRC.fit(X_train, y_train)\n",
    "y_pred_LRC = LRC.predict(X_test)\n",
    "\n",
    "print(classification_report(y_test, y_pred_LRC))"
   ]
  },
  {
   "cell_type": "markdown",
   "metadata": {},
   "source": [
    "# Decision Trees"
   ]
  },
  {
   "cell_type": "code",
   "execution_count": 177,
   "metadata": {},
   "outputs": [
    {
     "name": "stdout",
     "output_type": "stream",
     "text": [
      "              precision    recall  f1-score   support\n",
      "\n",
      "           0       0.83      0.95      0.89      4944\n",
      "           1       0.71      0.39      0.51      1568\n",
      "\n",
      "    accuracy                           0.82      6512\n",
      "   macro avg       0.77      0.67      0.70      6512\n",
      "weighted avg       0.80      0.82      0.80      6512\n",
      "\n"
     ]
    }
   ],
   "source": [
    "from sklearn.tree import DecisionTreeClassifier\n",
    "DTC = DecisionTreeClassifier(criterion = 'gini', max_features = 'sqrt', max_depth = 10, random_state = 0)\n",
    "\n",
    "DTC.fit(X_train, y_train)\n",
    "y_pred_DT = DTC.predict(X_test)\n",
    "\n",
    "print(classification_report(y_test, y_pred_DT))"
   ]
  },
  {
   "cell_type": "markdown",
   "metadata": {},
   "source": [
    "# Random Forest"
   ]
  },
  {
   "cell_type": "code",
   "execution_count": 157,
   "metadata": {},
   "outputs": [
    {
     "name": "stdout",
     "output_type": "stream",
     "text": [
      "              precision    recall  f1-score   support\n",
      "\n",
      "           0       0.88      0.93      0.91      4944\n",
      "           1       0.74      0.61      0.67      1568\n",
      "\n",
      "    accuracy                           0.85      6512\n",
      "   macro avg       0.81      0.77      0.79      6512\n",
      "weighted avg       0.85      0.85      0.85      6512\n",
      "\n"
     ]
    }
   ],
   "source": [
    "from sklearn.ensemble import RandomForestClassifier\n",
    "rfc = RandomForestClassifier(n_estimators = 50)\n",
    "\n",
    "rfc.fit(X_train, y_train)\n",
    "y_pred_test_RF = rfc.predict(X_test)\n",
    "\n",
    "print(classification_report(y_test, y_pred_test_RF))"
   ]
  },
  {
   "cell_type": "markdown",
   "metadata": {},
   "source": [
    "As seen from the above report, using random forests increases the error compared to a simple Logistic Regression Classifier and hence we would rather select that over these other methods. Also Random Forest Algorithm takes quite some while for running."
   ]
  },
  {
   "cell_type": "markdown",
   "metadata": {},
   "source": [
    "# Randomized Search CV "
   ]
  },
  {
   "cell_type": "code",
   "execution_count": 159,
   "metadata": {},
   "outputs": [],
   "source": [
    "from sklearn.model_selection import RandomizedSearchCV"
   ]
  },
  {
   "cell_type": "code",
   "execution_count": 171,
   "metadata": {},
   "outputs": [
    {
     "name": "stdout",
     "output_type": "stream",
     "text": [
      "              precision    recall  f1-score   support\n",
      "\n",
      "           0       0.88      0.96      0.91      4944\n",
      "           1       0.80      0.58      0.67      1568\n",
      "\n",
      "    accuracy                           0.86      6512\n",
      "   macro avg       0.84      0.77      0.79      6512\n",
      "weighted avg       0.86      0.86      0.86      6512\n",
      "\n"
     ]
    }
   ],
   "source": [
    "from sklearn.model_selection import RandomizedSearchCV\n",
    "from sklearn.ensemble import RandomForestClassifier\n",
    "\n",
    "params_grid = {'criterion':['gini', 'entropy'],\n",
    "              'max_depth':[5,10,20,25,30,40,50,60,80,100],\n",
    "              'min_samples_leaf':[10,20,30,40,50,100,200],\n",
    "              'n_estimators':[10,20,30,40]}\n",
    "\n",
    "RFC = RandomForestClassifier(random_state = 0, n_estimators = 10)\n",
    "\n",
    "RFCV = RandomizedSearchCV(estimator = RFC, param_distributions = params_grid, n_iter = 20, scoring = 'f1', refit = True, cv = 3)\n",
    "RFCV.fit(X_train, y_train)\n",
    "\n",
    "y_pred_RFCV = RFCV.predict(X_test)\n",
    "print(classification_report(y_test, y_pred_RFCV))"
   ]
  },
  {
   "cell_type": "code",
   "execution_count": 169,
   "metadata": {},
   "outputs": [
    {
     "name": "stdout",
     "output_type": "stream",
     "text": [
      "{'bootstrap': True, 'class_weight': None, 'criterion': 'entropy', 'max_depth': 60, 'max_features': 'auto', 'max_leaf_nodes': None, 'min_impurity_decrease': 0.0, 'min_impurity_split': None, 'min_samples_leaf': 10, 'min_samples_split': 2, 'min_weight_fraction_leaf': 0.0, 'n_estimators': 30, 'n_jobs': None, 'oob_score': False, 'random_state': 0, 'verbose': 0, 'warm_start': False}\n"
     ]
    }
   ],
   "source": [
    "print(RFCV.best_estimator_.get_params())"
   ]
  },
  {
   "cell_type": "markdown",
   "metadata": {},
   "source": [
    "# Gradient Boosted Trees "
   ]
  },
  {
   "cell_type": "code",
   "execution_count": 172,
   "metadata": {},
   "outputs": [],
   "source": [
    "from sklearn.ensemble import GradientBoostingClassifier"
   ]
  },
  {
   "cell_type": "code",
   "execution_count": 173,
   "metadata": {},
   "outputs": [
    {
     "name": "stdout",
     "output_type": "stream",
     "text": [
      "              precision    recall  f1-score   support\n",
      "\n",
      "           0       0.88      0.96      0.91      4944\n",
      "           1       0.80      0.58      0.67      1568\n",
      "\n",
      "    accuracy                           0.86      6512\n",
      "   macro avg       0.84      0.77      0.79      6512\n",
      "weighted avg       0.86      0.86      0.86      6512\n",
      "\n"
     ]
    }
   ],
   "source": [
    "GBC = GradientBoostingClassifier(learning_rate=0.1, n_estimators = 50, max_features=\"sqrt\")\n",
    "GBC.fit(X_train, y_train)\n",
    "\n",
    "y_pred_GBC = GBC.predict(X_test)\n",
    "print(classification_report(y_test, y_pred_RFCV))"
   ]
  },
  {
   "cell_type": "markdown",
   "metadata": {},
   "source": [
    "# Stacking"
   ]
  },
  {
   "cell_type": "code",
   "execution_count": 178,
   "metadata": {},
   "outputs": [],
   "source": [
    "from mlxtend.classifier import StackingClassifier"
   ]
  },
  {
   "cell_type": "code",
   "execution_count": 183,
   "metadata": {},
   "outputs": [
    {
     "name": "stderr",
     "output_type": "stream",
     "text": [
      "C:\\Users\\nayak\\AppData\\Roaming\\Python\\Python36\\site-packages\\sklearn\\linear_model\\logistic.py:432: FutureWarning: Default solver will be changed to 'lbfgs' in 0.22. Specify a solver to silence this warning.\n",
      "  FutureWarning)\n"
     ]
    },
    {
     "name": "stdout",
     "output_type": "stream",
     "text": [
      "              precision    recall  f1-score   support\n",
      "\n",
      "           0       0.88      0.93      0.90      4944\n",
      "           1       0.73      0.61      0.66      1568\n",
      "\n",
      "    accuracy                           0.85      6512\n",
      "   macro avg       0.80      0.77      0.78      6512\n",
      "weighted avg       0.84      0.85      0.85      6512\n",
      "\n"
     ]
    },
    {
     "name": "stderr",
     "output_type": "stream",
     "text": [
      "C:\\Users\\nayak\\AppData\\Roaming\\Python\\Python36\\site-packages\\sklearn\\linear_model\\logistic.py:432: FutureWarning: Default solver will be changed to 'lbfgs' in 0.22. Specify a solver to silence this warning.\n",
      "  FutureWarning)\n"
     ]
    }
   ],
   "source": [
    "model1 = LogisticRegression()\n",
    "model2 = DecisionTreeClassifier(criterion = 'gini', max_features = 'sqrt', max_depth = 10, random_state = 0)\n",
    "model3 = RandomForestClassifier(n_estimators = 50)\n",
    "model4 = GradientBoostingClassifier(learning_rate=0.1, n_estimators = 50, max_features=\"sqrt\")\n",
    "\n",
    "meta_model = LogisticRegression()\n",
    "\n",
    "stack = StackingClassifier(classifiers=[model1, model2, model3, model4], meta_classifier=meta_model)\n",
    "\n",
    "stack.fit(X_train, y_train)\n",
    "y_pred_stacked = stack.predict(X_test)\n",
    "\n",
    "print(classification_report(y_test, y_pred_stacked))"
   ]
  },
  {
   "cell_type": "markdown",
   "metadata": {},
   "source": [
    "# AdaBoost Classifier"
   ]
  },
  {
   "cell_type": "code",
   "execution_count": 187,
   "metadata": {},
   "outputs": [
    {
     "name": "stdout",
     "output_type": "stream",
     "text": [
      "              precision    recall  f1-score   support\n",
      "\n",
      "           0       0.82      0.96      0.89      4944\n",
      "           1       0.75      0.33      0.46      1568\n",
      "\n",
      "    accuracy                           0.81      6512\n",
      "   macro avg       0.78      0.65      0.67      6512\n",
      "weighted avg       0.80      0.81      0.78      6512\n",
      "\n"
     ]
    }
   ],
   "source": [
    "from sklearn.ensemble import AdaBoostClassifier\n",
    "\n",
    "estimator_model = AdaBoostClassifier(base_estimator = LogisticRegression(solver = 'liblinear'),\n",
    "                                    n_estimators = 100,\n",
    "                                    learning_rate=0.1,\n",
    "                                    random_state = 0)\n",
    "estimator_model.fit(X_train, y_train)\n",
    "y_pred_adaboost = estimator_model.predict(X_test)\n",
    "\n",
    "print(classification_report(y_test, y_pred_adaboost))"
   ]
  },
  {
   "cell_type": "markdown",
   "metadata": {},
   "source": [
    "# SMOTE "
   ]
  },
  {
   "cell_type": "code",
   "execution_count": 189,
   "metadata": {},
   "outputs": [],
   "source": [
    "from imblearn.over_sampling import SMOTE"
   ]
  },
  {
   "cell_type": "code",
   "execution_count": 203,
   "metadata": {},
   "outputs": [],
   "source": [
    "SMT = SMOTE()\n",
    "X_tr1, y_tr1 = SMT.fit_sample(X_train, y_train)"
   ]
  },
  {
   "cell_type": "code",
   "execution_count": 205,
   "metadata": {},
   "outputs": [
    {
     "data": {
      "text/plain": [
       "array([17303, 17303], dtype=int64)"
      ]
     },
     "execution_count": 205,
     "metadata": {},
     "output_type": "execute_result"
    }
   ],
   "source": [
    "np.bincount(y_tr1)"
   ]
  },
  {
   "cell_type": "code",
   "execution_count": 206,
   "metadata": {},
   "outputs": [
    {
     "name": "stderr",
     "output_type": "stream",
     "text": [
      "C:\\Users\\nayak\\AppData\\Roaming\\Python\\Python36\\site-packages\\sklearn\\linear_model\\logistic.py:432: FutureWarning: Default solver will be changed to 'lbfgs' in 0.22. Specify a solver to silence this warning.\n",
      "  FutureWarning)\n"
     ]
    },
    {
     "name": "stdout",
     "output_type": "stream",
     "text": [
      "              precision    recall  f1-score   support\n",
      "\n",
      "           0       0.94      0.80      0.87      7416\n",
      "           1       0.57      0.85      0.69      2352\n",
      "\n",
      "    accuracy                           0.81      9768\n",
      "   macro avg       0.76      0.83      0.78      9768\n",
      "weighted avg       0.85      0.81      0.82      9768\n",
      "\n"
     ]
    }
   ],
   "source": [
    "from sklearn.metrics import classification_report\n",
    "from sklearn.linear_model import LogisticRegression\n",
    "LRC = LogisticRegression()\n",
    "\n",
    "LRC.fit(X_tr1, y_tr1)\n",
    "y_pred_LRC = LRC.predict(X_test)\n",
    "\n",
    "print(classification_report(y_test, y_pred_LRC))"
   ]
  }
 ],
 "metadata": {
  "kernelspec": {
   "display_name": "Python 3",
   "language": "python",
   "name": "python3"
  },
  "language_info": {
   "codemirror_mode": {
    "name": "ipython",
    "version": 3
   },
   "file_extension": ".py",
   "mimetype": "text/x-python",
   "name": "python",
   "nbconvert_exporter": "python",
   "pygments_lexer": "ipython3",
   "version": "3.6.8"
  }
 },
 "nbformat": 4,
 "nbformat_minor": 2
}
