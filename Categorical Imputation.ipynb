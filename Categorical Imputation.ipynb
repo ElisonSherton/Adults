{
 "cells": [
  {
   "cell_type": "code",
   "execution_count": 1,
   "metadata": {},
   "outputs": [],
   "source": [
    "import pandas as pd\n",
    "import numpy as np\n",
    "from sklearn.preprocessing import Imputer"
   ]
  },
  {
   "cell_type": "code",
   "execution_count": 2,
   "metadata": {},
   "outputs": [],
   "source": [
    "a = ['Shubham', 'Vinayak', 'Badreesh', 'Aditya', 'Kuntal', 'Sneha']\n",
    "var1 = [15,20,20,20,25,15]\n",
    "var2 = [np.nan,np.nan,'X','Y','X','X']\n",
    "var3 = [np.nan, 's','f', 's', 's', np.nan]\n",
    "\n",
    "x = []\n",
    "for i,j,k in zip(var1, var2, var3):\n",
    "    x.append([i,j,k])\n",
    "\n",
    "d = pd.DataFrame(x,index = a, columns = ['Num', 'Cat', 'Cat1'])"
   ]
  },
  {
   "cell_type": "code",
   "execution_count": 3,
   "metadata": {},
   "outputs": [
    {
     "data": {
      "text/html": [
       "<div>\n",
       "<style scoped>\n",
       "    .dataframe tbody tr th:only-of-type {\n",
       "        vertical-align: middle;\n",
       "    }\n",
       "\n",
       "    .dataframe tbody tr th {\n",
       "        vertical-align: top;\n",
       "    }\n",
       "\n",
       "    .dataframe thead th {\n",
       "        text-align: right;\n",
       "    }\n",
       "</style>\n",
       "<table border=\"1\" class=\"dataframe\">\n",
       "  <thead>\n",
       "    <tr style=\"text-align: right;\">\n",
       "      <th></th>\n",
       "      <th>Num</th>\n",
       "      <th>Cat</th>\n",
       "      <th>Cat1</th>\n",
       "    </tr>\n",
       "  </thead>\n",
       "  <tbody>\n",
       "    <tr>\n",
       "      <td>Shubham</td>\n",
       "      <td>15</td>\n",
       "      <td>NaN</td>\n",
       "      <td>NaN</td>\n",
       "    </tr>\n",
       "    <tr>\n",
       "      <td>Vinayak</td>\n",
       "      <td>20</td>\n",
       "      <td>NaN</td>\n",
       "      <td>s</td>\n",
       "    </tr>\n",
       "    <tr>\n",
       "      <td>Badreesh</td>\n",
       "      <td>20</td>\n",
       "      <td>X</td>\n",
       "      <td>f</td>\n",
       "    </tr>\n",
       "    <tr>\n",
       "      <td>Aditya</td>\n",
       "      <td>20</td>\n",
       "      <td>Y</td>\n",
       "      <td>s</td>\n",
       "    </tr>\n",
       "    <tr>\n",
       "      <td>Kuntal</td>\n",
       "      <td>25</td>\n",
       "      <td>X</td>\n",
       "      <td>s</td>\n",
       "    </tr>\n",
       "    <tr>\n",
       "      <td>Sneha</td>\n",
       "      <td>15</td>\n",
       "      <td>X</td>\n",
       "      <td>NaN</td>\n",
       "    </tr>\n",
       "  </tbody>\n",
       "</table>\n",
       "</div>"
      ],
      "text/plain": [
       "          Num  Cat Cat1\n",
       "Shubham    15  NaN  NaN\n",
       "Vinayak    20  NaN    s\n",
       "Badreesh   20    X    f\n",
       "Aditya     20    Y    s\n",
       "Kuntal     25    X    s\n",
       "Sneha      15    X  NaN"
      ]
     },
     "execution_count": 3,
     "metadata": {},
     "output_type": "execute_result"
    }
   ],
   "source": [
    "d"
   ]
  },
  {
   "cell_type": "code",
   "execution_count": 4,
   "metadata": {},
   "outputs": [
    {
     "data": {
      "text/plain": [
       "Num        int64\n",
       "Cat     category\n",
       "Cat1    category\n",
       "dtype: object"
      ]
     },
     "execution_count": 4,
     "metadata": {},
     "output_type": "execute_result"
    }
   ],
   "source": [
    "d.Cat = d.Cat.astype('category')\n",
    "d.Cat1 = d.Cat1.astype('category')\n",
    "d.dtypes"
   ]
  },
  {
   "cell_type": "code",
   "execution_count": 5,
   "metadata": {},
   "outputs": [
    {
     "data": {
      "text/plain": [
       "Shubham     X\n",
       "Vinayak     X\n",
       "Badreesh    X\n",
       "Aditya      Y\n",
       "Kuntal      X\n",
       "Sneha       X\n",
       "Name: Cat, dtype: category\n",
       "Categories (2, object): [X, Y]"
      ]
     },
     "execution_count": 5,
     "metadata": {},
     "output_type": "execute_result"
    }
   ],
   "source": [
    "d['Cat'].fillna(d['Cat'].value_counts().index[0])"
   ]
  },
  {
   "cell_type": "code",
   "execution_count": 6,
   "metadata": {},
   "outputs": [],
   "source": [
    "cat_cols = ['Cat', 'Cat1']\n",
    "sub_dict = {}\n",
    "for i in cat_cols:\n",
    "    sub_dict[i] = d[i].value_counts().index[0]    "
   ]
  },
  {
   "cell_type": "code",
   "execution_count": 7,
   "metadata": {},
   "outputs": [
    {
     "data": {
      "text/plain": [
       "{'Cat': 'X', 'Cat1': 's'}"
      ]
     },
     "execution_count": 7,
     "metadata": {},
     "output_type": "execute_result"
    }
   ],
   "source": [
    "sub_dict"
   ]
  },
  {
   "cell_type": "code",
   "execution_count": 8,
   "metadata": {},
   "outputs": [],
   "source": [
    "for i in sub_dict.keys():\n",
    "    d[i] = d[i].fillna(sub_dict[i])"
   ]
  },
  {
   "cell_type": "code",
   "execution_count": 9,
   "metadata": {},
   "outputs": [
    {
     "data": {
      "text/html": [
       "<div>\n",
       "<style scoped>\n",
       "    .dataframe tbody tr th:only-of-type {\n",
       "        vertical-align: middle;\n",
       "    }\n",
       "\n",
       "    .dataframe tbody tr th {\n",
       "        vertical-align: top;\n",
       "    }\n",
       "\n",
       "    .dataframe thead th {\n",
       "        text-align: right;\n",
       "    }\n",
       "</style>\n",
       "<table border=\"1\" class=\"dataframe\">\n",
       "  <thead>\n",
       "    <tr style=\"text-align: right;\">\n",
       "      <th></th>\n",
       "      <th>Num</th>\n",
       "      <th>Cat</th>\n",
       "      <th>Cat1</th>\n",
       "    </tr>\n",
       "  </thead>\n",
       "  <tbody>\n",
       "    <tr>\n",
       "      <td>Shubham</td>\n",
       "      <td>15</td>\n",
       "      <td>X</td>\n",
       "      <td>s</td>\n",
       "    </tr>\n",
       "    <tr>\n",
       "      <td>Vinayak</td>\n",
       "      <td>20</td>\n",
       "      <td>X</td>\n",
       "      <td>s</td>\n",
       "    </tr>\n",
       "    <tr>\n",
       "      <td>Badreesh</td>\n",
       "      <td>20</td>\n",
       "      <td>X</td>\n",
       "      <td>f</td>\n",
       "    </tr>\n",
       "    <tr>\n",
       "      <td>Aditya</td>\n",
       "      <td>20</td>\n",
       "      <td>Y</td>\n",
       "      <td>s</td>\n",
       "    </tr>\n",
       "    <tr>\n",
       "      <td>Kuntal</td>\n",
       "      <td>25</td>\n",
       "      <td>X</td>\n",
       "      <td>s</td>\n",
       "    </tr>\n",
       "    <tr>\n",
       "      <td>Sneha</td>\n",
       "      <td>15</td>\n",
       "      <td>X</td>\n",
       "      <td>s</td>\n",
       "    </tr>\n",
       "  </tbody>\n",
       "</table>\n",
       "</div>"
      ],
      "text/plain": [
       "          Num Cat Cat1\n",
       "Shubham    15   X    s\n",
       "Vinayak    20   X    s\n",
       "Badreesh   20   X    f\n",
       "Aditya     20   Y    s\n",
       "Kuntal     25   X    s\n",
       "Sneha      15   X    s"
      ]
     },
     "execution_count": 9,
     "metadata": {},
     "output_type": "execute_result"
    }
   ],
   "source": [
    "d"
   ]
  },
  {
   "cell_type": "code",
   "execution_count": null,
   "metadata": {},
   "outputs": [],
   "source": []
  }
 ],
 "metadata": {
  "kernelspec": {
   "display_name": "Python 3",
   "language": "python",
   "name": "python3"
  },
  "language_info": {
   "codemirror_mode": {
    "name": "ipython",
    "version": 3
   },
   "file_extension": ".py",
   "mimetype": "text/x-python",
   "name": "python",
   "nbconvert_exporter": "python",
   "pygments_lexer": "ipython3",
   "version": "3.6.8"
  }
 },
 "nbformat": 4,
 "nbformat_minor": 2
}
